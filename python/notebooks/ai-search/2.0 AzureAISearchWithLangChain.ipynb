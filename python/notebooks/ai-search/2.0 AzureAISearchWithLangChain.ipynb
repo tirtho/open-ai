{
 "cells": [
  {
   "cell_type": "markdown",
   "metadata": {
    "nteract": {
     "transient": {
      "deleting": false
     }
    }
   },
   "source": [
    "# Azure Cognitive Search Vector Search Using LangChain\n",
    "\n",
    "Use Azure Cognitive Search to retrieve relevant content to build effective prompt for Azure Open AI. The example below uses LangChain modules to perform the task.\n",
    "\n",
    "## Setup\n",
    "#### Follow [README](https://github.com/tirtho/open-ai/blob/main/README.md) and perform setup before running the notebooks\n",
    "\n",
    "#### Reference :\n",
    "- [Azure Open AI](https://learn.microsoft.com/en-us/azure/cognitive-services/openai/overview)\n",
    "- [LangChain home page](https://python.langchain.com/docs/get_started/introduction.html)\n",
    "- [Azure Cognitive Search](https://learn.microsoft.com/en-us/azure/search/search-what-is-azure-search)\n",
    "- [Azure Cognitive Search as vector store](https://github.com/hwchase17/langchain/pull/5146/files/ef78d38fd12a6edcf6b04ab06493305d0d601ac3..f9b67d653854ef08e3dc56563964bb86deba9d8e)\n",
    "- [LangChain Data connection Vector store integration with Azure Cognitive Search](https://python.langchain.com/docs/modules/data_connection/vectorstores/integrations/azuresearch)\n",
    "\n",
    "#### Load the API key and relevant Python libaries."
   ]
  },
  {
   "cell_type": "markdown",
   "metadata": {},
   "source": [
    "#### Install the python libraries\n",
    "- > pip install openai num2words matplotlib plotly scipy scikit-learn pandas tiktoken \n",
    "\n",
    "- > pip install --index-url=https://pkgs.dev.azure.com/azure-sdk/public/_packaging/azure-sdk-for-python/pypi/simple/ azure-search-documents==11.4.0a20230509004\n",
    "\n"
   ]
  },
  {
   "cell_type": "markdown",
   "metadata": {},
   "source": [
    "#### Load the API keys"
   ]
  },
  {
   "cell_type": "code",
   "execution_count": 1,
   "metadata": {
    "gather": {
     "logged": 1685732595135
    },
    "jupyter": {
     "outputs_hidden": false,
     "source_hidden": false
    },
    "nteract": {
     "transient": {
      "deleting": false
     }
    }
   },
   "outputs": [
    {
     "name": "stdout",
     "output_type": "stream",
     "text": [
      "Got Azure OpenAI Credentials from Azure Key Vault with Azure CLI Auth\n"
     ]
    }
   ],
   "source": [
    "import openai\n",
    "import sys\n",
    "\n",
    "from azure_openai_setup import set_openai_config, get_openai_global_config_parameters\n",
    "\n",
    "set_openai_config()\n",
    "\n",
    "theOpenAIParams, modelName, modelDeploymentName = get_openai_global_config_parameters()"
   ]
  },
  {
   "cell_type": "markdown",
   "metadata": {},
   "source": [
    "#### Get the Azure Cognitive Search keys from Azure Key Vault\n",
    "Note: You need the Search Admin Key"
   ]
  },
  {
   "cell_type": "code",
   "execution_count": 2,
   "metadata": {},
   "outputs": [
    {
     "name": "stdout",
     "output_type": "stream",
     "text": [
      "Getting Azure Cognitive Search Credentials from Azure Key Vault with Azure CLI Auth\n"
     ]
    }
   ],
   "source": [
    "from azure_cognitive_search_setup import set_cognitive_search_config, create_cognitive_search_index\n",
    "\n",
    "azureSearchAdminKey, azureSearchEndpoint, azureSearchIndexName = set_cognitive_search_config()"
   ]
  },
  {
   "cell_type": "markdown",
   "metadata": {},
   "source": [
    "#### Create the Search Index in Azure Cognitive Search\n",
    "<font color=red>Note: This will delete your existing index</font>"
   ]
  },
  {
   "cell_type": "code",
   "execution_count": 3,
   "metadata": {},
   "outputs": [
    {
     "name": "stdout",
     "output_type": "stream",
     "text": [
      " tr-demo-billsum-index created\n"
     ]
    }
   ],
   "source": [
    "from azure.core.credentials import AzureKeyCredential  \n",
    "from azure.search.documents import SearchClient  \n",
    "from azure.search.documents.indexes import SearchIndexClient  \n",
    "\n",
    "cog_search_key_credential = AzureKeyCredential(azureSearchAdminKey)\n",
    "cog_search_index_client = SearchIndexClient(\n",
    "                                endpoint=azureSearchEndpoint,\n",
    "                                credential=cog_search_key_credential  \n",
    "                            )\n",
    "\n",
    "search_index = create_cognitive_search_index(\n",
    "                    index_name=azureSearchIndexName,\n",
    "                    search_index_client=cog_search_index_client\n",
    "               )\n",
    "print(f' {search_index.name} created')    "
   ]
  },
  {
   "cell_type": "markdown",
   "metadata": {},
   "source": [
    "#### Other modules needed"
   ]
  },
  {
   "cell_type": "code",
   "execution_count": 4,
   "metadata": {},
   "outputs": [],
   "source": [
    "from langchain.embeddings.openai import OpenAIEmbeddings\n",
    "from langchain.schema import BaseRetriever\n",
    "from langchain.vectorstores.azuresearch import AzureSearch"
   ]
  },
  {
   "cell_type": "markdown",
   "metadata": {},
   "source": [
    "#### Create the Azure Open AI Embeddings and AzureSearch classes:"
   ]
  },
  {
   "cell_type": "code",
   "execution_count": 5,
   "metadata": {},
   "outputs": [],
   "source": [
    "from azure_openai_setup import get_azure_openai_embeddings \n",
    "\n",
    "embeddings = get_azure_openai_embeddings()"
   ]
  },
  {
   "cell_type": "code",
   "execution_count": 6,
   "metadata": {},
   "outputs": [],
   "source": [
    "vector_store: AzureSearch = AzureSearch(\n",
    "                                azure_search_endpoint=azureSearchEndpoint,\n",
    "                                azure_search_key=azureSearchAdminKey,\n",
    "                                index_name=azureSearchIndexName,\n",
    "                                embedding_function=embeddings.embed_query,\n",
    "                            )"
   ]
  },
  {
   "cell_type": "markdown",
   "metadata": {},
   "source": [
    "### Load the BillSum Dataset\n",
    "BillSum is a dataset of United States Congressional and California state bills. For illustration purposes, we'll look only at the US bills. The corpus consists of bills from the 103rd-115th (1993-2018) sessions of Congress. The data was split into 18,949 train bills and 3,269 test bills. The BillSum corpus focuses on mid-length legislation from 5,000 to 20,000 characters in length. More information on the project and the original academic paper where this dataset is derived from can be found on the BillSum project's GitHub repository.\n",
    "\n",
    "We saved it in ../data/bill_sum_data.csv"
   ]
  },
  {
   "cell_type": "markdown",
   "metadata": {},
   "source": [
    "#### Load, cleanup, select text, summary and title columns and select rows with less than 8192 tokens "
   ]
  },
  {
   "cell_type": "code",
   "execution_count": 7,
   "metadata": {},
   "outputs": [],
   "source": [
    "from num2words import num2words\n",
    "import os\n",
    "import pandas as pd\n",
    "import numpy as np"
   ]
  },
  {
   "cell_type": "code",
   "execution_count": 8,
   "metadata": {},
   "outputs": [],
   "source": [
    "df=pd.read_csv(os.path.join(os.getcwd(),'./data/bill_sum_data_curated.csv')) # This assumes that you have placed the bill_sum_data.csv in the same directory you are running Jupyter Notebooks\n",
    "df_bills = df[['bill_id', 'title', 'summary', 'sum_len']]\n",
    "from langchain.document_loaders import DataFrameLoader\n",
    "\n",
    "loader = DataFrameLoader(df_bills, page_content_column=\"summary\")\n",
    "docs = loader.load()"
   ]
  },
  {
   "cell_type": "code",
   "execution_count": 9,
   "metadata": {},
   "outputs": [
    {
     "name": "stdout",
     "output_type": "stream",
     "text": [
      "Stored 20 documents with embeddings in Azure Cogntive Search\n"
     ]
    }
   ],
   "source": [
    "results = vector_store.add_documents(documents = docs)\n",
    "print(\"Stored %s documents with embeddings in Azure Cogntive Search\" %(len(results)))"
   ]
  },
  {
   "cell_type": "markdown",
   "metadata": {},
   "source": [
    "## Different Search functions\n",
    "\n",
    "[LangChain API Reference Docs](https://api.python.langchain.com/en/latest/vectorstores/langchain.vectorstores.azuresearch.AzureSearch.html#langchain.vectorstores.azuresearch.AzureSearch.semantic_hybrid_search)"
   ]
  },
  {
   "cell_type": "code",
   "execution_count": 10,
   "metadata": {},
   "outputs": [],
   "source": [
    "testQuery = \"federal agency green energy bill\""
   ]
  },
  {
   "cell_type": "code",
   "execution_count": 11,
   "metadata": {},
   "outputs": [
    {
     "name": "stdout",
     "output_type": "stream",
     "text": [
      "Doc: page_content=\"Directs the President, in coordination with designated Secretaries, to establish: (1) a demonstration program for fuel cell proton exchange membrane technology for commercial, residential, and transportation applications within the Secretaries' respective areas. And (2) a comprehensive proton exchange membrane fuel cell bus demonstration program to address hydrogen production, storage, and use in transit bus applications. Mandates that each Federal agency that maintains a motor vehicle fleet develop a plan for fleet transition to vehicles powered by fuel cell technology. Directs the Secretary of Energy to establish a fuel cell technology grant program for State or local government to meet their energy requirements, including such technology as a motor vehicle power source. Authorizes appropriations.\" metadata={'bill_id': '106_hr5585', 'title': 'Energy Independence Act of 2000', 'sum_len': 810}\n",
      "\n",
      "Doc: page_content='Full-Service Schools Act - Establishes the Federal Interagency Work Group to facilitate collaboration among Federal agencies and make grants to States and local entities in order to integrate education, health, and social and human services for at-risk children and their families. Provides that the Group shall be composed of the Secretaries of Education, Health and Human Services, and Labor and funded equally by their departments. Sets forth Group duties and State and local eligibility requirements. Sets forth application requirements and grant limitations. Requires local programs to include activities to improve educational performance by: (1) reducing school dropout and teen pregnancy rates and the number of children in unsupervised settings. (2) increasing adultfamily literacy and the number of students returning to school after dropping out. And (3) improving access to primary health care for families and their children. Allows local programs to develop a variety of programs to serve the comprehensive needs of students, including specified optional activities. Authorizes appropriations.' metadata={'bill_id': '103_hr1677', 'title': 'Full-Service Schools Act', 'sum_len': 1107}\n",
      "\n"
     ]
    }
   ],
   "source": [
    "# Return docs most similar to query using the LangChain API\n",
    "search_result_docs = vector_store.similarity_search(\n",
    "                        query=testQuery,\n",
    "                        k=2, # get the most nearest neighbor\n",
    "                        search_type=\"similarity\" # do not pass this argument to try a hybrid search\n",
    "                     )\n",
    "\n",
    "for doc in search_result_docs:\n",
    "    print(\"Doc: %s\\n\" %doc)"
   ]
  },
  {
   "cell_type": "markdown",
   "metadata": {},
   "source": [
    "## TODO\n",
    "Get the searched text from Azure Cognitive Search and then use it in the prompt for Azure OpenAI"
   ]
  },
  {
   "cell_type": "code",
   "execution_count": null,
   "metadata": {},
   "outputs": [],
   "source": [
    "from azure.search.documents.indexes.models import GetIndexStatisticsResult\n",
    "\n"
   ]
  }
 ],
 "metadata": {
  "kernel_info": {
   "name": "python38-azureml"
  },
  "kernelspec": {
   "display_name": "Python 3 (ipykernel)",
   "language": "python",
   "name": "python3"
  },
  "language_info": {
   "codemirror_mode": {
    "name": "ipython",
    "version": 3
   },
   "file_extension": ".py",
   "mimetype": "text/x-python",
   "name": "python",
   "nbconvert_exporter": "python",
   "pygments_lexer": "ipython3",
   "version": "3.11.9"
  },
  "microsoft": {
   "host": {
    "AzureML": {
     "notebookHasBeenCompleted": true
    }
   },
   "ms_spell_check": {
    "ms_spell_check_language": "en"
   }
  },
  "nteract": {
   "version": "nteract-front-end@1.0.0"
  }
 },
 "nbformat": 4,
 "nbformat_minor": 2
}
