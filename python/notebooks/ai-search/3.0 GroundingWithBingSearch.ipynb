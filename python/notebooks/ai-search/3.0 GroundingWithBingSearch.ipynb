{
 "cells": [
  {
   "cell_type": "raw",
   "metadata": {},
   "source": [
    "# Setup and test Grounding with Bing Search\n",
    "\n",
    "Setup and test connection\n",
    "\n",
    "## Prerequisites\n",
    "\n",
    "1. Please install Azure OpenAI `pip install openai`.\n",
    "\n",
    "2. Please install Azure AI Search `pip install azure-search-documents`\n",
    "\n",
    "3. All training and testing data is store in /data folders"
   ]
  },
  {
   "cell_type": "markdown",
   "metadata": {},
   "source": [
    "- > ! pip install openai\n",
    "- > ! pip install azure-search-documents"
   ]
  },
  {
   "cell_type": "code",
   "execution_count": null,
   "metadata": {},
   "outputs": [],
   "source": [
    "pip show azure-search-documents"
   ]
  },
  {
   "cell_type": "markdown",
   "metadata": {},
   "source": [
    "## Load all the Azure AI Search client"
   ]
  },
  {
   "cell_type": "code",
   "execution_count": null,
   "metadata": {},
   "outputs": [],
   "source": [
    "import os\n",
    "import ai_search\n",
    "from azure.search.documents.indexes import SearchIndexClient  \n",
    "\n",
    "AI_SEARCH_API_ENDPOINT = os.environ['AI_SEARCH_API_ENDPOINT']\n",
    "AI_SEARCH_API_KEY = os.environ['AI_SEARCH_API_KEY']\n",
    "AI_SEARCH_INDEX_NAME = os.environ['AI_SEARCH_INDEX_NAME']\n",
    "\n",
    "credential = ai_search.getAISearchCredential(AI_SEARCH_API_KEY);\n",
    "# Create a search index client\n",
    "index_client = SearchIndexClient(endpoint=AI_SEARCH_API_ENDPOINT, credential=credential)\n",
    "\n",
    "# delete any existing index first to have a clean slate\n",
    "index_client.delete_index(AI_SEARCH_INDEX_NAME)"
   ]
  },
  {
   "cell_type": "markdown",
   "metadata": {},
   "source": [
    "## Create my search index"
   ]
  },
  {
   "cell_type": "code",
   "execution_count": 49,
   "metadata": {},
   "outputs": [
    {
     "name": "stdout",
     "output_type": "stream",
     "text": [
      " azure_docs_index created\n"
     ]
    }
   ],
   "source": [
    "from azure.search.documents import SearchClient  \n",
    "from azure.search.documents.models import Vector  \n",
    "from azure.search.documents.indexes.models import (  \n",
    "    SearchIndex,  \n",
    "    SearchField,  \n",
    "    SearchFieldDataType,  \n",
    "    SimpleField,  \n",
    "    SearchableField,  \n",
    "    SearchIndex,  \n",
    "    SemanticConfiguration,  \n",
    "    PrioritizedFields,  \n",
    "    SemanticField,  \n",
    "    SearchField,  \n",
    "    SemanticSettings,  \n",
    "    VectorSearch,  \n",
    "    VectorSearchAlgorithmConfiguration,  \n",
    ")  \n",
    "\n",
    "fields = [\n",
    "    SimpleField(name=\"id\", type=SearchFieldDataType.String, key=True, sortable=True, filterable=True, facetable=True),\n",
    "    SearchableField(name=\"title\", type=SearchFieldDataType.String),\n",
    "    SearchableField(name=\"content\", type=SearchFieldDataType.String),\n",
    "    SearchableField(name=\"category\", type=SearchFieldDataType.String,\n",
    "                    filterable=True, facetable=True, sortable=True),\n",
    "    SearchField(name=\"titleVector\", type=SearchFieldDataType.Collection(SearchFieldDataType.Single),\n",
    "                searchable=True, vector_search_dimensions=1536, vector_search_configuration=\"my-vector-config\"),\n",
    "    SearchField(name=\"contentVector\", type=SearchFieldDataType.Collection(SearchFieldDataType.Single),\n",
    "                searchable=True, vector_search_dimensions=1536, vector_search_configuration=\"my-vector-config\"),\n",
    "]\n",
    "\n",
    "# For Autocomplete, add search suggestion\n",
    "suggester = [{'name': 'sg', 'source_fields': ['title']}]\n",
    "\n",
    "# Using the Hierarchical Navigable Small World (HNSW)\n",
    "# Approximate Nearest Neighborhood (ANN) algorithm\n",
    "# for the vector database\n",
    "vector_search = VectorSearch(\n",
    "    algorithm_configurations=[\n",
    "        VectorSearchAlgorithmConfiguration(\n",
    "            name=\"my-vector-config\",\n",
    "            kind=\"hnsw\",\n",
    "            hnsw_parameters={\n",
    "                \"m\": 4,\n",
    "                \"efConstruction\": 400,\n",
    "                \"efSearch\": 500,\n",
    "                \"metric\": \"cosine\"\n",
    "            }\n",
    "        )\n",
    "    ]\n",
    ")\n",
    "\n",
    "semantic_config = SemanticConfiguration(\n",
    "    name=\"my-semantic-config\",\n",
    "    prioritized_fields=PrioritizedFields(\n",
    "        title_field=SemanticField(field_name=\"title\"),\n",
    "        prioritized_keywords_fields=[SemanticField(field_name=\"category\")],\n",
    "        prioritized_content_fields=[SemanticField(field_name=\"content\")]\n",
    "    )\n",
    ")\n",
    "\n",
    "# Create the semantic settings with the configuration\n",
    "semantic_settings = SemanticSettings(configurations=[semantic_config])\n",
    "\n",
    "# Create the search index with the semantic settings\n",
    "index = SearchIndex(name=AI_SEARCH_INDEX_NAME, fields=fields, suggesters=suggester,\n",
    "                    vector_search=vector_search, semantic_settings=semantic_settings)\n",
    "\n",
    "result = index_client.create_or_update_index(index)\n",
    "print(f' {result.name} created')"
   ]
  },
  {
   "cell_type": "markdown",
   "metadata": {},
   "source": [
    "## Load the AOAI client"
   ]
  },
  {
   "cell_type": "code",
   "execution_count": null,
   "metadata": {},
   "outputs": [],
   "source": [
    "import os\n",
    "import aoai\n",
    "\n",
    "AOAI_API_ENDPOINT = os.environ['OPENAI_API_ENDPOINT']\n",
    "AOAI_API_KEY = os.environ['OPENAI_API_KEY']\n",
    "AOAI_API_VERSION = os.environ['OPENAI_API_VERSION']\n",
    "AOAI_API_ENGINE = os.environ['OPENAI_API_ENGINE']\n",
    "AOAI_API_EMBEDDING_ENGINE = 'text-embedding-3-small'\n",
    "\n",
    "status, client = aoai.setupOpenai(\n",
    "                        aoai_endpoint=AOAI_API_ENDPOINT,\n",
    "                        aoai_api_key=AOAI_API_KEY,\n",
    "                        aoai_version=AOAI_API_VERSION\n",
    "                 )\n",
    "if status == True:\n",
    "    print(\"AOAI setup succeeded\")\n",
    "else:\n",
    "    print(\"AOAI setup failed\")"
   ]
  },
  {
   "cell_type": "markdown",
   "metadata": {},
   "source": [
    "## Create embeddings\n",
    "Read your data, generate OpenAI embeddings and export to a format to insert your Azure Cognitive Search index:"
   ]
  },
  {
   "cell_type": "code",
   "execution_count": 50,
   "metadata": {},
   "outputs": [],
   "source": [
    "import json\n",
    "from tenacity import retry, wait_random_exponential, stop_after_attempt  \n",
    "\n",
    "# Generate Document Embeddings using OpenAI Ada 002\n",
    "\n",
    "# Read the text-sample.json\n",
    "with open('./data/text-sample.json', 'r', encoding='utf-8') as file:\n",
    "    input_data = json.load(file)\n",
    "\n",
    "@retry(wait=wait_random_exponential(min=1, max=20), stop=stop_after_attempt(6))\n",
    "# Function to generate embeddings for title and content fields, also used for query embeddings\n",
    "def generate_embeddings(text):\n",
    "    embeddings=aoai.generate_embedding(\n",
    "                the_client=client,\n",
    "                the_model=AOAI_API_EMBEDDING_ENGINE,\n",
    "                the_text=text\n",
    "       )\n",
    "    return embeddings\n",
    "\n",
    "\n",
    "# Generate embeddings for title and content fields\n",
    "for item in input_data:\n",
    "    title = item['title']\n",
    "    content = item['content']\n",
    "    title_embeddings = generate_embeddings(title)\n",
    "    content_embeddings = generate_embeddings(content)\n",
    "    item['titleVector'] = title_embeddings\n",
    "    item['contentVector'] = content_embeddings\n",
    "\n",
    "# Output embeddings to docVectors.json file\n",
    "with open(\"./output/docVectors.json\", \"w\") as f:\n",
    "    json.dump(input_data, f)"
   ]
  },
  {
   "cell_type": "markdown",
   "metadata": {},
   "source": [
    "## Insert text and embeddings into Azure AI Search vector store\n",
    "Add texts and metadata from the JSON data to the vector store:"
   ]
  },
  {
   "cell_type": "code",
   "execution_count": 51,
   "metadata": {},
   "outputs": [
    {
     "name": "stdout",
     "output_type": "stream",
     "text": [
      "Uploaded 108 documents\n"
     ]
    }
   ],
   "source": [
    "# Upload some documents to the index\n",
    "with open('./output/docVectors.json', 'r') as file:  \n",
    "    documents = json.load(file)  \n",
    "search_client = SearchClient(endpoint=AI_SEARCH_API_ENDPOINT, index_name=AI_SEARCH_INDEX_NAME, credential=credential)\n",
    "result = search_client.upload_documents(documents)  \n",
    "print(f\"Uploaded {len(documents)} documents\") "
   ]
  },
  {
   "cell_type": "markdown",
   "metadata": {},
   "source": [
    "## Search client queries\n",
    "#### Create an instance of SearchClient first"
   ]
  },
  {
   "cell_type": "code",
   "execution_count": 52,
   "metadata": {},
   "outputs": [],
   "source": [
    "search_client = SearchClient(AI_SEARCH_API_ENDPOINT, AI_SEARCH_INDEX_NAME, credential=credential)  "
   ]
  },
  {
   "cell_type": "markdown",
   "metadata": {},
   "source": [
    "## Run your first query"
   ]
  },
  {
   "cell_type": "code",
   "execution_count": 53,
   "metadata": {},
   "outputs": [
    {
     "name": "stdout",
     "output_type": "stream",
     "text": [
      "Total Documents Matching Query: 12\n",
      "Title: Azure IoT Edge\n",
      "Score: 2.0\n",
      "Content: Azure IoT Edge is a fully managed service that enables you to run cloud intelligence directly on your IoT devices. It provides features like automatic scaling, device management, and integration with Azure Machine Learning. IoT Edge supports various programming languages, such as C#, Java, and Python. You can use Azure IoT Edge to build edge computing solutions, optimize your operations, and improve your decision-making. It also integrates with other Azure services, such as Azure IoT Hub and Azure Functions.\n",
      "Category: Internet of Things\n",
      "\n",
      "Title: Azure IoT Hub\n",
      "Score: 2.0\n",
      "Content: Azure IoT Hub is a managed service that enables you to connect, monitor, and manage billions of IoT devices. It provides secure and reliable communication between your IoT devices and your backend solution. IoT Hub supports multiple communication protocols, including MQTT, AMQP, and HTTPS. It offers device-to-cloud and cloud-to-device messaging, device management, and device twin capabilities. With IoT Hub, you can build scalable and secure IoT solutions that integrate with other Azure services and custom applications.\n",
      "Category: Internet of Things\n",
      "\n",
      "Title: Azure IoT Central\n",
      "Score: 2.0\n",
      "Content: Azure IoT Central is a fully managed, global IoT software-as-a-service (SaaS) solution that enables you to build, manage, and scale your IoT applications. It provides features like device management, data visualization, and application templates. IoT Central supports various data sources, such as Azure IoT Hub, Azure Event Hubs, and Azure Blob Storage. You can use Azure IoT Central to build connected solutions, optimize your operations, and improve your decision-making. It also integrates with other Azure services, such as Azure Time Series Insights and Azure Machine Learning.\n",
      "Category: Internet of Things\n",
      "\n",
      "Title: Azure Maps\n",
      "Score: 1.0\n",
      "Content: Azure Maps is a collection of geospatial services and SDKs that enable you to build location-based applications using Azure. It provides features like map rendering, geocoding, route planning, and spatial analytics. Azure Maps supports various platforms, such as web, mobile, and IoT devices. You can use Azure Maps to build mapping applications, visualize and analyze your spatial data, and improve your decision-making. It also integrates with other Azure services, such as Azure IoT Hub and Azure Functions.\n",
      "Category: Internet of Things\n",
      "\n",
      "Title: Azure Digital Twins\n",
      "Score: 1.0\n",
      "Content: Azure Digital Twins is an IoT service that enables you to create digital representations of your physical assets, environments, and processes. It provides features like spatial intelligence, twin graphs, and event-driven functions. Digital Twins supports various data sources, such as Azure IoT Hub, Azure Event Hubs, and Azure Blob Storage. You can use Digital Twins to build connected solutions, optimize your operations, and improve your decision-making. It also integrates with other Azure services, such as Azure Time Series Insights and Azure Machine Learning.\n",
      "Category: Internet of Things\n",
      "\n",
      "Title: Azure Sphere\n",
      "Score: 1.0\n",
      "Content: Azure Sphere is a comprehensive IoT security solution that includes a secure, high-level application platform, a custom Linux-based operating system, and a cloud-based security service. It provides features like automatic updates, device attestation, and error reporting. Azure Sphere supports various hardware platforms, such as microcontrollers and development boards. You can use Azure Sphere to build secure and compliant IoT devices, protect your intellectual property, and ensure the security of your IoT ecosystem. It also integrates with other Azure services, such as Azure IoT Hub and Azure IoT Central.\n",
      "Category: Internet of Things\n",
      "\n",
      "Title: Azure Stack Edge\n",
      "Score: 1.0\n",
      "Content: Azure Stack Edge is a managed, edge computing appliance that enables you to run Azure services and AI workloads on-premises or at the edge. It provides features like hardware-accelerated machine learning, local caching, and integration with Azure IoT Hub. Azure Stack Edge supports various Azure services, such as Azure Functions, Azure Machine Learning, and Azure Kubernetes Service. You can use Azure Stack Edge to build edge computing applications, optimize your data processing, and ensure the security and compliance of your workloads. It also integrates with other Azure services, such as Azure Monitor and Azure Stack Hub.\n",
      "Category: Hybrid\n",
      "\n",
      "Title: Azure Event Hubs\n",
      "Score: 1.0\n",
      "Content: Azure Event Hubs is a fully managed, real-time data ingestion service that enables you to stream and process millions of events per second. It supports various data producers, such as IoT devices, applications, and services. Event Hubs provides low latency, high throughput, and scalable data streaming, making it suitable for big data scenarios like telemetry processing and log analytics. You can use Event Hubs with other Azure services, such as Azure Stream Analytics and Azure Functions, to build end-to-end real-time data processing solutions.\n",
      "Category: Big Data\n",
      "\n",
      "Title: Azure Stream Analytics\n",
      "Score: 1.0\n",
      "Content: Azure Stream Analytics is a real-time data stream processing service that enables you to analyze and process high volumes of fast-moving data. It supports various data sources, such as Azure Event Hubs, Azure IoT Hub, and Azure Blob Storage. Stream Analytics provides features like windowing, time-based aggregations, and user-defined functions. You can use Stream Analytics to build real-time dashboards, detect anomalies, and generate alerts. It also integrates with other Azure services, such as Azure Functions and Azure Machine Learning.\n",
      "Category: Analytics\n",
      "\n",
      "Title: Azure Data Explorer\n",
      "Score: 1.0\n",
      "Content: Azure Data Explorer is a fast, fully managed data analytics service for real-time analysis on large volumes of data. It provides features like ingestion, querying, and visualization. Data Explorer supports various data sources, such as Azure Event Hubs, Azure IoT Hub, and Azure Blob Storage. You can use Data Explorer to analyze logs, monitor applications, and gain insights into your data. It also integrates with other Azure services, such as Azure Synapse Analytics and Azure Machine Learning.\n",
      "Category: Analytics\n",
      "\n",
      "Title: Azure API for FHIR\n",
      "Score: 1.0\n",
      "Content: Azure API for FHIR is a fully managed, standards-based API that enables you to store, manage, and exchange health data in the Fast Healthcare Interoperability Resources (FHIR) format. It provides features like data validation, versioning, and integration with Azure Active Directory. API for FHIR supports various data types, such as clinical, imaging, and administrative data. You can use Azure API for FHIR to build healthcare applications, ensure the security and compliance of your health data, and streamline your data management. It also integrates with other Azure services, such as Azure Machine Learning and Azure IoT Central.\n",
      "Category: Healthcare\n",
      "\n",
      "Title: Azure Time Series Insights\n",
      "Score: 1.0\n",
      "Content: Azure Time Series Insights is a fully managed analytics, storage, and visualization service that enables you to explore and analyze time-series data. It supports various data sources, such as Azure IoT Hub, Azure Event Hubs, and Azure Blob Storage. Time Series Insights provides features like real-time data streaming, advanced querying, and pattern recognition. You can use Time Series Insights to monitor your IoT devices, detect anomalies, and gain insights into your data. It also integrates with other Azure services, such as Azure Stream Analytics and Azure Machine Learning.\n",
      "Category: Analytics\n",
      "\n"
     ]
    }
   ],
   "source": [
    "query = \"IoT*\"\n",
    "\n",
    "results = search_client.search(\n",
    "    query_type='simple',\n",
    "    search_text=query,\n",
    "    include_total_count=True\n",
    ")\n",
    "print ('Total Documents Matching Query:', results.get_count())\n",
    "for result in results:\n",
    "    print(f\"Title: {result['title']}\")  \n",
    "    print(f\"Score: {result['@search.score']}\")  \n",
    "    print(f\"Content: {result['content']}\")  \n",
    "    print(f\"Category: {result['category']}\\n\")  "
   ]
  },
  {
   "cell_type": "markdown",
   "metadata": {},
   "source": [
    "## Add a filter"
   ]
  },
  {
   "cell_type": "code",
   "execution_count": 54,
   "metadata": {},
   "outputs": [
    {
     "name": "stdout",
     "output_type": "stream",
     "text": [
      "Total Documents Matching Query: 3\n",
      "Title: Azure Stream Analytics\n",
      "Score: 1.0\n",
      "Content: Azure Stream Analytics is a real-time data stream processing service that enables you to analyze and process high volumes of fast-moving data. It supports various data sources, such as Azure Event Hubs, Azure IoT Hub, and Azure Blob Storage. Stream Analytics provides features like windowing, time-based aggregations, and user-defined functions. You can use Stream Analytics to build real-time dashboards, detect anomalies, and generate alerts. It also integrates with other Azure services, such as Azure Functions and Azure Machine Learning.\n",
      "Category: Analytics\n",
      "\n",
      "Title: Azure Data Explorer\n",
      "Score: 1.0\n",
      "Content: Azure Data Explorer is a fast, fully managed data analytics service for real-time analysis on large volumes of data. It provides features like ingestion, querying, and visualization. Data Explorer supports various data sources, such as Azure Event Hubs, Azure IoT Hub, and Azure Blob Storage. You can use Data Explorer to analyze logs, monitor applications, and gain insights into your data. It also integrates with other Azure services, such as Azure Synapse Analytics and Azure Machine Learning.\n",
      "Category: Analytics\n",
      "\n",
      "Title: Azure Time Series Insights\n",
      "Score: 1.0\n",
      "Content: Azure Time Series Insights is a fully managed analytics, storage, and visualization service that enables you to explore and analyze time-series data. It supports various data sources, such as Azure IoT Hub, Azure Event Hubs, and Azure Blob Storage. Time Series Insights provides features like real-time data streaming, advanced querying, and pattern recognition. You can use Time Series Insights to monitor your IoT devices, detect anomalies, and gain insights into your data. It also integrates with other Azure services, such as Azure Stream Analytics and Azure Machine Learning.\n",
      "Category: Analytics\n",
      "\n"
     ]
    }
   ],
   "source": [
    "query = \"IoT*\"\n",
    "\n",
    "# Add a filter\n",
    "results = search_client.search(\n",
    "    query_type='simple',\n",
    "    search_text=query,\n",
    "    filter=\"category eq 'Analytics'\",\n",
    "    include_total_count=True\n",
    ")\n",
    "print ('Total Documents Matching Query:', results.get_count())\n",
    "for result in results:\n",
    "    print(f\"Title: {result['title']}\")  \n",
    "    print(f\"Score: {result['@search.score']}\")  \n",
    "    print(f\"Content: {result['content']}\")  \n",
    "    print(f\"Category: {result['category']}\\n\")  "
   ]
  },
  {
   "cell_type": "markdown",
   "metadata": {},
   "source": [
    "## Scope a query to specific searchable fields"
   ]
  },
  {
   "cell_type": "code",
   "execution_count": 55,
   "metadata": {},
   "outputs": [
    {
     "name": "stdout",
     "output_type": "stream",
     "text": [
      "Total Documents Matching Query: 0\n"
     ]
    }
   ],
   "source": [
    "# Narrow scope to specific fields\n",
    "query = \"IoT*\"\n",
    "\n",
    "# Add a filter & select search fields\n",
    "results = search_client.search(\n",
    "    query_type='simple',\n",
    "    search_text=query,\n",
    "    filter=\"category eq 'Analytics'\",\n",
    "    search_fields=['title'],\n",
    "    include_total_count=True\n",
    ")\n",
    "print ('Total Documents Matching Query:', results.get_count())\n",
    "for result in results:\n",
    "    print(f\"Title: {result['title']}\")  \n",
    "    print(f\"Score: {result['@search.score']}\")  \n",
    "    print(f\"Content: {result['content']}\")  \n",
    "    print(f\"Category: {result['category']}\\n\")      "
   ]
  },
  {
   "cell_type": "markdown",
   "metadata": {},
   "source": [
    "## Return facets"
   ]
  },
  {
   "cell_type": "code",
   "execution_count": 56,
   "metadata": {},
   "outputs": [
    {
     "name": "stdout",
     "output_type": "stream",
     "text": [
      "{'value': 'Analytics', 'count': 14}\n",
      "{'value': 'Management + Governance', 'count': 12}\n",
      "{'value': 'Networking', 'count': 12}\n",
      "{'value': 'Databases', 'count': 10}\n",
      "{'value': 'Storage', 'count': 10}\n",
      "{'value': 'Compute', 'count': 8}\n",
      "{'value': 'AI + Machine Learning', 'count': 7}\n",
      "{'value': 'Security', 'count': 7}\n",
      "{'value': 'Internet of Things', 'count': 6}\n",
      "{'value': 'Integration', 'count': 4}\n"
     ]
    }
   ],
   "source": [
    "# Return facets\n",
    "results = search_client.search(\n",
    "    search_text=\"*\", \n",
    "    facets=[\"category\"]\n",
    ")\n",
    "\n",
    "facets = results.get_facets()\n",
    "for facet in facets[\"category\"]:\n",
    "    print(f\"{facet}\")"
   ]
  },
  {
   "cell_type": "markdown",
   "metadata": {},
   "source": [
    "## Lookup a specific document"
   ]
  },
  {
   "cell_type": "code",
   "execution_count": 57,
   "metadata": {},
   "outputs": [
    {
     "name": "stdout",
     "output_type": "stream",
     "text": [
      "Details for document 3:\n",
      "Title: Azure Cognitive Services\n",
      "Content: Azure Cognitive Services are a set of AI services that enable you to build intelligent applications with powerful algorithms using just a few lines of code. These services cover a wide range of capabilities, including vision, speech, language, knowledge, and search. They are designed to be easy to use and integrate into your applications. Cognitive Services are fully managed, scalable, and continuously improved by Microsoft. It allows developers to create AI-powered solutions without deep expertise in machine learning.\n",
      "Category: AI + Machine Learning\n",
      "\n"
     ]
    }
   ],
   "source": [
    "query = \"IoT*\"\n",
    "\n",
    "# Lookup a specific document\n",
    "result = search_client.get_document(key=3)\n",
    "\n",
    "print ('Details for document 3:')\n",
    "print(f\"Title: {result['title']}\")  \n",
    "print(f\"Content: {result['content']}\")  \n",
    "print(f\"Category: {result['category']}\\n\")  "
   ]
  },
  {
   "cell_type": "markdown",
   "metadata": {},
   "source": [
    "## Autocomplete a query"
   ]
  },
  {
   "cell_type": "code",
   "execution_count": 59,
   "metadata": {},
   "outputs": [
    {
     "name": "stdout",
     "output_type": "stream",
     "text": [
      "Autocomplete for: machine\n",
      "machine learning\n",
      "machines\n"
     ]
    }
   ],
   "source": [
    "# Autocomplete a query\n",
    "search_suggestion = 'machine'\n",
    "results = search_client.autocomplete(\n",
    "    search_text=search_suggestion, \n",
    "    suggester_name=\"sg\",\n",
    "    mode='twoTerms')\n",
    "\n",
    "print(\"Autocomplete for:\", search_suggestion)\n",
    "for result in results:\n",
    "    print (result['text'])"
   ]
  },
  {
   "cell_type": "markdown",
   "metadata": {},
   "source": [
    "## Perform a Semantic Hybrid Search"
   ]
  },
  {
   "cell_type": "code",
   "execution_count": 34,
   "metadata": {},
   "outputs": [
    {
     "name": "stdout",
     "output_type": "stream",
     "text": [
      "Semantic Answer: <em>Azure File Storage </em>is a fully managed, scalable, and secure file sharing service that enables you to store and access your files over the Server Message Block (SMB) protocol. It provides features like snapshots, shared access signatures, and integration with Azure Backup. File Storage supports various platforms, such as Windows, Linux, and macOS..\n",
      "Semantic Answer Score: 0.9850000143051147\n",
      "\n",
      "Title: Azure File Storage\n",
      "Content: Azure File Storage is a fully managed, scalable, and secure file sharing service that enables you to store and access your files over the Server Message Block (SMB) protocol. It provides features like snapshots, shared access signatures, and integration with Azure Backup. File Storage supports various platforms, such as Windows, Linux, and macOS. You can use Azure File Storage to build file sharing solutions, lift and shift your applications to the cloud, and simplify your data management. It also integrates with other Azure services, such as Azure Virtual Machines and Azure Kubernetes Service.\n",
      "Category: Storage\n",
      "Caption: <em>Azure File Storage </em>is a fully managed, scalable, and secure file sharing service that enables you to store and access your files over the Server Message Block (SMB) protocol. It provides features like snapshots, shared access signatures, and integration with Azure Backup. File Storage supports various platforms, such as Windows, Linux, and macOS..\n",
      "\n",
      "Title: Azure Blob Storage\n",
      "Content: Azure Blob Storage is a scalable, durable, and high-performance object storage service for unstructured data. It provides features like data redundancy, geo-replication, and fine-grained access control. Blob Storage supports various data types, such as images, documents, and videos. You can use Blob Storage to store and manage your data, build data lakes, and develop big data analytics solutions. It also integrates with other Azure services, such as Azure CDN, Azure Functions, and Azure Machine Learning.\n",
      "Category: Storage\n",
      "Caption: <em>Azure Blob Storage </em>is a scalable, durable, and high-performance object storage service for unstructured data. It provides features like data redundancy, geo-replication, and fine-grained access control. Blob Storage supports various data types, such as images, documents, and videos. You can use Blob Storage to store and manage your data, build.\n",
      "\n",
      "Title: Azure Managed Disks\n",
      "Content: Azure Managed Disks is a scalable, durable, and high-performance block storage service for Azure Virtual Machines. It provides features like automatic scaling, built-in encryption, and integration with Azure Backup. Managed Disks supports various disk types, such as Premium SSD, Standard SSD, and Standard HDD. You can use Managed Disks to store and manage your data, improve the performance of your applications, and ensure high availability. It also integrates with other Azure services, such as Azure Virtual Machines and Azure Site Recovery.\n",
      "Category: Storage\n",
      "Caption: <em>Azure Managed Disks </em>is a scalable, durable, and high-performance block storage service for Azure Virtual Machines. It provides features like automatic scaling, built-in encryption, and integration with Azure Backup. Managed Disks supports various disk types, such as Premium SSD, Standard SSD, and Standard HDD. You can use Managed Disks to store.\n",
      "\n"
     ]
    }
   ],
   "source": [
    "# Semantic Hybrid Search\n",
    "query = \"what is the name of Azure service to store files?\"\n",
    "\n",
    "results = search_client.search(\n",
    "    search_text=query,\n",
    "    vector=generate_embeddings(query), top_k=3,  \n",
    "    vector_fields=\"contentVector\",\n",
    "    select=[\"title\", \"content\", \"category\"],\n",
    "    query_type=\"semantic\", query_language=\"en-us\", semantic_configuration_name='my-semantic-config', query_caption=\"extractive\", query_answer=\"extractive\",\n",
    "    top=3\n",
    ")\n",
    "\n",
    "semantic_answers = results.get_answers()\n",
    "for answer in semantic_answers:\n",
    "    if answer.highlights:\n",
    "        print(f\"Semantic Answer: {answer.highlights}\")\n",
    "    else:\n",
    "        print(f\"Semantic Answer: {answer.text}\")\n",
    "    print(f\"Semantic Answer Score: {answer.score}\\n\")\n",
    "\n",
    "for result in results:\n",
    "    print(f\"Title: {result['title']}\")\n",
    "    print(f\"Content: {result['content']}\")\n",
    "    print(f\"Category: {result['category']}\")\n",
    "\n",
    "    captions = result[\"@search.captions\"]\n",
    "    if captions:\n",
    "        caption = captions[0]\n",
    "        if caption.highlights:\n",
    "            print(f\"Caption: {caption.highlights}\\n\")\n",
    "        else:\n",
    "            print(f\"Caption: {caption.text}\\n\")\n"
   ]
  },
  {
   "cell_type": "markdown",
   "metadata": {},
   "source": [
    "## Perform a vector similarity search"
   ]
  },
  {
   "cell_type": "code",
   "execution_count": null,
   "metadata": {},
   "outputs": [],
   "source": [
    "# Pure Vector Search\n",
    "query = \"tools for software development\"  \n",
    "  \n",
    "search_client = SearchClient(AI_SEARCH_API_ENDPOINT, AI_SEARCH_INDEX_NAME, credential=credential)  \n",
    "  \n",
    "results = search_client.search(  \n",
    "    search_text=None,  \n",
    "    vector=generate_embeddings(query),\n",
    "    top_k=3,  \n",
    "    vector_fields=\"contentVector\",\n",
    "    select=[\"title\", \"content\", \"category\"],\n",
    ")  \n",
    "  \n",
    "for result in results:  \n",
    "    print(f\"Title: {result['title']}\")  \n",
    "    print(f\"Score: {result['@search.score']}\")  \n",
    "    print(f\"Content: {result['content']}\")  \n",
    "    print(f\"Category: {result['category']}\\n\")  \n"
   ]
  },
  {
   "cell_type": "code",
   "execution_count": null,
   "metadata": {},
   "outputs": [],
   "source": [
    "# Pure Vector Search multi-lingual (e.g 'tools for software development' in Dutch)  \n",
    "query = \"tools voor softwareontwikkeling\"  \n",
    "  \n",
    "search_client = SearchClient(AI_SEARCH_API_ENDPOINT, AI_SEARCH_INDEX_NAME, credential=credential)  \n",
    "  \n",
    "results = search_client.search(  \n",
    "    search_text=None,  \n",
    "    vector=generate_embeddings(query), top_k=3,  \n",
    "    vector_fields=\"contentVector\",\n",
    "    select=[\"title\", \"content\", \"category\"],\n",
    ")  \n",
    "  \n",
    "for result in results:  \n",
    "    print(f\"Title: {result['title']}\")  \n",
    "    print(f\"Score: {result['@search.score']}\")  \n",
    "    print(f\"Content: {result['content']}\")  \n",
    "    print(f\"Category: {result['category']}\\n\")  \n"
   ]
  },
  {
   "cell_type": "markdown",
   "metadata": {},
   "source": [
    "## Perform a Cross-Field Vector Search"
   ]
  },
  {
   "cell_type": "code",
   "execution_count": null,
   "metadata": {},
   "outputs": [],
   "source": [
    "# Cross-Field Vector Search\n",
    "query = \"tools for software development\"  \n",
    "  \n",
    "search_client = SearchClient(AI_SEARCH_API_ENDPOINT, AI_SEARCH_INDEX_NAME, credential=credential)  \n",
    "  \n",
    "results = search_client.search(  \n",
    "    search_text=None,  \n",
    "    vector=generate_embeddings(query), top_k=3,  \n",
    "    vector_fields=\"titleVector, contentVector\",\n",
    "    select=[\"title\", \"content\", \"category\"],\n",
    ")  \n",
    "  \n",
    "for result in results:  \n",
    "    print(f\"Title: {result['title']}\")  \n",
    "    print(f\"Score: {result['@search.score']}\")  \n",
    "    print(f\"Content: {result['content']}\")  \n",
    "    print(f\"Category: {result['category']}\\n\")  \n"
   ]
  },
  {
   "cell_type": "markdown",
   "metadata": {},
   "source": [
    "## Perform a Pure Vector Search with a filter"
   ]
  },
  {
   "cell_type": "code",
   "execution_count": null,
   "metadata": {},
   "outputs": [],
   "source": [
    "# Pure Vector Search with Filter\n",
    "query = \"tools for software development\"  \n",
    "  \n",
    "search_client = SearchClient(AI_SEARCH_API_ENDPOINT, AI_SEARCH_INDEX_NAME, credential=credential)  \n",
    "\n",
    "results = search_client.search(  \n",
    "    search_text=None,  \n",
    "    vector=generate_embeddings(query), top_k=3,  \n",
    "    vector_fields=\"contentVector\",\n",
    "    filter=\"category eq 'Developer Tools'\",\n",
    "    select=[\"title\", \"content\", \"category\"]\n",
    ")  \n",
    "  \n",
    "for result in results:  \n",
    "    print(f\"Title: {result['title']}\")  \n",
    "    print(f\"Score: {result['@search.score']}\")  \n",
    "    print(f\"Content: {result['content']}\")  \n",
    "    print(f\"Category: {result['category']}\\n\")  \n"
   ]
  },
  {
   "cell_type": "markdown",
   "metadata": {},
   "source": [
    "## Perform a Hybrid Search"
   ]
  },
  {
   "cell_type": "code",
   "execution_count": null,
   "metadata": {},
   "outputs": [],
   "source": [
    "# Hybrid Search\n",
    "query = \"scalable storage solution\"  \n",
    "  \n",
    "search_client = SearchClient(AI_SEARCH_API_ENDPOINT, AI_SEARCH_INDEX_NAME, credential=credential)  \n",
    "  \n",
    "results = search_client.search(  \n",
    "    search_text=query,  \n",
    "    vector=generate_embeddings(query), top_k=3,  \n",
    "    vector_fields=\"contentVector\",\n",
    "    select=[\"title\", \"content\", \"category\"],\n",
    "    top=3\n",
    ")  \n",
    "  \n",
    "for result in results:  \n",
    "    print(f\"Title: {result['title']}\")  \n",
    "    print(f\"Score: {result['@search.score']}\")  \n",
    "    print(f\"Content: {result['content']}\")  \n",
    "    print(f\"Category: {result['category']}\\n\")  \n"
   ]
  },
  {
   "cell_type": "markdown",
   "metadata": {},
   "source": [
    "## Delete the Index"
   ]
  },
  {
   "cell_type": "code",
   "execution_count": 47,
   "metadata": {},
   "outputs": [
    {
     "name": "stdout",
     "output_type": "stream",
     "text": [
      "Index azure_docs_index Deleted\n"
     ]
    }
   ],
   "source": [
    "try:\n",
    "    result = index_client.delete_index(AI_SEARCH_INDEX_NAME)\n",
    "    print ('Index', AI_SEARCH_INDEX_NAME, 'Deleted')\n",
    "except Exception as ex:\n",
    "    print (ex)"
   ]
  },
  {
   "cell_type": "markdown",
   "metadata": {},
   "source": [
    "## Confirm Index is deleted"
   ]
  },
  {
   "cell_type": "code",
   "execution_count": 48,
   "metadata": {},
   "outputs": [
    {
     "name": "stdout",
     "output_type": "stream",
     "text": [
      "() No index with the name 'azure_docs_index' was found in the service 'demo-ai-search-basic'.\n",
      "Code: \n",
      "Message: No index with the name 'azure_docs_index' was found in the service 'demo-ai-search-basic'.\n"
     ]
    }
   ],
   "source": [
    "try:\n",
    "    result = index_client.get_index(AI_SEARCH_INDEX_NAME)\n",
    "    print (result)\n",
    "except Exception as ex:\n",
    "    print (ex)"
   ]
  },
  {
   "cell_type": "code",
   "execution_count": null,
   "metadata": {},
   "outputs": [],
   "source": []
  }
 ],
 "metadata": {
  "kernelspec": {
   "display_name": "Python 3 (ipykernel)",
   "language": "python",
   "name": "python3"
  },
  "language_info": {
   "codemirror_mode": {
    "name": "ipython",
    "version": 3
   },
   "file_extension": ".py",
   "mimetype": "text/x-python",
   "name": "python",
   "nbconvert_exporter": "python",
   "pygments_lexer": "ipython3",
   "version": "3.11.9"
  }
 },
 "nbformat": 4,
 "nbformat_minor": 2
}
