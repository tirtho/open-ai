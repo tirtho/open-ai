{
 "cells": [
  {
   "cell_type": "markdown",
   "id": "e1e9cba6",
   "metadata": {},
   "source": [
    "https://github.com/microsoft/sample-app-aoai-chatGPT/blob/main/app.py"
   ]
  },
  {
   "cell_type": "code",
   "execution_count": null,
   "id": "0b7e72c6",
   "metadata": {},
   "outputs": [],
   "source": []
  }
 ],
 "metadata": {
  "kernelspec": {
   "display_name": "Python 3 (ipykernel)",
   "language": "python",
   "name": "python3"
  },
  "language_info": {
   "codemirror_mode": {
    "name": "ipython",
    "version": 3
   },
   "file_extension": ".py",
   "mimetype": "text/x-python",
   "name": "python",
   "nbconvert_exporter": "python",
   "pygments_lexer": "ipython3",
   "version": "3.11.0"
  }
 },
 "nbformat": 4,
 "nbformat_minor": 5
}
