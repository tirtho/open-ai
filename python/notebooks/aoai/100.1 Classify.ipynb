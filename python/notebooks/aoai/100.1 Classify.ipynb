{
 "cells": [
  {
   "cell_type": "markdown",
   "metadata": {},
   "source": [
    "# Document Classification with Azure OpenAI and Cognitive Search Vector\n",
    "This code demonstrates how to use Azure Cognitive Search with OpenAI and Azure Python SDK to classify documents\n",
    "\n",
    "## Prerequisites\n",
    "1. To run the code, install the following packages. Please use the latest pre-release version `pip install azure-search-documents==11.4.0b6`.\n",
    "\n",
    "2. The [100.0 CreateKnowledgeBaseWithCogSearch notebook](100.0%20CreateKnowledgeBaseWithCogSearch.ipynb) has been run first"
   ]
  },
  {
   "cell_type": "markdown",
   "metadata": {},
   "source": [
    "- > ! pip install azure-search-documents==11.4.0b6\n",
    "- > ! pip install openai"
   ]
  },
  {
   "cell_type": "markdown",
   "metadata": {},
   "source": [
    "## Load all the AOAI API keys and model parameters"
   ]
  },
  {
   "cell_type": "code",
   "execution_count": 1,
   "metadata": {},
   "outputs": [
    {
     "name": "stdout",
     "output_type": "stream",
     "text": [
      "\n",
      "Got OPENAI API Key from environment variable\n",
      "AOAI setup succeeded\n"
     ]
    }
   ],
   "source": [
    "import aoai\n",
    "\n",
    "MY_AOAI_ENDPOINT = 'https://tr-non-prod-gpt4.openai.azure.com/'\n",
    "MY_AOAI_VERSION = '2023-07-01-preview'\n",
    "MY_GPT_ENGINE = 'tr-gpt4'\n",
    "MY_AOAI_EMBEDDING_ENGINE = 'tr-embedding-ada'\n",
    "\n",
    "status = aoai.setupOpenai(aoai_endpoint=MY_AOAI_ENDPOINT, \n",
    "                 aoai_version=MY_AOAI_VERSION)\n",
    "if status > 0:\n",
    "    print(\"AOAI setup succeeded\")\n",
    "else:\n",
    "    print(\"AOAI setup failed\")"
   ]
  },
  {
   "cell_type": "markdown",
   "metadata": {},
   "source": [
    "## Authenticate to Azure Cognitive Search and connect"
   ]
  },
  {
   "cell_type": "code",
   "execution_count": 2,
   "metadata": {},
   "outputs": [
    {
     "name": "stdout",
     "output_type": "stream",
     "text": [
      "\n",
      "Got Azure Cognitive Search ADMIN API Key from environment variable\n"
     ]
    }
   ],
   "source": [
    "import cog_search\n",
    "\n",
    "cogSearchCredential = cog_search.getCogSearchCredential()"
   ]
  },
  {
   "cell_type": "code",
   "execution_count": 7,
   "metadata": {},
   "outputs": [],
   "source": [
    "from azure.search.documents.indexes import SearchIndexClient\n",
    "\n",
    "# Create a search index\n",
    "MY_COG_SEARCH_ENDPOINT = 'https://tr-docai-cog-search.search.windows.net'\n",
    "MY_COG_SEEARCH_INDEX_NAME = 'sample-azure-service-docs-index'"
   ]
  },
  {
   "cell_type": "markdown",
   "metadata": {},
   "source": [
    "## Import all cognitive search packages"
   ]
  },
  {
   "cell_type": "code",
   "execution_count": 8,
   "metadata": {},
   "outputs": [],
   "source": [
    "from azure.search.documents import SearchClient  \n",
    "from azure.search.documents.models import Vector  \n",
    "from azure.search.documents.indexes.models import (  \n",
    "    SearchIndex,  \n",
    "    SearchField,  \n",
    "    SearchFieldDataType,  \n",
    "    SimpleField,  \n",
    "    SearchableField,  \n",
    "    SearchIndex,  \n",
    "    SemanticConfiguration,  \n",
    "    PrioritizedFields,  \n",
    "    SemanticField,  \n",
    "    SearchField,  \n",
    "    SemanticSettings,  \n",
    "    VectorSearch,  \n",
    "    VectorSearchAlgorithmConfiguration,  \n",
    ")  "
   ]
  },
  {
   "cell_type": "markdown",
   "metadata": {},
   "source": [
    "# Find the Category of input based on different search types against Azure Cognitive Service"
   ]
  },
  {
   "cell_type": "markdown",
   "metadata": {},
   "source": [
    "## Perform a Vector Similarity Search"
   ]
  },
  {
   "cell_type": "code",
   "execution_count": 9,
   "metadata": {},
   "outputs": [
    {
     "name": "stdout",
     "output_type": "stream",
     "text": [
      "Query: tools voor softwareontwikkeling\n",
      "Category: Developer Tools\n",
      "Score: 0.80402017\n"
     ]
    }
   ],
   "source": [
    "# Pure Vector Search multi-lingual (e.g 'tools for software development' in Dutch)  \n",
    "query = \"tools voor softwareontwikkeling\"  \n",
    "  \n",
    "search_client = SearchClient(\n",
    "                    endpoint=MY_COG_SEARCH_ENDPOINT, \n",
    "                    index_name=MY_COG_SEEARCH_INDEX_NAME, \n",
    "                    credential=cogSearchCredential)\n",
    "\n",
    "results = search_client.search(  \n",
    "    search_text=None,  \n",
    "    vector=aoai.generate_embedding(\n",
    "                    the_engine=MY_AOAI_EMBEDDING_ENGINE,\n",
    "                    the_text=query), \n",
    "    top_k=1,  \n",
    "    vector_fields=\"contentVector\",\n",
    "    select=[\"title\", \"content\", \"category\"],\n",
    ")  \n",
    "  \n",
    "for result in results:  \n",
    "    print(f\"Query: {query}\")\n",
    "    print(f\"Category: {result['category']}\")  \n",
    "    print(f\"Score: {result['@search.score']}\")  "
   ]
  },
  {
   "cell_type": "markdown",
   "metadata": {},
   "source": [
    "## Perform a Semantic Hybrid Search\n",
    "\n",
    "<font color=red>Make sure Semantic Search is enabled for this Azure Cognitive Search instance</font>"
   ]
  },
  {
   "cell_type": "code",
   "execution_count": 10,
   "metadata": {},
   "outputs": [
    {
     "name": "stdout",
     "output_type": "stream",
     "text": [
      "Query: what is azure sarch?\n",
      "Category: 40\n",
      "Semantic Answer Score: 0.9462890625\n"
     ]
    }
   ],
   "source": [
    "# Semantic Hybrid Search\n",
    "# note the incorrect spelling here - 'sarch'\n",
    "query = \"what is azure sarch?\"\n",
    "\n",
    "search_client = SearchClient(\n",
    "                    endpoint=MY_COG_SEARCH_ENDPOINT, \n",
    "                    index_name=MY_COG_SEEARCH_INDEX_NAME, \n",
    "                    credential=cogSearchCredential)\n",
    "\n",
    "results = search_client.search(\n",
    "    search_text=query,\n",
    "    vector=aoai.generate_embedding(\n",
    "                    the_engine=MY_AOAI_EMBEDDING_ENGINE,\n",
    "                    the_text=query), \n",
    "    top_k=1,  \n",
    "    vector_fields=\"contentVector\",\n",
    "    select=[\"title\", \"content\", \"category\"],\n",
    "    query_type=\"semantic\", \n",
    "    query_language=\"en-us\", \n",
    "    semantic_configuration_name='my-semantic-config', \n",
    "    query_caption=\"extractive\", \n",
    "    query_answer=\"extractive\",\n",
    "    top=1\n",
    ")\n",
    "\n",
    "#TODO Get the Category name instead of the key\n",
    "semantic_answers = results.get_answers()\n",
    "for answer in semantic_answers:\n",
    "    print(f\"Query: {query}\")\n",
    "    print(f\"Category: {answer.key}\")\n",
    "    print(f\"Semantic Answer Score: {answer.score}\")"
   ]
  },
  {
   "cell_type": "markdown",
   "metadata": {},
   "source": [
    "## Perform a Cross-Field Vector Search"
   ]
  },
  {
   "cell_type": "code",
   "execution_count": 11,
   "metadata": {},
   "outputs": [
    {
     "name": "stdout",
     "output_type": "stream",
     "text": [
      "Query: tools for software development\n",
      "Category: Developer Tools\n",
      "Score: 0.03333333507180214\n"
     ]
    }
   ],
   "source": [
    "# Cross-Field Vector Search\n",
    "query = \"tools for software development\"  \n",
    "  \n",
    "search_client = SearchClient(\n",
    "                    endpoint=MY_COG_SEARCH_ENDPOINT, \n",
    "                    index_name=MY_COG_SEEARCH_INDEX_NAME, \n",
    "                    credential=cogSearchCredential)\n",
    "  \n",
    "results = search_client.search(  \n",
    "    search_text=None,  \n",
    "    vector=aoai.generate_embedding(\n",
    "                    the_engine=MY_AOAI_EMBEDDING_ENGINE,\n",
    "                    the_text=query), \n",
    "    top_k=1,  \n",
    "    vector_fields=\"titleVector, contentVector\",\n",
    "    select=[\"title\", \"content\", \"category\"],\n",
    ")  \n",
    "  \n",
    "for result in results:  \n",
    "    print(f\"Query: {query}\")\n",
    "    print(f\"Category: {result['category']}\")  \n",
    "    print(f\"Score: {result['@search.score']}\")  "
   ]
  },
  {
   "cell_type": "markdown",
   "metadata": {},
   "source": [
    "## Perform a Pure Vector Search with a filter"
   ]
  },
  {
   "cell_type": "code",
   "execution_count": 12,
   "metadata": {},
   "outputs": [
    {
     "name": "stdout",
     "output_type": "stream",
     "text": [
      "Query: tools for software development\n",
      "Category: Developer Tools\n",
      "Score: 0.82971567\n"
     ]
    }
   ],
   "source": [
    "# Pure Vector Search with Filter\n",
    "query = \"tools for software development\"  \n",
    "  \n",
    "search_client = SearchClient(\n",
    "                    endpoint=MY_COG_SEARCH_ENDPOINT, \n",
    "                    index_name=MY_COG_SEEARCH_INDEX_NAME, \n",
    "                    credential=cogSearchCredential)\n",
    "  \n",
    "\n",
    "results = search_client.search(  \n",
    "    search_text=None,  \n",
    "    vector=aoai.generate_embedding(\n",
    "                    the_engine=MY_AOAI_EMBEDDING_ENGINE,\n",
    "                    the_text=query), \n",
    "    top_k=1,  \n",
    "    vector_fields=\"contentVector\",\n",
    "    filter=\"category eq 'Developer Tools'\",\n",
    "    select=[\"title\", \"content\", \"category\"]\n",
    ")  \n",
    "  \n",
    "for result in results:  \n",
    "    print(f\"Query: {query}\")\n",
    "    print(f\"Category: {result['category']}\")  \n",
    "    print(f\"Score: {result['@search.score']}\")  "
   ]
  },
  {
   "cell_type": "markdown",
   "metadata": {},
   "source": [
    "## Perform a Hybrid Search"
   ]
  },
  {
   "cell_type": "code",
   "execution_count": 13,
   "metadata": {},
   "outputs": [
    {
     "name": "stdout",
     "output_type": "stream",
     "text": [
      "Query: scalable storage solution\n",
      "Category: Storage\n",
      "Score: 0.03205128386616707\n"
     ]
    }
   ],
   "source": [
    "# Hybrid Search\n",
    "query = \"scalable storage solution\"  \n",
    "  \n",
    "search_client = SearchClient(\n",
    "                    endpoint=MY_COG_SEARCH_ENDPOINT, \n",
    "                    index_name=MY_COG_SEEARCH_INDEX_NAME, \n",
    "                    credential=cogSearchCredential)\n",
    "  \n",
    "results = search_client.search(  \n",
    "    search_text=query,  \n",
    "    vector=aoai.generate_embedding(\n",
    "                    the_engine=MY_AOAI_EMBEDDING_ENGINE,\n",
    "                    the_text=query), \n",
    "    top_k=1,  \n",
    "    vector_fields=\"contentVector\",\n",
    "    select=[\"title\", \"content\", \"category\"],\n",
    "    top=1\n",
    ")  \n",
    "  \n",
    "for result in results:  \n",
    "    print(f\"Query: {query}\")\n",
    "    print(f\"Category: {result['category']}\")  \n",
    "    print(f\"Score: {result['@search.score']}\")  "
   ]
  }
 ],
 "metadata": {
  "kernelspec": {
   "display_name": "Python 3 (ipykernel)",
   "language": "python",
   "name": "python3"
  },
  "language_info": {
   "codemirror_mode": {
    "name": "ipython",
    "version": 3
   },
   "file_extension": ".py",
   "mimetype": "text/x-python",
   "name": "python",
   "nbconvert_exporter": "python",
   "pygments_lexer": "ipython3",
   "version": "3.11.8"
  }
 },
 "nbformat": 4,
 "nbformat_minor": 2
}
