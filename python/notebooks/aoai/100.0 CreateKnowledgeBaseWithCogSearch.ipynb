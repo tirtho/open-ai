{
 "cells": [
  {
   "cell_type": "markdown",
   "metadata": {},
   "source": [
    "# Create Document Knowledgebase with Azure OpenAI and Cognitive Search\n",
    "This code demonstrates how to use Azure Cognitive Search with OpenAI and Azure Python SDK to extract information from text content in json file, add vectors and index in Azure Cog Search.\n",
    "\n",
    "Input data is in .\\data folder\n",
    "\n",
    "## Prerequisites\n",
    "To run the code, install the following packages. Please use the latest pre-release version `pip install azure-search-documents==11.4.0b6`."
   ]
  },
  {
   "cell_type": "markdown",
   "metadata": {},
   "source": [
    "- > ! pip install azure-search-documents==11.4.0b6\n",
    "- > ! pip install openai"
   ]
  },
  {
   "cell_type": "markdown",
   "metadata": {},
   "source": [
    "## Load all the AOAI API keys and model parameters"
   ]
  },
  {
   "cell_type": "code",
   "execution_count": 1,
   "metadata": {},
   "outputs": [
    {
     "name": "stdout",
     "output_type": "stream",
     "text": [
      "\n",
      "Got OPENAI API Key from environment variable\n",
      "AOAI setup succeeded\n"
     ]
    }
   ],
   "source": [
    "import os\n",
    "import aoai\n",
    "\n",
    "MY_AOAI_ENDPOINT = os.environ['OPENAI_API_ENDPOINT']\n",
    "MY_AOAI_KEY = os.environ['OPENAI_API_KEY']\n",
    "MY_AOAI_VERSION = os.environ['OPENAI_API_VERSION']\n",
    "MY_GPT_ENGINE = os.environ['OPENAI_API_ENGINE']\n",
    "MY_AOAI_EMBEDDING_ENGINE = 'text-embedding-3-small'\n",
    "\n",
    "status, client = aoai.setupOpenai(\n",
    "                        aoai_endpoint=MY_AOAI_ENDPOINT,\n",
    "                        aoai_api_key=MY_AOAI_KEY,\n",
    "                        aoai_version=MY_AOAI_VERSION\n",
    "                 )\n",
    "if status == True:\n",
    "    print(\"AOAI setup succeeded\")\n",
    "else:\n",
    "    print(\"AOAI setup failed\")"
   ]
  },
  {
   "cell_type": "markdown",
   "metadata": {},
   "source": [
    "## Create embeddings\n",
    "Read your data, generate OpenAI embeddings and export to a format to insert your Azure Cognitive Search index:"
   ]
  },
  {
   "cell_type": "code",
   "execution_count": 9,
   "metadata": {},
   "outputs": [],
   "source": [
    "import json\n",
    "from tenacity import retry, wait_random_exponential, stop_after_attempt  \n",
    "\n",
    "# Generate Document Embeddings using OpenAI Ada 002\n",
    "\n",
    "# TODO: Read from Blob Store\n",
    "# Assuming you are running notebook from the notebook folder\n",
    "MY_INPUT_DATA_FILE = r'..\\..\\..\\data\\sample-azure-service-docs\\text-sample.json'\n",
    "MY_OUTPUT_DATA_FILE = r'..\\..\\..\\data\\sample-azure-service-docs\\text-sample-with-vectors.json'"
   ]
  },
  {
   "cell_type": "code",
   "execution_count": null,
   "metadata": {},
   "outputs": [],
   "source": [
    "# Read the text-sample.json\n",
    "with open(MY_INPUT_DATA_FILE, 'r', encoding='utf-8') as file:\n",
    "    input_data = json.load(file)\n",
    "\n",
    "@retry(wait=wait_random_exponential(min=1, max=20), stop=stop_after_attempt(6))\n",
    "# Generate embeddings for title and content fields\n",
    "def add_embedding(text_data):\n",
    "    return aoai.generate_embedding(the_engine = MY_AOAI_EMBEDDING_ENGINE,\n",
    "                              the_text = text_data)\n",
    "for item in input_data:\n",
    "    title = item['title']\n",
    "    content = item['content']\n",
    "    title_embeddings = add_embedding(title)\n",
    "    content_embeddings = add_embedding(content)\n",
    "    item['titleVector'] = title_embeddings\n",
    "    item['contentVector'] = content_embeddings\n",
    "\n",
    "# Output embeddings to docVectors.json file\n",
    "with open(MY_OUTPUT_DATA_FILE, \"w\") as f:\n",
    "    json.dump(input_data, f)"
   ]
  },
  {
   "cell_type": "markdown",
   "metadata": {},
   "source": [
    "## Authenticate to Azure Cognitive Search and connect"
   ]
  },
  {
   "cell_type": "code",
   "execution_count": 3,
   "metadata": {},
   "outputs": [
    {
     "name": "stdout",
     "output_type": "stream",
     "text": [
      "\n",
      "Got Azure Cognitive Search ADMIN API Key from environment variable\n"
     ]
    }
   ],
   "source": [
    "import cog_search\n",
    "\n",
    "cogSearchCredential = cog_search.getCogSearchCredential()"
   ]
  },
  {
   "cell_type": "code",
   "execution_count": 5,
   "metadata": {},
   "outputs": [],
   "source": [
    "from azure.search.documents.indexes import SearchIndexClient\n",
    "\n",
    "# Create a search index\n",
    "MY_COG_SEARCH_ENDPOINT = 'https://tr-docai-cog-search.search.windows.net'\n",
    "MY_COG_SEEARCH_INDEX_NAME = 'sample-azure-service-docs-index'"
   ]
  },
  {
   "cell_type": "markdown",
   "metadata": {},
   "source": [
    "## Import all cognitive search packages"
   ]
  },
  {
   "cell_type": "code",
   "execution_count": 6,
   "metadata": {},
   "outputs": [],
   "source": [
    "from azure.search.documents import SearchClient  \n",
    "from azure.search.documents.models import Vector  \n",
    "from azure.search.documents.indexes.models import (  \n",
    "    SearchIndex,  \n",
    "    SearchField,  \n",
    "    SearchFieldDataType,  \n",
    "    SimpleField,  \n",
    "    SearchableField,  \n",
    "    SearchIndex,  \n",
    "    SemanticConfiguration,  \n",
    "    PrioritizedFields,  \n",
    "    SemanticField,  \n",
    "    SearchField,  \n",
    "    SemanticSettings,  \n",
    "    VectorSearch,  \n",
    "    VectorSearchAlgorithmConfiguration,  \n",
    ")  "
   ]
  },
  {
   "cell_type": "markdown",
   "metadata": {},
   "source": [
    "## Create your search index\n",
    "Create your search index schema and vector search configuration:"
   ]
  },
  {
   "cell_type": "code",
   "execution_count": 7,
   "metadata": {},
   "outputs": [
    {
     "name": "stdout",
     "output_type": "stream",
     "text": [
      " sample-azure-service-docs-index created\n"
     ]
    }
   ],
   "source": [
    "fields = [\n",
    "    SimpleField(name=\"id\", type=SearchFieldDataType.String, key=True, sortable=True, filterable=True, facetable=True),\n",
    "    SearchableField(name=\"title\", type=SearchFieldDataType.String),\n",
    "    SearchableField(name=\"content\", type=SearchFieldDataType.String),\n",
    "    SearchableField(name=\"category\", type=SearchFieldDataType.String,\n",
    "                    filterable=True),\n",
    "    SearchField(name=\"titleVector\", type=SearchFieldDataType.Collection(SearchFieldDataType.Single),\n",
    "                searchable=True, vector_search_dimensions=1536, vector_search_configuration=\"my-vector-config\"),\n",
    "    SearchField(name=\"contentVector\", type=SearchFieldDataType.Collection(SearchFieldDataType.Single),\n",
    "                searchable=True, vector_search_dimensions=1536, vector_search_configuration=\"my-vector-config\"),\n",
    "]\n",
    "\n",
    "vector_search = VectorSearch(\n",
    "    algorithm_configurations=[\n",
    "        VectorSearchAlgorithmConfiguration(\n",
    "            name=\"my-vector-config\",\n",
    "            kind=\"hnsw\",\n",
    "            hnsw_parameters={\n",
    "                \"m\": 4,\n",
    "                \"efConstruction\": 400,\n",
    "                \"efSearch\": 500,\n",
    "                \"metric\": \"cosine\"\n",
    "            }\n",
    "        )\n",
    "    ]\n",
    ")\n",
    "\n",
    "semantic_config = SemanticConfiguration(\n",
    "    name=\"my-semantic-config\",\n",
    "    prioritized_fields=PrioritizedFields(\n",
    "        title_field=SemanticField(field_name=\"title\"),\n",
    "        prioritized_keywords_fields=[SemanticField(field_name=\"category\")],\n",
    "        prioritized_content_fields=[SemanticField(field_name=\"content\")]\n",
    "    )\n",
    ")\n",
    "\n",
    "# Create the semantic settings with the configuration\n",
    "semantic_settings = SemanticSettings(configurations=[semantic_config])\n",
    "\n",
    "\n",
    "# create an index client connection\n",
    "index_client = SearchIndexClient(endpoint=MY_COG_SEARCH_ENDPOINT, \n",
    "                                 credential=cogSearchCredential)\n",
    "# delete any existing index first to have a clean slate\n",
    "index_client.delete_index(MY_COG_SEEARCH_INDEX_NAME)\n",
    "# Create the search index with the semantic settings\n",
    "index = SearchIndex(name=MY_COG_SEEARCH_INDEX_NAME, fields=fields,\n",
    "                    vector_search=vector_search, semantic_settings=semantic_settings)\n",
    "result = index_client.create_or_update_index(index)\n",
    "print(f' {result.name} created')\n"
   ]
  },
  {
   "cell_type": "markdown",
   "metadata": {},
   "source": [
    "## Insert text and embeddings into Azure Cognitive Search Index\n",
    "Add texts and metadata from the JSON data to the vector store:"
   ]
  },
  {
   "cell_type": "code",
   "execution_count": 10,
   "metadata": {},
   "outputs": [
    {
     "name": "stdout",
     "output_type": "stream",
     "text": [
      "Uploaded 108 documents\n"
     ]
    }
   ],
   "source": [
    "# Upload some documents to the index\n",
    "with open(MY_OUTPUT_DATA_FILE, 'r') as file:  \n",
    "    documents = json.load(file)  \n",
    "search_client = SearchClient(\n",
    "                    endpoint=MY_COG_SEARCH_ENDPOINT, \n",
    "                    index_name=MY_COG_SEEARCH_INDEX_NAME, \n",
    "                    credential=cogSearchCredential)\n",
    "result = search_client.upload_documents(documents)  \n",
    "print(f\"Uploaded {len(documents)} documents\") "
   ]
  },
  {
   "cell_type": "markdown",
   "metadata": {},
   "source": [
    "# Test different query types (full text, vector, semantic, cross-field, hybrid) to check if you can query Cog Search for content"
   ]
  },
  {
   "cell_type": "markdown",
   "metadata": {},
   "source": [
    "## Perform a Vector Similarity Search"
   ]
  },
  {
   "cell_type": "code",
   "execution_count": 12,
   "metadata": {},
   "outputs": [
    {
     "name": "stdout",
     "output_type": "stream",
     "text": [
      "Title: Azure DevOps\n",
      "\n",
      "Score: 0.80402017\n",
      "\n",
      "Content: Azure DevOps is a suite of services that help you plan, build, and deploy applications. It includes Azure Boards for work item tracking, Azure Repos for source code management, Azure Pipelines for continuous integration and continuous deployment, Azure Test Plans for manual and automated testing, and Azure Artifacts for package management. DevOps supports a wide range of programming languages, frameworks, and platforms, making it easy to integrate with your existing development tools and processes. It also integrates with other Azure services, such as Azure App Service and Azure Functions.\n",
      "\n",
      "Category: Developer Tools\n",
      "\n"
     ]
    }
   ],
   "source": [
    "# Pure Vector Search multi-lingual (e.g 'tools for software development' in Dutch)  \n",
    "query = \"tools voor softwareontwikkeling\"  \n",
    "  \n",
    "search_client = SearchClient(\n",
    "                    endpoint=MY_COG_SEARCH_ENDPOINT, \n",
    "                    index_name=MY_COG_SEEARCH_INDEX_NAME, \n",
    "                    credential=cogSearchCredential)\n",
    "\n",
    "results = search_client.search(  \n",
    "    search_text=None,  \n",
    "    vector=aoai.generate_embedding(\n",
    "                    the_engine=MY_AOAI_EMBEDDING_ENGINE,\n",
    "                    the_text=query), \n",
    "    top_k=1,  \n",
    "    vector_fields=\"contentVector\",\n",
    "    select=[\"title\", \"content\", \"category\"],\n",
    ")  \n",
    "  \n",
    "for result in results:  \n",
    "    print(f\"Title: {result['title']}\\n\")  \n",
    "    print(f\"Score: {result['@search.score']}\\n\")  \n",
    "    print(f\"Content: {result['content']}\\n\")  \n",
    "    print(f\"Category: {result['category']}\\n\")  "
   ]
  },
  {
   "cell_type": "markdown",
   "metadata": {},
   "source": [
    "## Perform a Semantic Hybrid Search\n",
    "\n",
    "<font color=red>Make sure Semantic Search is enabled for this Azure Cognitive Search instance</font>"
   ]
  },
  {
   "cell_type": "code",
   "execution_count": 10,
   "metadata": {},
   "outputs": [
    {
     "name": "stdout",
     "output_type": "stream",
     "text": [
      "Semantic Answer highlights: Azure Cognitive Search is<em> a fully managed search-as-a-service that enables you to build rich search experiences for your applications.</em> It provides features like full-text search, faceted navigation, and filters. Azure Cognitive Search supports various data sources, such as Azure SQL Database, Azure Blob Storage, and Azure Cosmos DB.\n",
      "\n",
      "Semantic Answer Score: 0.9462890625\n",
      "\n",
      "Category: 40\n",
      "\n",
      "---NOW SEE THE REGULAR SEARCH RESULT BELOW AND NOTICE IT IS NOT AS GOOD AS ABOVE---\n",
      "\n",
      "Title: Azure Stack Edge\n",
      "Score: 0.009999999776482582\n",
      "\n",
      "Content: Azure Stack Edge is a managed, edge computing appliance that enables you to run Azure services and AI workloads on-premises or at the edge. It provides features like hardware-accelerated machine learning, local caching, and integration with Azure IoT Hub. Azure Stack Edge supports various Azure services, such as Azure Functions, Azure Machine Learning, and Azure Kubernetes Service. You can use Azure Stack Edge to build edge computing applications, optimize your data processing, and ensure the security and compliance of your workloads. It also integrates with other Azure services, such as Azure Monitor and Azure Stack Hub.\n",
      "\n",
      "Category: Hybrid\n",
      "\n",
      "Caption: Azure Stack Edge is a managed, edge computing appliance that enables you to run Azure services and AI workloads on-premises or at the edge. It provides features like hardware-accelerated machine learning, local caching, and integration with Azure IoT Hub.\n",
      "\n"
     ]
    }
   ],
   "source": [
    "# Semantic Hybrid Search\n",
    "# note the incorrect spelling here - 'sarch'\n",
    "query = \"what is azure sarch?\"\n",
    "\n",
    "search_client = SearchClient(\n",
    "                    endpoint=MY_COG_SEARCH_ENDPOINT, \n",
    "                    index_name=MY_COG_SEEARCH_INDEX_NAME, \n",
    "                    credential=cogSearchCredential)\n",
    "\n",
    "results = search_client.search(\n",
    "    search_text=query,\n",
    "    vector=aoai.generate_embedding(\n",
    "                    the_engine=MY_AOAI_EMBEDDING_ENGINE,\n",
    "                    the_text=query), \n",
    "    top_k=1,  \n",
    "    vector_fields=\"contentVector\",\n",
    "    select=[\"title\", \"content\", \"category\"],\n",
    "    query_type=\"semantic\", \n",
    "    query_language=\"en-us\", \n",
    "    semantic_configuration_name='my-semantic-config', \n",
    "    query_caption=\"extractive\", \n",
    "    query_answer=\"extractive\",\n",
    "    top=1\n",
    ")\n",
    "\n",
    "#TODO Get the Category name instead of the key\n",
    "semantic_answers = results.get_answers()\n",
    "for answer in semantic_answers:\n",
    "    if answer.highlights:\n",
    "        print(f\"Semantic Answer highlights: {answer.highlights}\\n\")\n",
    "    else:\n",
    "        print(f\"Semantic Answer text: {answer.text}\\n\")\n",
    "    print(f\"Semantic Answer Score: {answer.score}\\n\")\n",
    "    print(f\"Category: {answer.key}\\n\")\n",
    "\n",
    "print(\"---NOW SEE THE REGULAR SEARCH RESULT BELOW AND NOTICE IT IS NOT AS GOOD AS ABOVE---\\n\")\n",
    "for result in results:\n",
    "    print(f\"Title: {result['title']}\")\n",
    "    print(f\"Score: {result['@search.score']}\\n\")  \n",
    "    print(f\"Content: {result['content']}\\n\")\n",
    "    print(f\"Category: {result['category']}\\n\")\n",
    "\n",
    "    captions = result[\"@search.captions\"]\n",
    "    if captions:\n",
    "        caption = captions[0]\n",
    "        if caption.highlights:\n",
    "            print(f\"Caption: {caption.highlights}\\n\")\n",
    "        else:\n",
    "            print(f\"Caption: {caption.text}\\n\")"
   ]
  },
  {
   "cell_type": "markdown",
   "metadata": {},
   "source": [
    "## Perform a Cross-Field Vector Search"
   ]
  },
  {
   "cell_type": "code",
   "execution_count": 11,
   "metadata": {},
   "outputs": [
    {
     "name": "stdout",
     "output_type": "stream",
     "text": [
      "Title: Azure DevOps\n",
      "\n",
      "Score: 0.03333333507180214\n",
      "\n",
      "Content: Azure DevOps is a suite of services that help you plan, build, and deploy applications. It includes Azure Boards for work item tracking, Azure Repos for source code management, Azure Pipelines for continuous integration and continuous deployment, Azure Test Plans for manual and automated testing, and Azure Artifacts for package management. DevOps supports a wide range of programming languages, frameworks, and platforms, making it easy to integrate with your existing development tools and processes. It also integrates with other Azure services, such as Azure App Service and Azure Functions.\n",
      "\n",
      "Category: Developer Tools\n",
      "\n"
     ]
    }
   ],
   "source": [
    "# Cross-Field Vector Search\n",
    "query = \"tools for software development\"  \n",
    "  \n",
    "search_client = SearchClient(\n",
    "                    endpoint=MY_COG_SEARCH_ENDPOINT, \n",
    "                    index_name=MY_COG_SEEARCH_INDEX_NAME, \n",
    "                    credential=cogSearchCredential)\n",
    "  \n",
    "results = search_client.search(  \n",
    "    search_text=None,  \n",
    "    vector=aoai.generate_embedding(\n",
    "                    the_engine=MY_AOAI_EMBEDDING_ENGINE,\n",
    "                    the_text=query), \n",
    "    top_k=1,  \n",
    "    vector_fields=\"titleVector, contentVector\",\n",
    "    select=[\"title\", \"content\", \"category\"],\n",
    ")  \n",
    "  \n",
    "for result in results:  \n",
    "    print(f\"Title: {result['title']}\\n\")  \n",
    "    print(f\"Score: {result['@search.score']}\\n\")  \n",
    "    print(f\"Content: {result['content']}\\n\")  \n",
    "    print(f\"Category: {result['category']}\\n\")  \n"
   ]
  },
  {
   "cell_type": "markdown",
   "metadata": {},
   "source": [
    "## Perform a Pure Vector Search with a filter"
   ]
  },
  {
   "cell_type": "code",
   "execution_count": 12,
   "metadata": {},
   "outputs": [
    {
     "name": "stdout",
     "output_type": "stream",
     "text": [
      "Title: Azure DevOps\n",
      "\n",
      "Score: 0.82971567\n",
      "\n",
      "Content: Azure DevOps is a suite of services that help you plan, build, and deploy applications. It includes Azure Boards for work item tracking, Azure Repos for source code management, Azure Pipelines for continuous integration and continuous deployment, Azure Test Plans for manual and automated testing, and Azure Artifacts for package management. DevOps supports a wide range of programming languages, frameworks, and platforms, making it easy to integrate with your existing development tools and processes. It also integrates with other Azure services, such as Azure App Service and Azure Functions.\n",
      "\n",
      "Category: Developer Tools\n",
      "\n"
     ]
    }
   ],
   "source": [
    "# Pure Vector Search with Filter\n",
    "query = \"tools for software development\"  \n",
    "  \n",
    "search_client = SearchClient(\n",
    "                    endpoint=MY_COG_SEARCH_ENDPOINT, \n",
    "                    index_name=MY_COG_SEEARCH_INDEX_NAME, \n",
    "                    credential=cogSearchCredential)\n",
    "  \n",
    "\n",
    "results = search_client.search(  \n",
    "    search_text=None,  \n",
    "    vector=aoai.generate_embedding(\n",
    "                    the_engine=MY_AOAI_EMBEDDING_ENGINE,\n",
    "                    the_text=query), \n",
    "    top_k=1,  \n",
    "    vector_fields=\"contentVector\",\n",
    "    filter=\"category eq 'Developer Tools'\",\n",
    "    select=[\"title\", \"content\", \"category\"]\n",
    ")  \n",
    "  \n",
    "for result in results:  \n",
    "    print(f\"Title: {result['title']}\\n\")  \n",
    "    print(f\"Score: {result['@search.score']}\\n\")  \n",
    "    print(f\"Content: {result['content']}\\n\")  \n",
    "    print(f\"Category: {result['category']}\\n\")  \n"
   ]
  },
  {
   "cell_type": "markdown",
   "metadata": {},
   "source": [
    "## Perform a Hybrid Search"
   ]
  },
  {
   "cell_type": "code",
   "execution_count": 13,
   "metadata": {},
   "outputs": [
    {
     "name": "stdout",
     "output_type": "stream",
     "text": [
      "Title: Azure Blob Storage\n",
      "\n",
      "Score: 0.03205128386616707\n",
      "\n",
      "Content: Azure Blob Storage is a scalable, durable, and high-performance object storage service for unstructured data. It provides features like data redundancy, geo-replication, and fine-grained access control. Blob Storage supports various data types, such as images, documents, and videos. You can use Blob Storage to store and manage your data, build data lakes, and develop big data analytics solutions. It also integrates with other Azure services, such as Azure CDN, Azure Functions, and Azure Machine Learning.\n",
      "\n",
      "Category: Storage\n",
      "\n"
     ]
    }
   ],
   "source": [
    "# Hybrid Search\n",
    "query = \"scalable storage solution\"  \n",
    "  \n",
    "search_client = SearchClient(\n",
    "                    endpoint=MY_COG_SEARCH_ENDPOINT, \n",
    "                    index_name=MY_COG_SEEARCH_INDEX_NAME, \n",
    "                    credential=cogSearchCredential)\n",
    "  \n",
    "results = search_client.search(  \n",
    "    search_text=query,  \n",
    "    vector=aoai.generate_embedding(\n",
    "                    the_engine=MY_AOAI_EMBEDDING_ENGINE,\n",
    "                    the_text=query), \n",
    "    top_k=1,  \n",
    "    vector_fields=\"contentVector\",\n",
    "    select=[\"title\", \"content\", \"category\"],\n",
    "    top=1\n",
    ")  \n",
    "  \n",
    "for result in results:  \n",
    "    print(f\"Title: {result['title']}\\n\")  \n",
    "    print(f\"Score: {result['@search.score']}\\n\")  \n",
    "    print(f\"Content: {result['content']}\\n\")  \n",
    "    print(f\"Category: {result['category']}\\n\")  \n"
   ]
  }
 ],
 "metadata": {
  "kernelspec": {
   "display_name": "Python 3 (ipykernel)",
   "language": "python",
   "name": "python3"
  },
  "language_info": {
   "codemirror_mode": {
    "name": "ipython",
    "version": 3
   },
   "file_extension": ".py",
   "mimetype": "text/x-python",
   "name": "python",
   "nbconvert_exporter": "python",
   "pygments_lexer": "ipython3",
   "version": "3.11.9"
  }
 },
 "nbformat": 4,
 "nbformat_minor": 2
}
