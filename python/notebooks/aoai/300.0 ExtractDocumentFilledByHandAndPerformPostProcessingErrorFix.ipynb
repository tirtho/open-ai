{
 "cells": [
  {
   "cell_type": "markdown",
   "metadata": {},
   "source": [
    "# Sample Form filled with hand written text\n",
    "\n",
    "- Extract using Azure Document Intelligence Service\n",
    "- Post Processing error fixes with AOAI GPT-4 \n",
    "\n",
    "## Prerequisites\n",
    "1. To run the code, install the following packages. Please use the latest pre-release version `pip install azure-ai-documentintelligence==1.0.0`.\n"
   ]
  },
  {
   "cell_type": "markdown",
   "metadata": {},
   "source": [
    "- > ! pip install azure-ai-documentintelligence==1.0.0"
   ]
  },
  {
   "cell_type": "markdown",
   "metadata": {},
   "source": [
    "## Load all the API keys, parameters and login credentials"
   ]
  },
  {
   "cell_type": "code",
   "execution_count": 6,
   "metadata": {},
   "outputs": [
    {
     "name": "stdout",
     "output_type": "stream",
     "text": [
      "\n",
      "Got Azure Form Recognizer API Key from environment variable\n"
     ]
    }
   ],
   "source": [
    "import os\n",
    "import docintel\n",
    "\n",
    "# Your Azure Document Intelligence Service Instance\n",
    "DOC_INTEL_ENDPOINT = os.getenv('FORM_RECOGNIZER_ENDPOINT')\n",
    "DOC_INTEL_API_KEY = os.getenv(\"FORM_RECOGNIZER_API_KEY\")\n",
    "\n",
    "documentIntelligenceCredential = docintel.getDocumentIntelligenceCredential(DOC_INTEL_API_KEY)\n",
    "\n",
    "documentIntelligenceClient = docintel.getDocumentIntelligenceClient(\n",
    "                                endpoint=DOC_INTEL_ENDPOINT,\n",
    "                                credential=documentIntelligenceCredential\n",
    "                                )"
   ]
  },
  {
   "cell_type": "code",
   "execution_count": 7,
   "metadata": {},
   "outputs": [
    {
     "name": "stdout",
     "output_type": "stream",
     "text": [
      "Document Intelligence API version = 2024-11-30\n",
      "         Document Extraction Model Id = commercialInsuranceApplicationExtraction-v1\n",
      "         Does document have any hand written text? True\n",
      "\n",
      "Document count = 1\n"
     ]
    }
   ],
   "source": [
    "MY_TEST_DOCUMENT = r'C:\\Users\\tibarar\\OneDrive - Microsoft\\Desktop\\DocAI - LocalDocs\\CommercialInsuranceApplications\\MacMohanFinancialAdvisor-COMMERCIAL INSURANCE APPLICATION.pdf'\n",
    "#MY_TEST_DOCUMENT = r'C:\\Users\\tibarar\\OneDrive - Microsoft\\Desktop\\DocAI - LocalDocs\\AutoInsuranceClaims\\InsuranceClaim-WilliamWordworth.pdf'\n",
    "\n",
    "# The model id should match the custom model you have\n",
    "# trained and deployed in your Azure Document Intelligence Service Instance\n",
    "# with the endpoint MY_FORM_RECOGNIZER_ENDPOINT\n",
    "MY_CLAIMS_MODEL_ID = 'commercialInsuranceApplicationExtraction-v1'\n",
    "#MY_CLAIMS_MODEL_ID = 'autoInsuranceClaimExtraction-v2'\n",
    "\n",
    "fr_api_version, model_id, is_handwritten, result = docintel.extractResultFromLocalDocument(\n",
    "                                                        client=documentIntelligenceClient,\n",
    "                                                        model=MY_CLAIMS_MODEL_ID,\n",
    "                                                        filepath=MY_TEST_DOCUMENT\n",
    "                                                    )\n",
    "\n",
    "print(f'Document Intelligence API version = {fr_api_version}\\n \\\n",
    "        Document Extraction Model Id = {model_id}\\n \\\n",
    "        Does document have any hand written text? {is_handwritten}\\n'\n",
    "     )\n",
    "doc_count = len(result.documents)\n",
    "print(f'Document count = {doc_count}')"
   ]
  },
  {
   "cell_type": "markdown",
   "metadata": {},
   "source": [
    "## Print returned document fields in API response"
   ]
  },
  {
   "cell_type": "code",
   "execution_count": 24,
   "metadata": {},
   "outputs": [
    {
     "name": "stdout",
     "output_type": "stream",
     "text": [
      "Document 0 ---------------\n",
      "Document has type commercialInsuranceApplicationExtraction-v1\n",
      "Document extraction confidence = 0.999\n",
      "Document was analyzed with model with ID commercialInsuranceApplicationExtraction-v1\n",
      "\tFormType[type:DocumentFieldType.STRING;confidence:0.954] = 'COMMERCIAL INSURANCE APPLICATION APPLICANT INFORMATION SECTION'\n",
      "\tApplicationDate[type:DocumentFieldType.STRING;confidence:0.981] = '11/20/2023'\n",
      "\tAgencyName[type:DocumentFieldType.STRING;confidence:0.932] = 'Alex & Chen Brokers Inc'\n",
      "\tAgencyAddress[type:DocumentFieldType.STRING;confidence:0.913] = '7268 Brookridge Central Blvd\n",
      "Brooksville\n",
      "FL 34613\n",
      "FL USA'\n",
      "\tCarrierName[type:DocumentFieldType.STRING;confidence:0.978] = 'GCML'\n",
      "\tNAICCode[type:DocumentFieldType.STRING;confidence:0.668] = '123'\n",
      "\tCompanyName[type:DocumentFieldType.STRING;confidence:0.974] = 'MacMohan Financial Advisors LLC'\n",
      "\tProgramCode[type:DocumentFieldType.STRING;confidence:0.982] = 'FA-2354'\n",
      "\tPolicyNumber[type:DocumentFieldType.STRING;confidence:0.983] = '2433456'\n",
      "\tContactName[type:DocumentFieldType.STRING;confidence:0.975] = 'Ashok Vardhan'\n",
      "\tContactPhone[type:DocumentFieldType.STRING;confidence:0.982] = '8212349586'\n",
      "\tContactEmailAddress[type:DocumentFieldType.STRING;confidence:0.899] = 'tirthankar.barari@microsoft.com'\n",
      "\tContactCode[type:DocumentFieldType.STRING;confidence:0.975] = 'ACB 039486'\n",
      "\tContactSubCode[type:DocumentFieldType.STRING;confidence:0.986] = '546'\n",
      "\tAgencyCustomerId[type:DocumentFieldType.STRING;confidence:0.982] = 'CT-294039654'\n",
      "\tUnderwriter[type:DocumentFieldType.STRING;confidence:0.971] = 'Richard Bell'\n",
      "\tUnderwriterOffice[type:DocumentFieldType.STRING;confidence:0.96] = 'GCML Connecticut'\n",
      "\tStatusOfTransactionQuote[type:DocumentFieldType.SELECTION_MARK;confidence:0.867] = ':selected:'\n",
      "\tStatusOfTransactionBound[type:DocumentFieldType.SELECTION_MARK;confidence:0.897] = ':unselected:'\n",
      "\tStatusOfTransactionChange[type:DocumentFieldType.SELECTION_MARK;confidence:0.959] = ':unselected:'\n",
      "\tStatusOfTransactionCancel[type:DocumentFieldType.SELECTION_MARK;confidence:0.951] = ':unselected:'\n",
      "\tStatusOfTransactionIssuePolicy[type:DocumentFieldType.SELECTION_MARK;confidence:0.837] = ':unselected:'\n",
      "\tStatusOfTransactionRenew[type:DocumentFieldType.SELECTION_MARK;confidence:0.833] = ':unselected:'\n",
      "\tTransactionDate[type:DocumentFieldType.STRING;confidence:0.978] = '11/10/2023'\n",
      "\tTransactionTime[type:DocumentFieldType.STRING;confidence:0.981] = '4:00'\n",
      "\tTransactionTimeAM[type:DocumentFieldType.SELECTION_MARK;confidence:0.97] = ':unselected:'\n",
      "\tTransactionTimePM[type:DocumentFieldType.SELECTION_MARK;confidence:0.919] = ':selected:'\n",
      "\tPolicyProposedEffectiveDate[type:DocumentFieldType.STRING;confidence:0.981] = '11/20/2023'\n",
      "\tPolicyProposedExpirationDate[type:DocumentFieldType.STRING;confidence:0.983] = '11/20/2024'\n",
      "\tBillingPlanDirect[type:DocumentFieldType.SELECTION_MARK;confidence:0.895] = ':unselected:'\n",
      "\tBillingPlanAgency[type:DocumentFieldType.SELECTION_MARK;confidence:0.933] = ':selected:'\n",
      "\tPaymentPlan[type:DocumentFieldType.STRING;confidence:0.983] = 'Monthly'\n",
      "\tPaymentMethod[type:DocumentFieldType.STRING;confidence:0.976] = 'Direct Debit'\n",
      "\tDeposit[type:DocumentFieldType.STRING;confidence:0.981] = '2000'\n",
      "\tMinPremium[type:DocumentFieldType.STRING;confidence:0.98] = '5000'\n",
      "\tPolicyPremium[type:DocumentFieldType.STRING;confidence:0.981] = '6000'\n",
      "\tApplicantName[type:DocumentFieldType.STRING;confidence:0.965] = 'Jeff Hoffman'\n",
      "\tApplicantAddress[type:DocumentFieldType.STRING;confidence:0.963] = '1 Salmon Brook St\n",
      "Granby CT 06035\n",
      "CT USA'\n",
      "\tGLCode[type:DocumentFieldType.STRING;confidence:0.986] = '678'\n",
      "\tSIC[type:DocumentFieldType.STRING;confidence:0.984] = '56'\n",
      "\tNAICS[type:DocumentFieldType.STRING;confidence:0.983] = '567'\n",
      "\tSSN[type:DocumentFieldType.STRING;confidence:0.98] = '123-98-4578'\n",
      "\tApplicantBusinessPhone[type:DocumentFieldType.STRING;confidence:0.964] = '+1 781 236 2311'\n",
      "\tWebsite[type:DocumentFieldType.STRING;confidence:0.97] = 'www.macmohan-fa.com'\n",
      "\tIsACorporation[type:DocumentFieldType.SELECTION_MARK;confidence:0.84] = ':unselected:'\n",
      "\tIsIndividual[type:DocumentFieldType.SELECTION_MARK;confidence:0.651] = ':unselected:'\n",
      "\tIsJointVenture[type:DocumentFieldType.SELECTION_MARK;confidence:0.72] = ':unselected:'\n",
      "\tIsLLC[type:DocumentFieldType.SELECTION_MARK;confidence:0.813] = ':selected:'\n",
      "\tIsNotForProfit[type:DocumentFieldType.SELECTION_MARK;confidence:0.872] = ':unselected:'\n",
      "\tIsPartnership[type:DocumentFieldType.SELECTION_MARK;confidence:0.576] = ':unselected:'\n",
      "\tIsSCorp[type:DocumentFieldType.SELECTION_MARK;confidence:0.72] = ':unselected:'\n",
      "\tIsTrust[type:DocumentFieldType.SELECTION_MARK;confidence:0.576] = ':unselected:'\n",
      "\tIsTypeOther[type:DocumentFieldType.SELECTION_MARK;confidence:0.34] = ':unselected:'\n",
      "\tAgencyCustomerIdPage2[type:DocumentFieldType.STRING;confidence:0.981] = 'CT-294039654'\n",
      "\tAdditionalContactType[type:DocumentFieldType.STRING;confidence:0.982] = 'President'\n",
      "\tAdditionalContactName[type:DocumentFieldType.STRING;confidence:0.975] = 'Michael MacMohan'\n",
      "\tAdditionalContactPrimaryPhone[type:DocumentFieldType.STRING;confidence:0.932] = '+1 232 222 2121'\n",
      "\tAdditionalContactSecondaryPhone[type:DocumentFieldType.STRING;confidence:0.976] = '+1 454 3423 5647'\n",
      "\tAdditionalContactPrimaryEmailAddress[type:DocumentFieldType.STRING;confidence:0.881] = 'tirthankar.barari@microsoft.com'\n",
      "\tAdditionalDescriptionOfPrimaryOperations[type:DocumentFieldType.STRING;confidence:0.924] = 'We do personal tax, retirement plan, investments for wide range of clients across USA. We are in business since 1999 and have a 5 star rating in BBB.'\n",
      "\tAgencyCustomerIdPage3[type:DocumentFieldType.STRING;confidence:0.981] = 'CT-294039654'\n",
      "\tIsAFormalSafetyProgramInOperation[type:DocumentFieldType.STRING;confidence:0.98] = 'Y'\n",
      "\tHasSafetyManual[type:DocumentFieldType.SELECTION_MARK;confidence:0.937] = ':selected:'\n",
      "\tHasSafetyPosition[type:DocumentFieldType.SELECTION_MARK;confidence:0.867] = ':selected:'\n",
      "\tHasMonthlyMeetings[type:DocumentFieldType.SELECTION_MARK;confidence:0.758] = ':selected:'\n",
      "\tHasOSHA[type:DocumentFieldType.SELECTION_MARK;confidence:0.86] = ':selected:'\n",
      "\tHasOtherSafety[type:DocumentFieldType.SELECTION_MARK;confidence:0.826] = ':unselected:'\n",
      "\tHasExposureToChemicals[type:DocumentFieldType.STRING;confidence:0.868] = 'N'\n",
      "\tExposureToChemicals[type:DocumentFieldType.STRING;confidence:0.933] = 'ANY EXPOSURE TO FLAMMABLES, EXPLOSIVES, CHEMICALS?'\n",
      "\tHadSafetyCodeViolations[type:DocumentFieldType.STRING;confidence:0.978] = 'N'\n",
      "\tAgencyCustomerIdPage4[type:DocumentFieldType.STRING;confidence:0.982] = 'CT-294039654'\n",
      "\tLossHistory[type:DocumentFieldType.SELECTION_MARK;confidence:0.681] = ':selected:'\n",
      "\tCopyGivenToAgent[type:DocumentFieldType.SELECTION_MARK;confidence:0.813] = ':selected:'\n",
      "\tNameOfSigningProducer[type:DocumentFieldType.STRING;confidence:0.973] = 'Ashok Vardhan'\n",
      "\tStateProducerLicenseNumber[type:DocumentFieldType.STRING;confidence:0.981] = '4982374'\n",
      "\tApplicantSignature[type:DocumentFieldType.STRING;confidence:0.888] = 'th'\n",
      "\tApplicantSignatureDate[type:DocumentFieldType.STRING;confidence:0.982] = '11/20/2023'\n",
      "\tNationalProducerNumber[type:DocumentFieldType.STRING;confidence:0.984] = '124578'\n",
      "\tLOBTable[type:DocumentFieldType.OBJECT;confidence:0.683] = 'None'\n",
      "\tSafetyCodeViolationHistory[type:DocumentFieldType.OBJECT;confidence:0.995] = 'None'\n",
      "\tPriorCarrierInformationTable[type:DocumentFieldType.OBJECT;confidence:0.887] = 'None'\n",
      "\tLossHistoryTable[type:DocumentFieldType.OBJECT;confidence:0.995] = 'None'\n",
      "\tAudit[type:DocumentFieldType.STRING;confidence:0.959] = 'None'\n",
      "\tAdditionalContactSecondaryEmailAddress[type:DocumentFieldType.STRING;confidence:0.977] = 'None'\n",
      "\tOtherSafetyProgramInOperation[type:DocumentFieldType.STRING;confidence:0.966] = 'None'\n",
      "\tProducerSignature[type:DocumentFieldType.STRING;confidence:0.906] = 'None'\n",
      "-----------------------------------\n"
     ]
    }
   ],
   "source": [
    "if result.documents:\n",
    "    for idx, document in enumerate(result.documents):\n",
    "        print(f'Document {idx} ---------------')\n",
    "        print(f\"Document has type {document.doc_type}\")\n",
    "        print(f'Document extraction confidence = {document.confidence}')\n",
    "        print(f\"Document was analyzed with model with ID {result.model_id}\")\n",
    "        if document.fields:\n",
    "            for name, field in document.fields.items():\n",
    "                field_value = field.get(\"valueString\") if field.get(\"valueString\") else field.content\n",
    "                print(\"\\t{}[type:{};confidence:{}] = '{}'\".format(name, field.type, field.confidence, field_value))\n",
    "print(\"-----------------------------------\")\n"
   ]
  },
  {
   "cell_type": "markdown",
   "metadata": {},
   "source": [
    "## Extract data from tables"
   ]
  },
  {
   "cell_type": "code",
   "execution_count": 50,
   "metadata": {},
   "outputs": [
    {
     "name": "stdout",
     "output_type": "stream",
     "text": [
      "Table Name: 0-fixedTable:LOBTable\n",
      "[['', 'ROW1', 'ROW2', 'ROW3', 'ROW4', 'ROW5', 'ROW6', 'ROW7'], ['LOBNameCol1', 'BOILER & MACHINERY', 'BUSINESS AUTO', 'BUSINESS OWNERS', 'COMMERCIAL GENERAL LIABILITY', 'COMMERCIAL INLAND MARINE', 'COMMERCIAL PROPERTY', 'CRIME'], ['LOBPremiumCol1', '$', '$', '$', '$ 9500', '$', '$ 3500', '$'], ['LOBIndicatorCol2', 'X', None, None, None, None, None, 'X'], ['LOBNameCol2', 'CYBER AND PRIVACY', 'FIDUCIARY LIABILITY', 'GARAGE AND DEALERS', 'LIQUOR LIABILITY', 'MOTOR CARRIER', 'TRUCKERS', 'UMBRELLA'], ['LOBPremiumCol2', '$ 6500', '$', '$', '$', '$', '$', '$ 1000'], ['LOBNameCol3', 'YACHT', None, None, None, None, None, None], ['LOBPremiumCol3', '$', '$', '$', '$', '$', '$', '$'], ['LOBIndicatorCol1', None, None, None, 'X', None, 'X', None], ['LOBIndicatorCol3', None, None, None, None, None, None, None]]\n",
      "----------------------\n",
      "Table Name: 1-fixedTable:SafetyCodeViolationHistory\n",
      "[['', 'ROW1', 'ROW2'], ['OCCUR DATE', None, None], ['EXPLANATION', None, None], ['RESOLUTION', None, None], ['RESOLVE DATE', None, None]]\n",
      "----------------------\n",
      "Table Name: 2-fixedTable:PriorCarrierInformationTable\n",
      "[['', 'ROW1', 'ROW2', 'ROW3', 'ROW4', 'ROW5'], ['CATEGORY', 'CARRIER', 'POLICY NUMBER', 'PREMIUM', 'EFFECTIVE DATE', 'EXPIRATION DATE'], ['GENERAL LIABILITY', 'AG Insurance', '284930295', '$ 2000', '07/01/2022', '06/30/2023'], ['YEAR', None, None, None, None, None], ['AUTOMOBILE', None, None, '$', None, None], ['PROPERTY', None, None, '$', None, None], ['OTHER:', None, None, '$', None, None]]\n",
      "----------------------\n",
      "Table Name: 3-fixedTable:LossHistoryTable\n",
      "[['', 'ROW1', 'ROW2', 'ROW3'], ['DATE OF OCCURRENCE', None, None, None], ['LINE', None, None, None], ['TYPE / DESCRIPTION OF OCCURRENCE OR CLAIM', None, None, None], ['DATE OF CLAIM', None, None, None], ['AMOUNT PAID', None, None, None], ['AMOUNT RESERVED', None, None, None], ['SUBRO- GATION Y / N', None, None, None], ['CLAIM OPEN Y / N', None, None, None]]\n",
      "----------------------\n"
     ]
    }
   ],
   "source": [
    "from collections import Counter\n",
    "\n",
    "def compose_table(header_names, table_data):\n",
    "    table_with_header = []\n",
    "    # Print a two-dimensional array like a table.\n",
    "    max_len_list = []\n",
    "    for i in range(len(header_names)):\n",
    "        col_values = list(map(lambda row: len(str(row[i])), table_data))\n",
    "        col_values.append(len(str(header_names[i])))\n",
    "        max_len_list.append(max(col_values))\n",
    "\n",
    "    table_with_header.append(header_names)\n",
    "    \n",
    "    row_format_str = \"\".join(map(lambda len: f\"{{:<{len + 4}}}\", max_len_list))\n",
    "\n",
    "    #print(row_format_str.format(*header_names))\n",
    "    for row in table_data:\n",
    "        if row:\n",
    "            table_with_header.append(row)\n",
    "     #       if row == None:\n",
    "     #           print(row_format_str.format(*row))\n",
    "     #       else:\n",
    "     #           print(row)\n",
    "    \n",
    "    return table_with_header\n",
    "\n",
    "def extract_tables(result):\n",
    "    extracted_tables = {}\n",
    "    if result.documents:    \n",
    "        SYMBOL_OF_TABLE_TYPE = \"array\"\n",
    "        SYMBOL_OF_OBJECT_TYPE = \"object\"\n",
    "        KEY_OF_VALUE_OBJECT = \"valueObject\"\n",
    "        KEY_OF_CELL_CONTENT = \"content\"\n",
    "\n",
    "        tableCount = 0\n",
    "        for doc in result.documents:\n",
    "            if not doc.fields is None:\n",
    "                for field_name, field_value in doc.fields.items():\n",
    "                    # Dynamic Table cell information store as array in document field.\n",
    "                    if field_value.type == SYMBOL_OF_TABLE_TYPE and field_value.value_array:\n",
    "                        table_name = f'dynamicTable:{field_name}'\n",
    "                        col_names = []\n",
    "                        sample_obj = field_value.value_array[0]\n",
    "                        if KEY_OF_VALUE_OBJECT in sample_obj:\n",
    "                            col_names = list(sample_obj[KEY_OF_VALUE_OBJECT].keys())\n",
    "                        #print(\"----Extracting Dynamic Table Cell Values----\")\n",
    "                        table_rows = []                       \n",
    "                        for obj in field_value.value_array:\n",
    "                            if KEY_OF_VALUE_OBJECT in obj:\n",
    "                                value_obj = obj[KEY_OF_VALUE_OBJECT]\n",
    "                                extract_value_by_col_name = lambda key: (\n",
    "                                    value_obj[key].get(KEY_OF_CELL_CONTENT)\n",
    "                                    if key in value_obj and KEY_OF_CELL_CONTENT in value_obj[key]\n",
    "                                    else \"None\"\n",
    "                                )\n",
    "                                row_data = list(map(extract_value_by_col_name, col_names))\n",
    "                                table_rows.append(row_data)\n",
    "                                table_with_header.append(row_data)\n",
    "                        the_table = compose_table(col_names, table_rows)\n",
    "                        if table_name:\n",
    "                            extracted_tables[f'{tableCount}-{table_name}'] = the_table\n",
    "                        else:\n",
    "                            extracted_tables[f'{tableCount}-unknown'] = the_table\n",
    "                        tableCount = tableCount + 1\n",
    "                    elif (\n",
    "                        field_value.type == SYMBOL_OF_OBJECT_TYPE\n",
    "                        and KEY_OF_VALUE_OBJECT in field_value\n",
    "                        and field_value[KEY_OF_VALUE_OBJECT] is not None\n",
    "                    ):\n",
    "                        rows_by_columns = list(field_value[KEY_OF_VALUE_OBJECT].values())\n",
    "                        is_fixed_table = all(\n",
    "                            (\n",
    "                                rows_of_column[\"type\"] == SYMBOL_OF_OBJECT_TYPE\n",
    "                                and Counter(list(rows_by_columns[0][KEY_OF_VALUE_OBJECT].keys()))\n",
    "                                == Counter(list(rows_of_column[KEY_OF_VALUE_OBJECT].keys()))\n",
    "                            )\n",
    "                            for rows_of_column in rows_by_columns\n",
    "                        )\n",
    "\n",
    "                        # Fixed Table cell information store as object in document field.\n",
    "                        if is_fixed_table:\n",
    "                            table_name = f'fixedTable:{field_name}'\n",
    "                            #print(\"----Extracting Fixed Table Cell Values----\")\n",
    "                            col_names = list(field_value[KEY_OF_VALUE_OBJECT].keys())\n",
    "                            row_dict: dict = {}\n",
    "                            for rows_of_column in rows_by_columns:\n",
    "                                rows = rows_of_column[KEY_OF_VALUE_OBJECT]\n",
    "                                for row_key in list(rows.keys()):\n",
    "                                    if row_key in row_dict:\n",
    "                                        row_dict[row_key].append(rows[row_key].get(KEY_OF_CELL_CONTENT))\n",
    "                                    else:\n",
    "                                        row_dict[row_key] = [\n",
    "                                            row_key,\n",
    "                                            rows[row_key].get(KEY_OF_CELL_CONTENT),\n",
    "                                        ]\n",
    "\n",
    "                            col_names.insert(0, \"\")\n",
    "                            the_table = compose_table(col_names, list(row_dict.values()))\n",
    "                            if table_name:\n",
    "                                extracted_tables[f'{tableCount}-{table_name}'] = the_table\n",
    "                            else:\n",
    "                                extracted_tables[f'{tableCount}-unknown'] = the_table\n",
    "                            tableCount = tableCount + 1\n",
    "    return extracted_tables\n",
    "\n",
    "theTables = extract_tables(result)\n",
    "\n",
    "for tableName in theTables:\n",
    "    print(f'Table Name: {tableName}')\n",
    "    print(theTables[tableName])\n",
    "    print(\"----------------------\")"
   ]
  },
  {
   "cell_type": "markdown",
   "metadata": {},
   "source": [
    "## Extract documents from files in blob store"
   ]
  },
  {
   "cell_type": "code",
   "execution_count": 2,
   "metadata": {},
   "outputs": [
    {
     "name": "stdout",
     "output_type": "stream",
     "text": [
      "Document Intelligence API version = 2024-11-30\n",
      "         Document Extraction Model Id = autoInsuranceClaimExtraction-v2\n",
      "         Does document have any hand written text? True\n",
      "\n",
      "Document count = 1\n"
     ]
    }
   ],
   "source": [
    "test_file_url = os.getenv('BLOB_TEST_FILE_JEAN_GENET_SAS_URL')\n",
    "fr_api_version, model_id, is_handwritten, result = docintel.extractResultFromOnlineDocument(\n",
    "                                                        client=documentIntelligenceClient,\n",
    "                                                        model=MY_CLAIMS_MODEL_ID,\n",
    "                                                        url=test_file_url\n",
    "                                                    )\n",
    "\n",
    "print(f'Document Intelligence API version = {fr_api_version}\\n \\\n",
    "        Document Extraction Model Id = {model_id}\\n \\\n",
    "        Does document have any hand written text? {is_handwritten}\\n'\n",
    "     )\n",
    "doc_count = len(result.documents)\n",
    "print(f'Document count = {doc_count}')"
   ]
  },
  {
   "cell_type": "code",
   "execution_count": 3,
   "metadata": {},
   "outputs": [
    {
     "name": "stdout",
     "output_type": "stream",
     "text": [
      "documents:[{'docType': 'autoInsuranceClaimExtraction-v2:autoInsuranceClaimExtraction-v2', 'boundingRegions': [{'pageNumber': 1, 'polygon': [0, 0, 8.2639, 0, 8.2639, 10.6389, 0, 10.6389]}, {'pageNumber': 2, 'polygon': [0, 0, 8.2639, 0, 8.2639, 10.625, 0, 10.625]}], 'fields': {'VIN': {'type': 'string', 'valueString': 'KLHAB2C24X3615045', 'content': 'KLHAB2C24X3615045', 'boundingRegions': [{'pageNumber': 1, 'polygon': [3.88, 8.31, 6.55, 8.31, 6.55, 8.55, 3.88, 8.55]}], 'confidence': 0.99, 'spans': [{'offset': 631, 'length': 17}]}, 'Address': {'type': 'string', 'valueString': '12 Independence Way, Boston, MA 11201', 'content': '12 Independence Way, Boston, MA 11201', 'boundingRegions': [{'pageNumber': 1, 'polygon': [1.735, 4.065, 6.575, 4.065, 6.575, 4.36, 1.735, 4.36]}], 'confidence': 0.99, 'spans': [{'offset': 115, 'length': 37}]}, 'DateSigned': {'type': 'string', 'valueString': '2/2/2023', 'content': '2/2/2023', 'boundingRegions': [{'pageNumber': 2, 'polygon': [5.885, 7.97, 7.135, 7.97, 7.135, 8.29, 5.885, 8.29]}], 'confidence': 0.99, 'spans': [{'offset': 1372, 'length': 8}]}, 'IncidentTime': {'type': 'string', 'valueString': '3 am EST', 'content': '3 am EST', 'boundingRegions': [{'pageNumber': 1, 'polygon': [2.34, 6.115, 3.535, 6.115, 3.535, 6.33, 2.34, 6.33]}], 'confidence': 0.488, 'spans': [{'offset': 287, 'length': 8}]}, 'SelfFiled': {'type': 'selectionMark', 'valueSelectionMark': 'unselected', 'content': ':unselected:', 'boundingRegions': [{'pageNumber': 2, 'polygon': [1.455, 6.51, 1.57, 6.51, 1.57, 6.63, 1.455, 6.63]}], 'confidence': 0.99, 'spans': [{'offset': 1175, 'length': 12}]}, 'IncidentLocation': {'type': 'string', 'valueString': '780 Lynnway, Lynn, MA 01905', 'content': '780 Lynnway, Lynn, MA 01905', 'boundingRegions': [{'pageNumber': 1, 'polygon': [2.645, 6.335, 6.35, 6.335, 6.35, 6.61, 2.645, 6.61]}], 'confidence': 0.99, 'spans': [{'offset': 317, 'length': 27}]}, 'PolicyNumber': {'type': 'string', 'valueString': 'TRI 123320918', 'content': 'TRI 123320918', 'boundingRegions': [{'pageNumber': 1, 'polygon': [2.34, 4.96, 4.4, 4.96, 4.4, 5.165, 2.34, 5.165]}], 'confidence': 0.99, 'spans': [{'offset': 209, 'length': 13}]}, 'ContactInformationOfWitness': {'type': 'string', 'confidence': 0.955}, 'SustainedInjuries': {'type': 'string', 'valueString': 'bruises in my knees Concussion with head injury and few', 'content': 'Concussion with head injury and few\\nbruises in my knees', 'boundingRegions': [{'pageNumber': 2, 'polygon': [1.195, 4.115, 7.04, 4.115, 7.04, 4.6, 1.195, 4.6]}], 'confidence': 0.931, 'spans': [{'offset': 1033, 'length': 55}]}, 'FormType': {'type': 'string', 'valueString': 'Auto Insurance Claim Document', 'content': 'Auto Insurance Claim Document', 'boundingRegions': [{'pageNumber': 1, 'polygon': [0.975, 2.795, 6.465, 2.795, 6.465, 3.145, 0.975, 3.145]}], 'confidence': 0.99, 'spans': [{'offset': 40, 'length': 29}]}, 'Email': {'type': 'string', 'valueString': 'j9@jean.com', 'content': 'j9@jean.com', 'boundingRegions': [{'pageNumber': 1, 'polygon': [1.53, 4.745, 3.325, 4.745, 3.325, 4.995, 1.53, 4.995]}], 'confidence': 0.99, 'spans': [{'offset': 183, 'length': 11}]}, 'PoliceReportNumber': {'type': 'string', 'valueString': 'MSP 1664', 'content': 'MSP 1664', 'boundingRegions': [{'pageNumber': 2, 'polygon': [2.98, 2.365, 4.2, 2.365, 4.2, 2.565, 2.98, 2.565]}], 'confidence': 0.99, 'spans': [{'offset': 791, 'length': 8}]}, 'LicensePlateNumber': {'type': 'string', 'valueString': 'GPT 4350', 'content': 'GPT 4350', 'boundingRegions': [{'pageNumber': 1, 'polygon': [2.71, 8.515, 3.97, 8.515, 3.97, 8.755, 2.71, 8.755]}], 'confidence': 0.99, 'spans': [{'offset': 670, 'length': 8}]}, 'IncidentDate': {'type': 'string', 'valueString': '1/1/2023', 'content': '1/1/2023', 'boundingRegions': [{'pageNumber': 1, 'polygon': [2.315, 5.88, 3.495, 5.88, 3.495, 6.12, 2.315, 6.12]}], 'confidence': 0.493, 'spans': [{'offset': 261, 'length': 8}]}, 'PoliceContactInfo': {'type': 'string', 'valueString': '1981 763 1988', 'content': '1981 763 1988', 'boundingRegions': [{'pageNumber': 2, 'polygon': [4.06, 2.765, 5.95, 2.765, 5.95, 3.005, 4.06, 3.005]}], 'confidence': 0.99, 'spans': [{'offset': 876, 'length': 13}]}, 'VehicleMakeAndModel': {'type': 'string', 'valueString': '2011 Lexus IS 350C', 'content': '2011 Lexus IS 350C', 'boundingRegions': [{'pageNumber': 1, 'polygon': [3.435, 8.08, 5.72, 8.08, 5.72, 8.315, 3.435, 8.315]}], 'confidence': 0.99, 'spans': [{'offset': 576, 'length': 18}]}, 'AdditionalComments': {'type': 'string', 'valueString': 'I was inside the shop when accident occurred', 'content': 'I was inside the shop when accident occurred', 'boundingRegions': [{'pageNumber': 2, 'polygon': [1.235, 5.225, 6.765, 5.225, 6.765, 5.49, 1.235, 5.49]}], 'confidence': 0.99, 'spans': [{'offset': 1109, 'length': 44}]}, 'VehicleOwner': {'type': 'string', 'valueString': 'Self', 'content': 'Self', 'boundingRegions': [{'pageNumber': 1, 'polygon': [4.94, 7.84, 5.43, 7.84, 5.43, 8.09, 4.94, 8.09]}], 'confidence': 0.99, 'spans': [{'offset': 541, 'length': 4}]}, 'AcceptedTerms': {'type': 'selectionMark', 'valueSelectionMark': 'selected', 'content': ':selected:', 'boundingRegions': [{'pageNumber': 2, 'polygon': [0.96, 7.34, 1.1, 7.34, 1.1, 7.475, 0.96, 7.475]}], 'confidence': 0.99, 'spans': [{'offset': 1206, 'length': 10}]}, 'Signature': {'type': 'signature', 'valueSignature': 'signed', 'content': 'gg', 'boundingRegions': [{'pageNumber': 2, 'polygon': [1.68, 7.82, 2.195, 7.82, 2.195, 8.42, 1.68, 8.42]}], 'confidence': 0.99, 'spans': [{'offset': 1369, 'length': 2}]}, 'IncidentDescription': {'type': 'string', 'valueString': 'Someone hit the back of the car parked at Walmart parking lot, while I was inside the store shopping.', 'content': 'Someone hit the back of the car parked at Walmart parking lot, while I was inside the store shopping.', 'boundingRegions': [{'pageNumber': 1, 'polygon': [0.985, 6.6, 7.385, 6.6, 7.385, 7.2, 0.985, 7.2]}], 'confidence': 0.97, 'spans': [{'offset': 369, 'length': 101}]}, 'Name': {'type': 'string', 'valueString': 'Jean Genet', 'content': 'Jean Genet', 'boundingRegions': [{'pageNumber': 1, 'polygon': [1.49, 3.865, 3.255, 3.865, 3.255, 4.1, 1.49, 4.1]}], 'confidence': 0.99, 'spans': [{'offset': 96, 'length': 10}]}, 'NameOfWitness': {'type': 'string', 'confidence': 0.97}, 'ReportingOfficerName': {'type': 'string', 'valueString': 'David Jones', 'content': 'David Jones', 'boundingRegions': [{'pageNumber': 2, 'polygon': [3.235, 2.565, 5.01, 2.565, 5.01, 2.785, 3.235, 2.785]}], 'confidence': 0.99, 'spans': [{'offset': 826, 'length': 11}]}, 'FiledByOther': {'type': 'selectionMark', 'valueSelectionMark': 'selected', 'content': ':selected:', 'boundingRegions': [{'pageNumber': 2, 'polygon': [2.415, 6.51, 2.52, 6.51, 2.52, 6.625, 2.415, 6.625]}], 'confidence': 0.99, 'spans': [{'offset': 1192, 'length': 10}]}, 'VehicleDamageExtent': {'type': 'string', 'valueString': 'Back lights also broke. Front windshield broke. Dented back bumper, and trunk.', 'content': 'Dented back bumper, and trunk.\\nBack lights also broke. Front windshield broke.', 'boundingRegions': [{'pageNumber': 2, 'polygon': [1.06, 3.715, 7.18, 3.715, 7.18, 4.135, 1.06, 4.135]}], 'confidence': 0.971, 'spans': [{'offset': 935, 'length': 78}]}, 'Phone': {'type': 'string', 'valueString': '1963412112', 'content': '1963412112', 'boundingRegions': [{'pageNumber': 1, 'polygon': [2.29, 4.515, 3.985, 4.515, 3.985, 4.75, 2.29, 4.75]}], 'confidence': 0.99, 'spans': [{'offset': 166, 'length': 10}]}}, 'confidence': 0.967, 'spans': [{'offset': 0, 'length': 1395}]}]\n"
     ]
    }
   ],
   "source": [
    "print(f'documents:{result.documents}')"
   ]
  },
  {
   "cell_type": "markdown",
   "metadata": {},
   "source": [
    "## Post Processing after extraction, to fix errors\n",
    "\n",
    "<b><u>Example</u></b>  \n",
    "The <b>IncidentTime</b> extracted from the document shows - '11 pm <font color=red>BST</font>'  \n",
    "The <b>IncidentLocation</b> extracted from the document shows - '2 Daffodil Street, New York City, NY 1002'  \n",
    "The error here is in the time zone. It should be <b>EDT</b> instead of <b>BST</b>  \n",
    "Let's fix it with GPT-4 using AOAI  \n"
   ]
  },
  {
   "cell_type": "markdown",
   "metadata": {},
   "source": [
    "#### Load the AOAI keys and parameters"
   ]
  },
  {
   "cell_type": "code",
   "execution_count": 6,
   "metadata": {},
   "outputs": [
    {
     "name": "stdout",
     "output_type": "stream",
     "text": [
      "\n",
      "Got OPENAI API Key from environment variable\n",
      "AOAI setup succeeded\n"
     ]
    }
   ],
   "source": [
    "import aoai\n",
    "\n",
    "MY_AOAI_ENDPOINT = 'https://tr-non-prod-gpt4.openai.azure.com/'\n",
    "MY_AOAI_VERSION = '2023-07-01-preview'\n",
    "MY_GPT_ENGINE = 'tr-gpt4'\n",
    "MY_AOAI_EMBEDDING_ENGINE = 'tr-embedding-ada'\n",
    "\n",
    "status = aoai.setupOpenai(aoai_endpoint=MY_AOAI_ENDPOINT, \n",
    "                 aoai_version=MY_AOAI_VERSION)\n",
    "if status > 0:\n",
    "    print(\"AOAI setup succeeded\")\n",
    "else:\n",
    "    print(\"AOAI setup failed\")"
   ]
  },
  {
   "cell_type": "markdown",
   "metadata": {},
   "source": [
    "#### Ask GPT-4 to fix the error"
   ]
  },
  {
   "cell_type": "code",
   "execution_count": 7,
   "metadata": {},
   "outputs": [
    {
     "name": "stdout",
     "output_type": "stream",
     "text": [
      "Tokens: 54\n",
      "Finish Reason: stop\n",
      "Answer: 11 pm EDT\n"
     ]
    }
   ],
   "source": [
    "my_location = '2 Daffodil Street, New York City, NY 1002'\n",
    "my_time = '11 pm BST'\n",
    "my_date = '5/31/2023'\n",
    "\n",
    "my_task = f'Replace the timezone only in {my_time} with the timezone of the location in {my_location}, \\\n",
    "            given the date {my_date}'\n",
    "my_prompt = [\n",
    "              {\n",
    "                \"role\": \"user\", \n",
    "                \"content\": my_task\n",
    "                }\n",
    "            ]      \n",
    "tokens_used, finish_reason, aoai_answer = aoai.getChatCompletion(the_engine=MY_GPT_ENGINE, \n",
    "                                                                           the_messages=my_prompt)\n",
    "print(f\"Tokens: {tokens_used}\")\n",
    "print(f\"Finish Reason: {finish_reason}\")\n",
    "print(f\"Answer: {aoai_answer}\")"
   ]
  },
  {
   "cell_type": "markdown",
   "metadata": {},
   "source": [
    "## If you want to read all the raw OCR data from the extraction"
   ]
  },
  {
   "cell_type": "markdown",
   "metadata": {},
   "source": [
    "#### View the extracted raw data pages, tables..."
   ]
  },
  {
   "cell_type": "code",
   "execution_count": 7,
   "metadata": {},
   "outputs": [
    {
     "name": "stdout",
     "output_type": "stream",
     "text": [
      "...Line # 0 has text content 'b'TR INSURED''\n",
      "...Line # 1 has text content 'b'A Test P&C INSURANCE Company''\n",
      "...Line # 2 has text content 'b'Auto Insurance Claim Document''\n",
      "...Line # 3 has text content 'b'Customer Information''\n",
      "...Line # 4 has text content 'b'Name William Wordsworth''\n",
      "...Line # 5 has text content 'b'Address 39 Washington Street, New York City, NY 10003''\n",
      "...Line # 6 has text content 'b'Phone Number +1 123 465 1637''\n",
      "...Line # 7 has text content 'b'Email dummy3@3.com''\n",
      "...Line # 8 has text content 'b'Policy Number TRI 813654329''\n",
      "...Line # 9 has text content 'b'Incident Information''\n",
      "...Line # 10 has text content 'b'Date of Incident 5/31/2023''\n",
      "...Line # 11 has text content 'b'Time of Incident 11 pm BST''\n",
      "...Line # 12 has text content 'b'Location of Incident 2 Daffodil Street, New York City, NY 1002''\n",
      "...Line # 13 has text content 'b'Description of Incident Another Car changed lane and hit''\n",
      "...Line # 14 has text content 'b'my car on the driver side.''\n",
      "...Line # 15 has text content 'b'Vehicle Information''\n",
      "...Line # 16 has text content 'b\"Vehicle Owner's Name (if different from customer) NA\"'\n",
      "...Line # 17 has text content 'b'Make and Model of the Vehicle 2011 Kia Sorento''\n",
      "...Line # 18 has text content 'b'Vehicle Identification Number (VIN) 5XYKU4A12BG001739''\n",
      "...Line # 19 has text content 'b'License Plate Number FWK-2762''\n",
      "...Line # 20 has text content 'b'Witnesses (if any)''\n",
      "...Line # 0 has text content 'b'Name of Witness''\n",
      "...Line # 1 has text content 'b'William Shakespeare''\n",
      "...Line # 2 has text content 'b'Contact Information of Witness +1 000 111 0000''\n",
      "...Line # 3 has text content 'b'Police Report (if filed)''\n",
      "...Line # 4 has text content 'b'Police Report Number NYPD 3256''\n",
      "...Line # 5 has text content 'b'Name of Reporting Officer Queen Elizabeth''\n",
      "...Line # 6 has text content 'b'Police Department Contact Information +1 980 765 1234''\n",
      "...Line # 7 has text content 'b'Damage and Injuries''\n",
      "...Line # 8 has text content 'b'Extent of Vehicle Damage Huge dent in driver side front to back.''\n",
      "...Line # 9 has text content 'b'Driver Side window glass broken''\n",
      "...Line # 10 has text content 'b\"Injuries Sustained Customer Suffering from writer's block\"'\n",
      "...Line # 11 has text content 'b'Additional Comments''\n",
      "...Line # 12 has text content 'b'Lost my poetry book which was in the car''\n",
      "...Line # 13 has text content 'b'Claim Filed by self?''\n",
      "...Line # 14 has text content 'b'Yes''\n",
      "...Line # 15 has text content 'b'No''\n",
      "...Line # 16 has text content 'b'The above information is correct to the best of my knowledge, and I agree with the''\n",
      "...Line # 17 has text content 'b'Terms and Conditions detailed in my policy document with TR Insured.''\n",
      "...Line # 18 has text content 'b'Signature''\n",
      "...Line # 19 has text content 'b'Date''\n",
      "...Line # 20 has text content 'b'5/31/2023''\n",
      "...Selection mark is 'selected' and has a confidence of 0.971\n",
      "...Selection mark is 'unselected' and has a confidence of 0.993\n",
      "...Selection mark is 'selected' and has a confidence of 0.995\n",
      "----------------------------------------\n"
     ]
    }
   ],
   "source": [
    "for page in result.pages:\n",
    "    for line_idx, line in enumerate(page.lines):\n",
    "        print(\n",
    "         \"...Line # {} has text content '{}'\".format(\n",
    "        line_idx,\n",
    "        line.content.encode(\"utf-8\")\n",
    "        )\n",
    "    )\n",
    "\n",
    "    for selection_mark in page.selection_marks:\n",
    "        print(\n",
    "         \"...Selection mark is '{}' and has a confidence of {}\".format(\n",
    "         selection_mark.state,\n",
    "         selection_mark.confidence\n",
    "         )\n",
    "    )\n",
    "\n",
    "for table_idx, table in enumerate(result.tables):\n",
    "    print(\n",
    "        \"Table # {} has {} rows and {} columns\".format(\n",
    "        table_idx, table.row_count, table.column_count\n",
    "        )\n",
    "    )\n",
    "        \n",
    "    for cell in table.cells:\n",
    "        print(\n",
    "            \"...Cell[{}][{}] has content '{}'\".format(\n",
    "            cell.row_index,\n",
    "            cell.column_index,\n",
    "            cell.content.encode(\"utf-8\"),\n",
    "            )\n",
    "        )\n",
    "\n",
    "print(\"----------------------------------------\")"
   ]
  }
 ],
 "metadata": {
  "kernelspec": {
   "display_name": "Python 3 (ipykernel)",
   "language": "python",
   "name": "python3"
  },
  "language_info": {
   "codemirror_mode": {
    "name": "ipython",
    "version": 3
   },
   "file_extension": ".py",
   "mimetype": "text/x-python",
   "name": "python",
   "nbconvert_exporter": "python",
   "pygments_lexer": "ipython3",
   "version": "3.11.9"
  }
 },
 "nbformat": 4,
 "nbformat_minor": 2
}
