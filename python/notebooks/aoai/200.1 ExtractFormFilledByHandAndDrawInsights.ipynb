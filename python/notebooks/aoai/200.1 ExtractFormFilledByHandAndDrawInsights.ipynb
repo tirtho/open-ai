{
 "cells": [
  {
   "cell_type": "markdown",
   "metadata": {},
   "source": [
    "# Sample Form filled with hand written text\n",
    "\n",
    "- Extract using Azure Document Intelligence Service\n",
    "- Draw Insights and detect fraud with AOAI GPT-4\n",
    "\n",
    "## Prerequisites\n",
    "1. To run the code, install the following packages. Please use the latest pre-release version `pip install azure-ai-formrecognizer==3.3.0`.\n"
   ]
  },
  {
   "cell_type": "markdown",
   "metadata": {},
   "source": [
    "- > ! pip install azure-ai-formrecognizer==3.3.0"
   ]
  },
  {
   "cell_type": "markdown",
   "metadata": {},
   "source": [
    "## Load all the API keys, parameters and login credentials"
   ]
  },
  {
   "cell_type": "code",
   "execution_count": 1,
   "metadata": {},
   "outputs": [
    {
     "name": "stdout",
     "output_type": "stream",
     "text": [
      "\n",
      "Got Azure Form Recognizer API Key from environment variable\n"
     ]
    }
   ],
   "source": [
    "import fr\n",
    "\n",
    "# Your Azure Document Intelligence Service Instance\n",
    "MY_FORM_RECOGNIZER_ENDPOINT = 'https://tr-docai-form-recognizer.cognitiveservices.azure.com/'\n",
    "# The model id should match the custom model you have\n",
    "# trained and deployed in your Azure Document Intelligence Service Instance\n",
    "# with the endpoint MY_FORM_RECOGNIZER_ENDPOINT\n",
    "MY_CLAIMS_MODEL_ID = 'claims-v3'\n",
    "\n",
    "formRecognizerCredential = fr.getFormRecognizerCredential()\n",
    "\n",
    "formRecognizerClient = fr.getDocumentAnalysisClient(\n",
    "                            endpoint=MY_FORM_RECOGNIZER_ENDPOINT,\n",
    "                            credential=formRecognizerCredential\n",
    "                        )"
   ]
  },
  {
   "cell_type": "markdown",
   "metadata": {},
   "source": [
    "## Document Extraction Examples"
   ]
  },
  {
   "cell_type": "markdown",
   "metadata": {},
   "source": [
    "### Auto Insurance Claims form by hand\n",
    "\n",
    "- Custom Trained model\n",
    "- Display label, data and confidence (document level and indivudual field level)\n",
    "- Text, Checkbox, radio button"
   ]
  },
  {
   "cell_type": "markdown",
   "metadata": {},
   "source": [
    "#### Display labeled data"
   ]
  },
  {
   "cell_type": "code",
   "execution_count": 20,
   "metadata": {},
   "outputs": [
    {
     "name": "stdout",
     "output_type": "stream",
     "text": [
      "Document Intelligence API version = 2023-07-31\n",
      "         Document Extraction Model Id = claims-v3\n",
      "         Does document have any hand written text? True\n",
      "\n",
      "Document count = 1\n",
      "Document 0 ---------------\n",
      "\tDocument extraction confidence = 0.987\n",
      "\tFormType[type:string;conf:0.938] = 'Auto Insurance Claim Document'\n",
      "\tName[type:string;conf:0.965] = 'Jean Genet'\n",
      "\tAddress[type:string;conf:0.908] = '12 Independence Way, Boston, MA 11201'\n",
      "\tPhone[type:string;conf:0.967] = '196 3412112'\n",
      "\tEmail[type:string;conf:0.964] = 'jg@jean.com'\n",
      "\tPolicyNumber[type:string;conf:0.914] = 'TRI 123 320 918'\n",
      "\tIncidentDate[type:string;conf:0.96] = '1/1/2023'\n",
      "\tIncidentTime[type:string;conf:0.948] = '3am EST'\n",
      "\tIncidentLocation[type:string;conf:0.92] = '780 Lynnway, Lynn, MA 01905'\n",
      "\tIncidentDescription[type:string;conf:0.916] = 'Some one hit the back of the car parked at Walmart parking lot, while I was inside the store shopping.'\n",
      "\tVehicleOwner[type:string;conf:0.98] = 'Self'\n",
      "\tVehicleMakeAndModel[type:string;conf:0.95] = '2011 Lexus IS 350C'\n",
      "\tVIN[type:string;conf:0.983] = 'KLHAB2C24X3615045'\n",
      "\tLicensePlateNumber[type:string;conf:0.964] = 'GPT 4350'\n",
      "\tPoliceReportNumber[type:string;conf:0.972] = 'MSP 1664'\n",
      "\tReportingOfficerName[type:string;conf:0.97] = 'David Jones'\n",
      "\tPoliceContactInfo[type:string;conf:0.951] = '1981 763 1988'\n",
      "\tVehicleDamageExtent[type:string;conf:0.872] = 'Dented back bumper, and trunk. Back lights also broke. Front windshield broke;'\n",
      "\tSustainedInjuries[type:string;conf:0.886] = 'Concussion with head injury and few bruises in my knees'\n",
      "\tAdditionalComments[type:string;conf:0.904] = 'I was inside the shop when accident occurred'\n",
      "\tSelfFiled[type:selectionMark;conf:0.982] = 'unselected'\n",
      "\tFiledByOther[type:selectionMark;conf:0.986] = 'selected'\n",
      "\tAcceptedTerms[type:selectionMark;conf:0.702] = 'selected'\n",
      "\tDateSigned[type:string;conf:0.95] = '2/2/2023'\n",
      "\tNameOfWitness[type:string;conf:0.853] = 'None'\n",
      "\tContactInformationOfWitness[type:string;conf:0.89] = 'None'\n"
     ]
    }
   ],
   "source": [
    "# Assuming you are running notebook from the notebook folder\n",
    "#MY_TEST_DOCUMENT = r'..\\..\\..\\data\\sample-claims-docs\\testing\\IC-handwritten-RobertFrost.pdf'\n",
    "MY_TEST_DOCUMENT = r'..\\..\\..\\data\\sample-claims-docs\\testing\\IC-handwritten-JeanGenet.pdf'\n",
    "\n",
    "fr_api_version, model_id, is_handwritten, result = fr.extractResultFromLocalDocument(\n",
    "                                                        client=formRecognizerClient,\n",
    "                                                        model=MY_CLAIMS_MODEL_ID,\n",
    "                                                        filepath=MY_TEST_DOCUMENT\n",
    "                                                    )\n",
    "\n",
    "print(f'Document Intelligence API version = {fr_api_version}\\n \\\n",
    "        Document Extraction Model Id = {model_id}\\n \\\n",
    "        Does document have any hand written text? {is_handwritten}\\n'\n",
    "     )\n",
    "doc_count = len(result.documents)\n",
    "print(f'Document count = {doc_count}')\n",
    "\n",
    "IncidentDescription = 'None'\n",
    "SustainerInjuries = 'None'\n",
    "IncidentLocation = 'None'\n",
    "IncidentTime = 'None'\n",
    "IncidentDate = 'None'\n",
    "\n",
    "for idx, document in enumerate(result.documents):\n",
    "    print(f'Document {idx} ---------------')\n",
    "    print(f'\\tDocument extraction confidence = {document.confidence}')\n",
    "    for name, field in document.fields.items():\n",
    "        field_value = field.value if field.value else field.content\n",
    "        print(\"\\t{}[type:{};conf:{}] = '{}'\".format(name, field.value_type, field.confidence, field_value))\n",
    "        if name == 'IncidentDate':\n",
    "            IncidentDate = field_value\n",
    "        if name == 'IncidentTime':\n",
    "            IncidentTime = field_value\n",
    "        if name == 'SustainedInjuries':\n",
    "            SustainedInjuries = field_value\n",
    "        if name == 'IncidentDescription':\n",
    "            IncidentDescription = field_value\n",
    "        if name == 'IncidentLocation':\n",
    "            IncidentLocation = field_value            "
   ]
  },
  {
   "cell_type": "markdown",
   "metadata": {},
   "source": [
    "## Post Processing after extraction, to draw insight, check for fraud\n",
    "\n",
    "<b><u>Example 1</u></b>  \n",
    "From <b>IncidentDescription</b> find if victim was inside the car at the time of the incident.  \n",
    "And then from <b>SustainedInjuries</b> check if there was any personal injury reported.  "
   ]
  },
  {
   "cell_type": "markdown",
   "metadata": {},
   "source": [
    "#### Load the AOAI keys and parameters"
   ]
  },
  {
   "cell_type": "code",
   "execution_count": 4,
   "metadata": {},
   "outputs": [
    {
     "name": "stdout",
     "output_type": "stream",
     "text": [
      "\n",
      "Got OPENAI API Key from environment variable\n",
      "AOAI setup succeeded\n"
     ]
    }
   ],
   "source": [
    "import aoai\n",
    "\n",
    "MY_AOAI_ENDPOINT = 'https://tr-non-prod-gpt4.openai.azure.com/'\n",
    "MY_AOAI_VERSION = '2023-07-01-preview'\n",
    "MY_GPT_ENGINE = 'tr-gpt4'\n",
    "MY_AOAI_EMBEDDING_ENGINE = 'tr-embedding-ada'\n",
    "\n",
    "status = aoai.setupOpenai(aoai_endpoint=MY_AOAI_ENDPOINT, \n",
    "                 aoai_version=MY_AOAI_VERSION)\n",
    "if status > 0:\n",
    "    print(\"AOAI setup succeeded\")\n",
    "else:\n",
    "    print(\"AOAI setup failed\")"
   ]
  },
  {
   "cell_type": "markdown",
   "metadata": {},
   "source": [
    "#### Ask GPT-4 to draw insight"
   ]
  },
  {
   "cell_type": "code",
   "execution_count": 16,
   "metadata": {},
   "outputs": [
    {
     "name": "stdout",
     "output_type": "stream",
     "text": [
      "Tokens: 214\n",
      "Finish Reason: stop\n",
      "Answer: The person was not inside the car during the incident as they were inside the store shopping. The person did sustain injuries such as a concussion with a head injury and a few bruises on their knees. However, these injuries could not have been caused by the car incident as the person was not in the car at the time. Therefore, this could be considered a fraud. \n",
      "\n",
      "Answer: Yes\n",
      "\n",
      "Explanation: The person was not in the car when it was hit, so they could not have sustained injuries from this incident. Claiming injuries from an incident they were not involved in is fraudulent.\n"
     ]
    }
   ],
   "source": [
    "my_task = f'From {IncidentDescription} find if the person was inside the car. \\\n",
    "            If no, find from {SustainedInjuries} if there was any injury. \\\n",
    "            If the person was not in the car but sustained injury in this incident, is this not a fraud? \\\n",
    "            Answer if there was fraud : yes or no\\\n",
    "            Provide explanation'\n",
    "\n",
    "my_prompt = [\n",
    "              {\n",
    "                \"role\": \"user\", \n",
    "                \"content\": my_task\n",
    "                }\n",
    "            ]      \n",
    "tokens_used, finish_reason, aoai_answer = aoai.getChatCompletion(the_engine=MY_GPT_ENGINE, \n",
    "                                                                           the_messages=my_prompt)\n",
    "print(f\"Tokens: {tokens_used}\")\n",
    "print(f\"Finish Reason: {finish_reason}\")\n",
    "print(f\"Answer: {aoai_answer}\")"
   ]
  },
  {
   "cell_type": "markdown",
   "metadata": {},
   "source": [
    "<b><u>Example 2</u></b>  \n",
    "Find if there is a store at <b>IncidentLocation</b>   \n",
    "Verify if that store is open at the <b>IncidentTime</b>  "
   ]
  },
  {
   "cell_type": "code",
   "execution_count": 35,
   "metadata": {},
   "outputs": [
    {
     "name": "stdout",
     "output_type": "stream",
     "text": [
      "Incident Data & Time: 1/1/2023 3am EST\n",
      "Incident location:780 Lynnway, Lynn, MA 01905\n",
      "\n",
      "Tokens: 30\n",
      "Finish Reason: stop\n",
      "Answer: Walmart Supercenter\n"
     ]
    }
   ],
   "source": [
    "# TODO: This part should be implemented with Bing Search API for better accuracy\n",
    "print (f'Incident Data & Time: {IncidentDate} {IncidentTime}\\nIncident location:{IncidentLocation}\\n')\n",
    "\n",
    "my_task = f'Name the store at {IncidentLocation}.\\\n",
    "            Answer:'\n",
    "\n",
    "my_prompt = [\n",
    "              {\n",
    "                \"role\": \"user\", \n",
    "                \"content\": my_task\n",
    "                }\n",
    "            ]      \n",
    "tokens_used, finish_reason, aoai_answer = aoai.getChatCompletion(the_engine=MY_GPT_ENGINE, \n",
    "                                                                           the_messages=my_prompt)\n",
    "StoreName = aoai_answer\n",
    "print(f\"Tokens: {tokens_used}\")\n",
    "print(f\"Finish Reason: {finish_reason}\")\n",
    "print(f\"Answer: {StoreName}\")"
   ]
  },
  {
   "cell_type": "code",
   "execution_count": 38,
   "metadata": {},
   "outputs": [
    {
     "name": "stdout",
     "output_type": "stream",
     "text": [
      "Tokens: 81\n",
      "Finish Reason: stop\n",
      "Answer: No\n",
      "\n",
      "Explanation: Walmart Supercenter at 780 Lynnway, Lynn, MA 01905 is not open at 3am EST. Their typical hours of operation are from 7am to 11pm.\n"
     ]
    }
   ],
   "source": [
    "my_task = f'Is {StoreName} at {IncidentLocation} open at {IncidentTime}? \\\n",
    "            Answer yes or no\\\n",
    "            Explain:'\n",
    "\n",
    "my_prompt = [\n",
    "              {\n",
    "                \"role\": \"user\", \n",
    "                \"content\": my_task\n",
    "                }\n",
    "            ]      \n",
    "tokens_used, finish_reason, aoai_answer = aoai.getChatCompletion(the_engine=MY_GPT_ENGINE, \n",
    "                                                                           the_messages=my_prompt)\n",
    "print(f\"Tokens: {tokens_used}\")\n",
    "print(f\"Finish Reason: {finish_reason}\")\n",
    "print(f\"Answer: {aoai_answer}\")"
   ]
  },
  {
   "cell_type": "markdown",
   "metadata": {},
   "source": [
    "From <b>IncidentDescription</b> find what the victim was doing at the time of the incident"
   ]
  },
  {
   "cell_type": "code",
   "execution_count": 40,
   "metadata": {},
   "outputs": [
    {
     "name": "stdout",
     "output_type": "stream",
     "text": [
      "Tokens: 44\n",
      "Finish Reason: stop\n",
      "Answer: Shopping\n"
     ]
    }
   ],
   "source": [
    "my_task = f'What was I doing based on the description in {IncidentDescription}? \\\n",
    "            Answer in one word'\n",
    "\n",
    "my_prompt = [\n",
    "              {\n",
    "                \"role\": \"user\", \n",
    "                \"content\": my_task\n",
    "                }\n",
    "            ]      \n",
    "tokens_used, finish_reason, aoai_answer = aoai.getChatCompletion(the_engine=MY_GPT_ENGINE, \n",
    "                                                                           the_messages=my_prompt)\n",
    "print(f\"Tokens: {tokens_used}\")\n",
    "print(f\"Finish Reason: {finish_reason}\")\n",
    "print(f\"Answer: {aoai_answer}\")"
   ]
  }
 ],
 "metadata": {
  "kernelspec": {
   "display_name": "Python 3 (ipykernel)",
   "language": "python",
   "name": "python3"
  },
  "language_info": {
   "codemirror_mode": {
    "name": "ipython",
    "version": 3
   },
   "file_extension": ".py",
   "mimetype": "text/x-python",
   "name": "python",
   "nbconvert_exporter": "python",
   "pygments_lexer": "ipython3",
   "version": "3.11.9"
  }
 },
 "nbformat": 4,
 "nbformat_minor": 2
}
