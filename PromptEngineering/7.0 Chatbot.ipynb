{
 "cells": [
  {
   "cell_type": "markdown",
   "id": "a9183228-0ba6-4af9-8430-649e28868253",
   "metadata": {
    "id": "JMXGlIvAwn30"
   },
   "source": [
    "# The Chat Format\n",
    "\n",
    "In this notebook, you will explore how you can utilize the chat format to have extended conversations with chatbots personalized or specialized for specific tasks or behaviors.\n",
    "\n",
    "## Setup\n",
    "#### Follow [README](https://github.com/tirtho/open-ai/blob/main/README.md) and perform setup before running the notebooks\n",
    "\n",
    "Reference : \n",
    "- [Azure Open AI](https://learn.microsoft.com/en-us/azure/cognitive-services/openai/overview)\n",
    "\n",
    "#### Load the API key and relevant Python libaries."
   ]
  },
  {
   "cell_type": "code",
   "execution_count": null,
   "id": "c8f70831",
   "metadata": {},
   "outputs": [],
   "source": [
    "# pip install panel"
   ]
  },
  {
   "cell_type": "code",
   "execution_count": 1,
   "id": "7fa0d9b5",
   "metadata": {
    "tags": []
   },
   "outputs": [
    {
     "name": "stdout",
     "output_type": "stream",
     "text": [
      "\n",
      "Got OPENAI API Key from environment variable\n",
      "Connecting to Open AI returned status as True\n"
     ]
    }
   ],
   "source": [
    "import openai\n",
    "import sys\n",
    "\n",
    "from azure_openai_setup import get_openai_client, get_config_from_os_env, get_chat_completion\n",
    "\n",
    "THE_MODEL = 'gpt-4o'\n",
    "endpoint, key, version = get_config_from_os_env()\n",
    "#print(f\"{endpoint}, {key}, {version}\")\n",
    "status, client = get_openai_client(aoai_endpoint = endpoint, \n",
    "                                   aoai_api_key = key, \n",
    "                                   aoai_version = version\n",
    "                                  )\n",
    "print(f\"Connecting to Open AI returned status as {status}\")"
   ]
  },
  {
   "cell_type": "code",
   "execution_count": 4,
   "id": "cee681b7",
   "metadata": {
    "tags": []
   },
   "outputs": [],
   "source": [
    "prompt = 'Can you help me file an insurance claim?'"
   ]
  },
  {
   "cell_type": "code",
   "execution_count": 5,
   "id": "da45ea0f",
   "metadata": {
    "tags": []
   },
   "outputs": [
    {
     "name": "stdout",
     "output_type": "stream",
     "text": [
      "Of course! I can guide you through the general process of filing an insurance claim. Here are the typical steps you might follow:\n",
      "\n",
      "1. **Review Your Policy**: Before filing a claim, review your insurance policy to understand your coverage, deductibles, and any specific requirements for filing a claim.\n",
      "\n",
      "2. **Contact Your Insurance Company**: Notify your insurance company as soon as possible. You can usually do this by phone, online, or through a mobile app. Have your policy number handy.\n",
      "\n",
      "3. **Provide Details**: Be prepared to provide detailed information about the incident, including the date, time, location, and a description of what happened. If applicable, include information about any other parties involved.\n",
      "\n",
      "4. **Document the Damage**: Take photos or videos of any damage to your property or vehicle. Keep records of any related expenses, such as repair estimates or medical bills.\n",
      "\n",
      "5. **Complete Claim Forms**: Your insurer may require you to fill out specific claim forms. Make sure to complete these accurately and provide any requested documentation.\n",
      "\n",
      "6. **Work with an Adjuster**: An insurance adjuster may contact you to assess the damage and determine the payout. Be cooperative and provide any additional information they request.\n",
      "\n",
      "7. **Receive Payment**: Once your claim is approved, you will receive payment according to your policy terms. This may cover repairs, replacements, or other expenses.\n",
      "\n",
      "8. **Follow Up**: If you have any questions or concerns during the process, don't hesitate to contact your insurance company for clarification.\n",
      "\n",
      "If you have a specific type of claim in mind (e.g., auto, home, or business), let me know, and I can provide more tailored advice.\n"
     ]
    }
   ],
   "source": [
    "my_prompt = [\n",
    "              {\n",
    "                \"role\": \"system\", \n",
    "                \"content\": \"I am a P&C Insurance Bot.\"\n",
    "                },\n",
    "              {\n",
    "                \"role\": \"user\", \n",
    "                \"content\": f\"{prompt}\"\n",
    "                }\n",
    "              ]      \n",
    "tokens_used, finish_reason, completion = get_chat_completion(\n",
    "                                                the_client=client, \n",
    "                                                the_model=THE_MODEL,\n",
    "                                                the_messages=my_prompt)\n",
    "#print(f\"Completion: {completion}\\nTokens used: {tokens_used}\\nFinish Reason: {finish_reason}\")\n",
    "print(f'{completion}')"
   ]
  }
 ],
 "metadata": {
  "kernelspec": {
   "display_name": "Python 3 (ipykernel)",
   "language": "python",
   "name": "python3"
  },
  "language_info": {
   "codemirror_mode": {
    "name": "ipython",
    "version": 3
   },
   "file_extension": ".py",
   "mimetype": "text/x-python",
   "name": "python",
   "nbconvert_exporter": "python",
   "pygments_lexer": "ipython3",
   "version": "3.11.9"
  }
 },
 "nbformat": 4,
 "nbformat_minor": 5
}
