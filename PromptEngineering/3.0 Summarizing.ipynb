{
 "cells": [
  {
   "cell_type": "markdown",
   "id": "9953aa8a",
   "metadata": {},
   "source": [
    "# Summarization\n",
    "\n",
    "## Setup\n",
    "#### Follow [README](https://github.com/tirtho/open-ai/blob/main/README.md) and perform setup before running the notebooks\n",
    "\n",
    "Reference : \n",
    "- [Azure Open AI](https://learn.microsoft.com/en-us/azure/cognitive-services/openai/overview)\n",
    "\n",
    "#### Load the API key and relevant Python libaries."
   ]
  },
  {
   "cell_type": "code",
   "execution_count": 1,
   "id": "9b13648d",
   "metadata": {},
   "outputs": [
    {
     "name": "stdout",
     "output_type": "stream",
     "text": [
      "\n",
      "Got OPENAI API Key from environment variable\n",
      "Connecting to Open AI returned status as True\n"
     ]
    }
   ],
   "source": [
    "import openai\n",
    "import sys\n",
    "\n",
    "from azure_openai_setup import get_openai_client, get_config_from_os_env, get_chat_completion\n",
    "\n",
    "THE_MODEL = 'gpt-4o'\n",
    "endpoint, key, version = get_config_from_os_env()\n",
    "#print(f\"{endpoint}, {key}, {version}\")\n",
    "status, client = get_openai_client(aoai_endpoint = endpoint, \n",
    "                                   aoai_api_key = key, \n",
    "                                   aoai_version = version\n",
    "                                  )\n",
    "print(f\"Connecting to Open AI returned status as {status}\")"
   ]
  },
  {
   "cell_type": "markdown",
   "id": "81116ff7",
   "metadata": {},
   "source": [
    "## Simple Summary"
   ]
  },
  {
   "cell_type": "code",
   "execution_count": 2,
   "id": "c0004c6a",
   "metadata": {},
   "outputs": [
    {
     "name": "stdout",
     "output_type": "stream",
     "text": [
      "Completion: Peter and Elizabeth took a taxi to a night party in the city, where they socialized with many attendees. During the party, Elizabeth collapsed and was taken to the hospital. Afterward, Peter returned to the party.\n",
      "Tokens used: 124\n",
      "Finish Reason: stop\n"
     ]
    }
   ],
   "source": [
    "news_item = f\"\"\"\n",
    "Peter and Elizabeth took a taxi to attend the night party in the city. \\\n",
    "They partied for quite some time. \\\n",
    "There they met with many others. \\\n",
    "While in the party, Elizabeth collapsed and was rushed to the hospital.\n",
    "Later, Peter went back to the party hall.\n",
    "\"\"\"\n",
    "\n",
    "prompt = f\"\"\"\n",
    "Summarize the news_item below delimited by triple backticks.\n",
    "\n",
    "```{news_item}```\n",
    "\"\"\"\n",
    "\n",
    "my_prompt = [\n",
    "              {\n",
    "                \"role\": \"user\", \n",
    "                \"content\": f\"{prompt}\"\n",
    "                }\n",
    "              ]      \n",
    "tokens_used, finish_reason, completion = get_chat_completion(\n",
    "                                                the_client=client, \n",
    "                                                the_model=THE_MODEL,\n",
    "                                                the_messages=my_prompt)\n",
    "print(f\"Completion: {completion}\\nTokens used: {tokens_used}\\nFinish Reason: {finish_reason}\")"
   ]
  },
  {
   "cell_type": "markdown",
   "id": "69efdef1",
   "metadata": {},
   "source": [
    "## Summarize with a word/sentence/character limit"
   ]
  },
  {
   "cell_type": "code",
   "execution_count": 3,
   "id": "b4079255",
   "metadata": {},
   "outputs": [
    {
     "name": "stdout",
     "output_type": "stream",
     "text": [
      "Completion: Peter and Elizabeth attended a city party; Elizabeth collapsed and was hospitalized, Peter returned to the party.\n",
      "Tokens used: 107\n",
      "Finish Reason: stop\n"
     ]
    }
   ],
   "source": [
    "news_item = f\"\"\"\n",
    "Peter and Elizabeth took a taxi to attend the night party in the city. \\\n",
    "They partied for quite some time. \\\n",
    "There they met with many others. \\\n",
    "While in the party, Elizabeth collapsed and was rushed to the hospital.\n",
    "Later, Peter went back to the party hall.\n",
    "\"\"\"\n",
    "\n",
    "prompt = f\"\"\"\n",
    "Summarize the news_item below delimited by triple backticks, in at most 20 words.\n",
    "\n",
    "```{news_item}```\n",
    "\"\"\"\n",
    "\n",
    "my_prompt = [\n",
    "              {\n",
    "                \"role\": \"user\", \n",
    "                \"content\": f\"{prompt}\"\n",
    "                }\n",
    "              ]      \n",
    "tokens_used, finish_reason, completion = get_chat_completion(\n",
    "                                                the_client=client, \n",
    "                                                the_model=THE_MODEL,\n",
    "                                                the_messages=my_prompt)\n",
    "print(f\"Completion: {completion}\\nTokens used: {tokens_used}\\nFinish Reason: {finish_reason}\")"
   ]
  },
  {
   "cell_type": "markdown",
   "id": "3aeec0d9",
   "metadata": {},
   "source": [
    "## Summarize in a more natural conversational language"
   ]
  },
  {
   "cell_type": "code",
   "execution_count": 4,
   "id": "18951608",
   "metadata": {},
   "outputs": [
    {
     "name": "stdout",
     "output_type": "stream",
     "text": [
      "Completion: Peter and Elizabeth took a taxi to a night party in the city, where they socialized with many attendees. During the event, Elizabeth suddenly collapsed and was taken to the hospital. Afterward, Peter returned to the party.\n",
      "Tokens used: 131\n",
      "Finish Reason: stop\n"
     ]
    }
   ],
   "source": [
    "news_item = f\"\"\"\n",
    "Peter and Elizabeth took a taxi to attend the night party in the city. \\\n",
    "They partied for quite some time. \\\n",
    "There they met with many others. \\\n",
    "While in the party, Elizabeth collapsed and was rushed to the hospital.\n",
    "Later, Peter went back to the party hall.\n",
    "\"\"\"\n",
    "\n",
    "prompt = f\"\"\"\n",
    "Summarize the news_item below delimited by triple backticks, using natural language generation techniques.\n",
    "\n",
    "```{news_item}```\n",
    "\"\"\"\n",
    "\n",
    "my_prompt = [\n",
    "              {\n",
    "                \"role\": \"user\", \n",
    "                \"content\": f\"{prompt}\"\n",
    "                }\n",
    "              ]      \n",
    "tokens_used, finish_reason, completion = get_chat_completion(\n",
    "                                                the_client=client, \n",
    "                                                the_model=THE_MODEL,\n",
    "                                                the_messages=my_prompt)\n",
    "print(f\"Completion: {completion}\\nTokens used: {tokens_used}\\nFinish Reason: {finish_reason}\")"
   ]
  },
  {
   "cell_type": "markdown",
   "id": "c1a451cf",
   "metadata": {},
   "source": [
    "## Extraction versus Summarization"
   ]
  },
  {
   "cell_type": "code",
   "execution_count": 12,
   "id": "5fe0a315",
   "metadata": {},
   "outputs": [
    {
     "name": "stdout",
     "output_type": "stream",
     "text": [
      "Completion: \n",
      "- Elizabeth took a taxi with Peter to attend the night party in the city.\n",
      "- Elizabeth partied for quite some time.\n",
      "- Elizabeth collapsed at the party.\n",
      "- Elizabeth was rushed to the hospital.\n",
      "Tokens used: 132\n",
      "Finish Reason: stop\n"
     ]
    }
   ],
   "source": [
    "news_item = f\"\"\"\n",
    "Peter and Elizabeth took a taxi to attend the night party in the city. \\\n",
    "They partied for quite some time. \\\n",
    "There they met with many others. \\\n",
    "While in the party, Elizabeth collapsed and was rushed to the hospital. \\\n",
    "Later, Peter went back to the party hall.\n",
    "\"\"\"\n",
    "\n",
    "prompt = f\"\"\"\n",
    "Extract chronologically information relevant to Elizabeth from the news_item below, delimited by triple backticks and list as bulleted items.\n",
    "\n",
    "```{news_item}```\n",
    "\"\"\"\n",
    "\n",
    "my_prompt = [\n",
    "              {\n",
    "                \"role\": \"user\", \n",
    "                \"content\": f\"{prompt}\"\n",
    "                }\n",
    "              ]      \n",
    "tokens_used, finish_reason, completion = get_chat_completion(\n",
    "                                                the_client=client, \n",
    "                                                the_model=THE_MODEL,\n",
    "                                                the_messages=my_prompt)\n",
    "print(f\"Completion: \\n{completion}\\nTokens used: {tokens_used}\\nFinish Reason: {finish_reason}\")"
   ]
  },
  {
   "cell_type": "markdown",
   "id": "c124b9f6",
   "metadata": {},
   "source": [
    "## Summarize from a call center chat (Abstractive Summarization)"
   ]
  },
  {
   "cell_type": "code",
   "execution_count": 6,
   "id": "99ad4e80",
   "metadata": {},
   "outputs": [
    {
     "name": "stdout",
     "output_type": "stream",
     "text": [
      "Completion: Peter Smith, a small business owner, called ADM with questions about payroll processing. The agent asked Peter a few preliminary questions to better assist him. Peter inquired about specific regulations he needs to follow, and the agent informed him that certain aspects of payroll processing are regulated by the IRS and the DOL.\n",
      "Tokens used: 209\n",
      "Finish Reason: stop\n"
     ]
    }
   ],
   "source": [
    "chat = f\"\"\"\n",
    "Agent: Thank you for calling ADM. Who am I am speaking to? \n",
    "Customer: Hello, my name is Peter Smith. I own a small business and have some questions regarding payroll processing. \n",
    "Agent: Good morning, Peter, before we get started may I ask you a few questions so that I better answer your questions today? \n",
    "Customer: Thank you that is quite helpful. Are there specific regulations that I need to follow? \n",
    "Agent: Certain aspects of payroll processing are regulated by the Internal Revenue Service (IRS) and the Department of Labor (DOL)\n",
    "\n",
    "\"\"\"\n",
    "\n",
    "prompt = f\"\"\"\n",
    "Summarize this chat delimited by triple backticks, for a call center agent:\n",
    "\n",
    "```{chat}```\n",
    "\"\"\"\n",
    "\n",
    "my_prompt = [\n",
    "              {\n",
    "                \"role\": \"user\", \n",
    "                \"content\": f\"{prompt}\"\n",
    "                }\n",
    "              ]      \n",
    "tokens_used, finish_reason, completion = get_chat_completion(\n",
    "                                                the_client=client, \n",
    "                                                the_model=THE_MODEL,\n",
    "                                                the_messages=my_prompt)\n",
    "print(f\"Completion: {completion}\\nTokens used: {tokens_used}\\nFinish Reason: {finish_reason}\")"
   ]
  },
  {
   "cell_type": "code",
   "execution_count": null,
   "id": "9ad0f4dd",
   "metadata": {},
   "outputs": [],
   "source": []
  }
 ],
 "metadata": {
  "kernelspec": {
   "display_name": "Python 3 (ipykernel)",
   "language": "python",
   "name": "python3"
  },
  "language_info": {
   "codemirror_mode": {
    "name": "ipython",
    "version": 3
   },
   "file_extension": ".py",
   "mimetype": "text/x-python",
   "name": "python",
   "nbconvert_exporter": "python",
   "pygments_lexer": "ipython3",
   "version": "3.11.9"
  }
 },
 "nbformat": 4,
 "nbformat_minor": 5
}
