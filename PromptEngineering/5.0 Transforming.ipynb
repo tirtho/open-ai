{
 "cells": [
  {
   "cell_type": "markdown",
   "id": "e3993515-9710-4ac4-89e9-b35ebb81e920",
   "metadata": {
    "id": "rhqRhkElpJ0z"
   },
   "source": [
    "# Transforming\n",
    "\n",
    "Explore\n",
    "- language translation, \n",
    "- spelling and grammar checking, \n",
    "- tone adjustment, and \n",
    "- format conversion.\n",
    "\n",
    "## Setup\n",
    "#### Follow [README](https://github.com/tirtho/open-ai/blob/main/README.md) and perform setup before running the notebooks\n",
    "\n",
    "Reference : \n",
    "- [Azure Open AI](https://learn.microsoft.com/en-us/azure/cognitive-services/openai/overview)\n",
    "\n",
    "#### Load the API key and relevant Python libaries."
   ]
  },
  {
   "cell_type": "code",
   "execution_count": 1,
   "id": "41df0348",
   "metadata": {
    "tags": []
   },
   "outputs": [
    {
     "name": "stdout",
     "output_type": "stream",
     "text": [
      "\n",
      "Got OPENAI API Key from environment variable\n",
      "Connecting to Open AI returned status as True\n"
     ]
    }
   ],
   "source": [
    "import openai\n",
    "import sys\n",
    "\n",
    "from azure_openai_setup import get_openai_client, get_config_from_os_env, get_chat_completion\n",
    "\n",
    "THE_MODEL = 'gpt-4o'\n",
    "endpoint, key, version = get_config_from_os_env()\n",
    "#print(f\"{endpoint}, {key}, {version}\")\n",
    "status, client = get_openai_client(aoai_endpoint = endpoint, \n",
    "                                   aoai_api_key = key, \n",
    "                                   aoai_version = version\n",
    "                                  )\n",
    "print(f\"Connecting to Open AI returned status as {status}\")"
   ]
  },
  {
   "cell_type": "markdown",
   "id": "1d8f0bd8-628e-4c36-bcd0-2110162f25fc",
   "metadata": {
    "id": "zdxC4c6pwqA5"
   },
   "source": [
    "## Translation\n",
    "#### Translate"
   ]
  },
  {
   "cell_type": "code",
   "execution_count": 2,
   "id": "9c4df6ff",
   "metadata": {
    "tags": []
   },
   "outputs": [
    {
     "name": "stdout",
     "output_type": "stream",
     "text": [
      "Completion: **Spanish:**\n",
      "\n",
      "- Formal: ¿Le gustaría pedir una almohada?\n",
      "- Informal: ¿Te gustaría pedir una almohada?\n",
      "\n",
      "**Bengali:**\n",
      "\n",
      "- Formal: আপনি কি একটি বালিশ অর্ডার করতে চান?\n",
      "- Informal: তুমি কি একটি বালিশ অর্ডার করতে চাও?\n",
      "Tokens used: 100\n",
      "Finish Reason: stop\n"
     ]
    }
   ],
   "source": [
    "prompt = f\"\"\"\n",
    "Translate the following text to Spanish and Bengali in both the \\\n",
    "formal and informal forms: \n",
    "'Would you like to order a pillow?'\n",
    "\"\"\"\n",
    "my_prompt = [\n",
    "              {\n",
    "                \"role\": \"user\", \n",
    "                \"content\": f\"{prompt}\"\n",
    "                }\n",
    "              ]      \n",
    "tokens_used, finish_reason, completion = get_chat_completion(\n",
    "                                                the_client=client, \n",
    "                                                the_model=THE_MODEL,\n",
    "                                                the_messages=my_prompt)\n",
    "print(f\"Completion: {completion}\\nTokens used: {tokens_used}\\nFinish Reason: {finish_reason}\")"
   ]
  },
  {
   "cell_type": "markdown",
   "id": "291729c8",
   "metadata": {},
   "source": [
    "#### Detect Language"
   ]
  },
  {
   "cell_type": "code",
   "execution_count": 5,
   "id": "813f75ee",
   "metadata": {},
   "outputs": [
    {
     "name": "stdout",
     "output_type": "stream",
     "text": [
      "Completion: Bengali\n",
      "Tokens used: 38\n",
      "Finish Reason: stop\n"
     ]
    }
   ],
   "source": [
    "text = f\"\"\"\n",
    "আমার মাউস কাজ করছে না।\n",
    "\"\"\"\n",
    "prompt = f\"\"\"\n",
    "Detect the language of the text below in at most two words: \n",
    "```{text}```\"\n",
    "\"\"\"\n",
    "my_prompt = [\n",
    "              {\n",
    "                \"role\": \"user\", \n",
    "                \"content\": f\"{prompt}\"\n",
    "                }\n",
    "              ]      \n",
    "tokens_used, finish_reason, completion = get_chat_completion(\n",
    "                                                the_client=client, \n",
    "                                                the_model=THE_MODEL,\n",
    "                                                the_messages=my_prompt)\n",
    "print(f\"Completion: {completion}\\nTokens used: {tokens_used}\\nFinish Reason: {finish_reason}\")"
   ]
  },
  {
   "cell_type": "markdown",
   "id": "1d9e54ca-f93a-43c8-a295-bff7a89f77f5",
   "metadata": {
    "id": "JH3-0vdjsILh"
   },
   "source": [
    "#### Change from slang to formal"
   ]
  },
  {
   "cell_type": "code",
   "execution_count": 13,
   "id": "2deac328",
   "metadata": {
    "tags": []
   },
   "outputs": [
    {
     "name": "stdout",
     "output_type": "stream",
     "text": [
      "Subject: Exploration of Azure OpenAI Security Features for Application Development\n",
      "\n",
      "Dear [Recipient's Name],\n",
      "\n",
      "I hope this message finds you well. My name is Joe, and I am writing to bring to your attention the robust security features offered by Azure OpenAI. We are currently in the process of developing an innovative application, and we believe that utilizing the APIs provided by Azure OpenAI will significantly enhance our project's capabilities.\n",
      "\n",
      "I would appreciate it if you could review these security features at your earliest convenience. Your insights would be invaluable as we move forward with our development plans.\n",
      "\n",
      "Thank you for your attention to this matter. I look forward to your feedback.\n",
      "\n",
      "Best regards,\n",
      "\n",
      "Joe\n"
     ]
    }
   ],
   "source": [
    "prompt = f\"\"\"\n",
    "Translate the following from slang to a business letter: \n",
    "'Hey Dude, This is Joe. Check out the security features of Azure OpenAI. \\\n",
    "We are gonna build a killer app using its APIs.'\n",
    "\"\"\"\n",
    "my_prompt = [\n",
    "              {\n",
    "                \"role\": \"user\", \n",
    "                \"content\": f\"{prompt}\"\n",
    "                }\n",
    "              ]      \n",
    "tokens_used, finish_reason, completion = get_chat_completion(\n",
    "                                                the_client=client, \n",
    "                                                the_model=THE_MODEL,\n",
    "                                                the_messages=my_prompt)\n",
    "#print(f\"Completion: {completion}\\nTokens used: {tokens_used}\\nFinish Reason: {finish_reason}\")\n",
    "print(f'{completion}')"
   ]
  },
  {
   "cell_type": "markdown",
   "id": "a2c7eb73-6b82-442d-b4f8-251c308e89d5",
   "metadata": {
    "id": "p3e9sZh5tWIa"
   },
   "source": [
    "## Conversion\n",
    "#### json to html table"
   ]
  },
  {
   "cell_type": "code",
   "execution_count": 14,
   "id": "5a37f0a0",
   "metadata": {
    "tags": []
   },
   "outputs": [
    {
     "name": "stdout",
     "output_type": "stream",
     "text": [
      "To convert the given JSON-like Python dictionary into an HTML table with column headers and a title, you can use the following HTML code:\n",
      "\n",
      "```html\n",
      "<!DOCTYPE html>\n",
      "<html lang=\"en\">\n",
      "<head>\n",
      "    <meta charset=\"UTF-8\">\n",
      "    <meta name=\"viewport\" content=\"width=device-width, initial-scale=1.0\">\n",
      "    <title>Restaurant Employees</title>\n",
      "    <style>\n",
      "        table {\n",
      "            width: 50%;\n",
      "            border-collapse: collapse;\n",
      "            margin: 20px 0;\n",
      "        }\n",
      "        th, td {\n",
      "            border: 1px solid #ddd;\n",
      "            padding: 8px;\n",
      "            text-align: left;\n",
      "        }\n",
      "        th {\n",
      "            background-color: #f2f2f2;\n",
      "        }\n",
      "    </style>\n",
      "</head>\n",
      "<body>\n",
      "\n",
      "    <h1>Restaurant Employees</h1>\n",
      "    <table>\n",
      "        <thead>\n",
      "            <tr>\n",
      "                <th>Name</th>\n",
      "                <th>Email</th>\n",
      "            </tr>\n",
      "        </thead>\n",
      "        <tbody>\n",
      "            <tr>\n",
      "                <td>Hari Hansenn</td>\n",
      "                <td>hhansen@gmail.com</td>\n",
      "            </tr>\n",
      "            <tr>\n",
      "                <td>Bob The Builder</td>\n",
      "                <td>bob32@gmail.com</td>\n",
      "            </tr>\n",
      "            <tr>\n",
      "                <td>Nathan Dan</td>\n",
      "                <td>ndan@gmail.com</td>\n",
      "            </tr>\n",
      "        </tbody>\n",
      "    </table>\n",
      "\n",
      "</body>\n",
      "</html>\n",
      "```\n",
      "\n",
      "This HTML code creates a table with a title \"Restaurant Employees\" and includes column headers for \"Name\" and \"Email\". Each employee's name and email are listed in the table rows. The table is styled with basic CSS for better readability.\n"
     ]
    }
   ],
   "source": [
    "contact_json = { \"resturant employees\" :[ \n",
    "    {\"name\":\"Hari Hansenn\", \"email\":\"hhansen@gmail.com\"},\n",
    "    {\"name\":\"Bob The Builder\", \"email\":\"bob32@gmail.com\"},\n",
    "    {\"name\":\"Nathan Dan\", \"email\":\"ndan@gmail.com\"}\n",
    "]}\n",
    "\n",
    "prompt = f\"\"\"\n",
    "Translate the following python dictionary from JSON to an HTML \\\n",
    "table with column headers and title: {contact_json}\n",
    "\"\"\"\n",
    "my_prompt = [\n",
    "              {\n",
    "                \"role\": \"user\", \n",
    "                \"content\": f\"{prompt}\"\n",
    "                }\n",
    "              ]      \n",
    "tokens_used, finish_reason, completion = get_chat_completion(\n",
    "                                                the_client=client, \n",
    "                                                the_model=THE_MODEL,\n",
    "                                                the_messages=my_prompt)\n",
    "#print(f\"Completion: {completion}\\nTokens used: {tokens_used}\\nFinish Reason: {finish_reason}\")\n",
    "print(completion)"
   ]
  },
  {
   "cell_type": "markdown",
   "id": "dcb7681b",
   "metadata": {},
   "source": [
    "#### Display in html"
   ]
  },
  {
   "cell_type": "code",
   "execution_count": 15,
   "id": "481a46b7",
   "metadata": {
    "tags": []
   },
   "outputs": [
    {
     "data": {
      "text/html": [
       "To convert the given JSON-like Python dictionary into an HTML table with column headers and a title, you can use the following HTML code:\n",
       "\n",
       "```html\n",
       "<!DOCTYPE html>\n",
       "<html lang=\"en\">\n",
       "<head>\n",
       "    <meta charset=\"UTF-8\">\n",
       "    <meta name=\"viewport\" content=\"width=device-width, initial-scale=1.0\">\n",
       "    <title>Restaurant Employees</title>\n",
       "    <style>\n",
       "        table {\n",
       "            width: 50%;\n",
       "            border-collapse: collapse;\n",
       "            margin: 20px 0;\n",
       "        }\n",
       "        th, td {\n",
       "            border: 1px solid #ddd;\n",
       "            padding: 8px;\n",
       "            text-align: left;\n",
       "        }\n",
       "        th {\n",
       "            background-color: #f2f2f2;\n",
       "        }\n",
       "    </style>\n",
       "</head>\n",
       "<body>\n",
       "\n",
       "    <h1>Restaurant Employees</h1>\n",
       "    <table>\n",
       "        <thead>\n",
       "            <tr>\n",
       "                <th>Name</th>\n",
       "                <th>Email</th>\n",
       "            </tr>\n",
       "        </thead>\n",
       "        <tbody>\n",
       "            <tr>\n",
       "                <td>Hari Hansenn</td>\n",
       "                <td>hhansen@gmail.com</td>\n",
       "            </tr>\n",
       "            <tr>\n",
       "                <td>Bob The Builder</td>\n",
       "                <td>bob32@gmail.com</td>\n",
       "            </tr>\n",
       "            <tr>\n",
       "                <td>Nathan Dan</td>\n",
       "                <td>ndan@gmail.com</td>\n",
       "            </tr>\n",
       "        </tbody>\n",
       "    </table>\n",
       "\n",
       "</body>\n",
       "</html>\n",
       "```\n",
       "\n",
       "This HTML code creates a table with a title \"Restaurant Employees\" and includes column headers for \"Name\" and \"Email\". Each employee's name and email are listed in the table rows. The table is styled with basic CSS for better readability."
      ],
      "text/plain": [
       "<IPython.core.display.HTML object>"
      ]
     },
     "metadata": {},
     "output_type": "display_data"
    }
   ],
   "source": [
    "from IPython.display import display, Markdown, Latex, HTML, JSON\n",
    "display(HTML(completion))"
   ]
  },
  {
   "cell_type": "markdown",
   "id": "2df1824c-534b-45cb-b0c1-3000bba5adbe",
   "metadata": {
    "id": "qLTz16qEzyT_"
   },
   "source": [
    "## Spellcheck/Grammar check.\n",
    "\n",
    "Here are some examples of common grammar and spelling problems and the LLM's response. \n",
    "\n",
    "To signal to the LLM that you want it to proofread your text, you instruct the model to 'proofread' or 'proofread and correct'."
   ]
  },
  {
   "cell_type": "code",
   "execution_count": 3,
   "id": "52d77283",
   "metadata": {
    "tags": []
   },
   "outputs": [
    {
     "name": "stdout",
     "output_type": "stream",
     "text": [
      "------\n",
      "Original Text: The company are going well in their business.\n",
      "Correction: The company is doing well in their business.\n",
      "------\n",
      "Original Text: This is a good sentence with no issues.\n",
      "Correction: No errors found\n",
      "------\n",
      "Original Text: Their goes my freedom. There going to bring they’re suitcases.\n",
      "Correction: There goes my freedom. They're going to bring their suitcases.\n",
      "------\n",
      "Original Text: Your going to need you’re wallet.\n",
      "Correction: Your're going to need your wallet.\n",
      "------\n",
      "Original Text: This phrase is to varify chatGPT for speling abilitty\n",
      "Correction: This phrase is to verify ChatGPT for spelling ability\n"
     ]
    }
   ],
   "source": [
    "import time\n",
    "text = [ \n",
    "  \"The company are going well in their business.\",  # The company is.\n",
    "  \"This is a good sentence with no issues.\", # ok\n",
    "  \"Their goes my freedom. There going to bring they’re suitcases.\",  # Homonyms\n",
    "  \"Your going to need you’re wallet.\",  # Homonyms\n",
    "  \"This phrase is to varify chatGPT for speling abilitty\"  # spelling\n",
    "]\n",
    "for t in text:\n",
    "    print(\"------\")\n",
    "    print(f'Original Text: {t}')\n",
    "    prompt = f\"\"\"Proofread and correct the following text\n",
    "    and rewrite the corrected version. If you don't find\n",
    "    and errors, just say \"No errors found\". Don't use \n",
    "    any punctuation around the text:\n",
    "    ```{t}```\"\"\"\n",
    "    my_prompt = [\n",
    "                  {\n",
    "                    \"role\": \"user\", \n",
    "                    \"content\": f\"{prompt}\"\n",
    "                    }\n",
    "                  ]      \n",
    "    tokens_used, finish_reason, completion = get_chat_completion(\n",
    "                                                    the_client=client, \n",
    "                                                    the_model=THE_MODEL,\n",
    "                                                    the_messages=my_prompt)\n",
    "    #print(f\"Completion: {completion}\\nTokens used: {tokens_used}\\nFinish Reason: {finish_reason}\")\n",
    "    print(f'Correction: {completion}')\n",
    "    time.sleep(10)"
   ]
  },
  {
   "cell_type": "code",
   "execution_count": 4,
   "id": "7543fe7d",
   "metadata": {
    "tags": []
   },
   "outputs": [
    {
     "name": "stdout",
     "output_type": "stream",
     "text": [
      "I am doing this for your good. You know that, right? I have paid a lot of money for your education in an expensive school, so that your English is better than mine. Also, my hope is that you get a good job and a bright future.\n"
     ]
    }
   ],
   "source": [
    "text = f\"\"\"\n",
    "I am do this for your good. You know that, right? \\\n",
    "I have paid a lot of money for your education in an \\\n",
    "expansive school, so that your English is batter than \\\n",
    "me. Also, my hope is you get a good job bright future.\n",
    "\"\"\"\n",
    "prompt = f\"proofread and correct this review and returned the corrected text only: ```{text}```\"\n",
    "\n",
    "my_prompt = [\n",
    "              {\n",
    "                \"role\": \"user\", \n",
    "                \"content\": f\"{prompt}\"\n",
    "                }\n",
    "              ]      \n",
    "tokens_used, finish_reason, completion = get_chat_completion(\n",
    "                                                the_client=client, \n",
    "                                                the_model=THE_MODEL,\n",
    "                                                the_messages=my_prompt)\n",
    "#print(f\"Completion: {completion}\\nTokens used: {tokens_used}\\nFinish Reason: {finish_reason}\")\n",
    "print(completion)"
   ]
  },
  {
   "cell_type": "code",
   "execution_count": 5,
   "id": "11ac80a0",
   "metadata": {
    "tags": []
   },
   "outputs": [
    {
     "ename": "NameError",
     "evalue": "name 'Markdown' is not defined",
     "output_type": "error",
     "traceback": [
      "\u001b[1;31m---------------------------------------------------------------------------\u001b[0m",
      "\u001b[1;31mNameError\u001b[0m                                 Traceback (most recent call last)",
      "Cell \u001b[1;32mIn[5], line 4\u001b[0m\n\u001b[0;32m      1\u001b[0m \u001b[38;5;28;01mfrom\u001b[39;00m \u001b[38;5;21;01mredlines\u001b[39;00m \u001b[38;5;28;01mimport\u001b[39;00m Redlines\n\u001b[0;32m      3\u001b[0m diff \u001b[38;5;241m=\u001b[39m Redlines(text,completion)\n\u001b[1;32m----> 4\u001b[0m display(\u001b[43mMarkdown\u001b[49m(diff\u001b[38;5;241m.\u001b[39moutput_markdown))\n",
      "\u001b[1;31mNameError\u001b[0m: name 'Markdown' is not defined"
     ]
    }
   ],
   "source": [
    "from redlines import Redlines\n",
    "\n",
    "diff = Redlines(text,completion)\n",
    "display(Markdown(diff.output_markdown))"
   ]
  },
  {
   "cell_type": "code",
   "execution_count": null,
   "id": "bd20e198",
   "metadata": {},
   "outputs": [],
   "source": []
  }
 ],
 "metadata": {
  "kernelspec": {
   "display_name": "Python 3 (ipykernel)",
   "language": "python",
   "name": "python3"
  },
  "language_info": {
   "codemirror_mode": {
    "name": "ipython",
    "version": 3
   },
   "file_extension": ".py",
   "mimetype": "text/x-python",
   "name": "python",
   "nbconvert_exporter": "python",
   "pygments_lexer": "ipython3",
   "version": "3.11.9"
  }
 },
 "nbformat": 4,
 "nbformat_minor": 5
}
