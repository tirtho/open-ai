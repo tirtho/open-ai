{
 "cells": [
  {
   "cell_type": "markdown",
   "metadata": {},
   "source": [
    "# Email Content Classification with Azure Cognitive Search and Azure OpenAI\n",
    "\n",
    "This code demonstrates how to use Azure Cognitive Search with OpenAI and Azure Python SDK to classify documents\n",
    "\n",
    "## Prerequisites\n",
    "1. To run the code, install the following packages. Please use the latest pre-release version `pip install azure-ai-formrecognizer==3.3.0`.\n"
   ]
  },
  {
   "cell_type": "markdown",
   "metadata": {},
   "source": [
    "- > ! pip install azure-search-documents==11.4.0b6\n",
    "- > ! pip install openai"
   ]
  },
  {
   "cell_type": "markdown",
   "metadata": {},
   "source": [
    "## Load all the AOAI API keys and model parameters"
   ]
  },
  {
   "cell_type": "code",
   "execution_count": 1,
   "metadata": {},
   "outputs": [
    {
     "name": "stdout",
     "output_type": "stream",
     "text": [
      "\n",
      "Got OPENAI API Key from environment variable\n",
      "AOAI setup succeeded\n"
     ]
    }
   ],
   "source": [
    "import aoai\n",
    "\n",
    "MY_AOAI_ENDPOINT = 'https://tr-non-prod-gpt4.openai.azure.com/'\n",
    "MY_AOAI_VERSION = '2023-07-01-preview'\n",
    "MY_GPT_ENGINE = 'tr-gpt4'\n",
    "MY_AOAI_EMBEDDING_ENGINE = 'tr-embedding-ada'\n",
    "\n",
    "status = aoai.setupOpenai(aoai_endpoint=MY_AOAI_ENDPOINT, \n",
    "                 aoai_version=MY_AOAI_VERSION)\n",
    "if status > 0:\n",
    "    print(\"AOAI setup succeeded\")\n",
    "else:\n",
    "    print(\"AOAI setup failed\")"
   ]
  },
  {
   "cell_type": "markdown",
   "metadata": {},
   "source": [
    "## Create the embeddings"
   ]
  },
  {
   "cell_type": "code",
   "execution_count": 5,
   "metadata": {},
   "outputs": [],
   "source": [
    "import json\n",
    "from tenacity import retry, wait_random_exponential, stop_after_attempt"
   ]
  },
  {
   "cell_type": "markdown",
   "metadata": {},
   "source": [
    "#### Set the parameters"
   ]
  },
  {
   "cell_type": "code",
   "execution_count": 6,
   "metadata": {},
   "outputs": [],
   "source": [
    "# TODO: Read from Blob Store\n",
    "# Assuming you are running notebook from the notebook folder\n",
    "MY_PROJECT_ROOT = r'..\\..\\..\\data\\sample-auto-insurance-emails\\\\'\n",
    "MY_INPUT_DATA_FILE = f'{MY_PROJECT_ROOT}\\cleaned-emails-with-classes-for-training.json'\n",
    "MY_INPUT_DATA_AND_VECTOR_FILE = f'{MY_PROJECT_ROOT}\\cleaned-emails-with-classes-and-vectors.json'\n",
    "\n",
    "MY_TEST_DATA_FILE = f'{MY_PROJECT_ROOT}\\cleaned-emails-with-classes-for-test.json'\n",
    "\n",
    "# The different classes\n",
    "categories = [\"PolicyCancellation\",\"IncisoCancellation\",\"PersonChange\",\n",
    "                \"VINNumberChange\",\"CoverageChange\",\"SubsequenteRegister\",\n",
    "                \"PaymentMethodChange\",\"UseChange\",\"DiscountChange\",\"VehicleChange\",\n",
    "                \"BillingChange\",\"VehicleDataChange\",\"Transactionoutofscope\"]"
   ]
  },
  {
   "cell_type": "markdown",
   "metadata": {},
   "source": [
    "## Create the embeddings"
   ]
  },
  {
   "cell_type": "code",
   "execution_count": 57,
   "metadata": {},
   "outputs": [],
   "source": [
    "# Read the text-sample.json\n",
    "with open(MY_INPUT_DATA_FILE, 'r', encoding='utf-8') as file:\n",
    "    input_data = json.load(file)\n",
    "\n",
    "@retry(wait=wait_random_exponential(min=1, max=20), stop=stop_after_attempt(6))\n",
    "# Generate embeddings for title and content fields\n",
    "def add_embedding(text_data):\n",
    "    return aoai.generate_embedding(the_engine = MY_AOAI_EMBEDDING_ENGINE,\n",
    "                              the_text = text_data)\n",
    "for item in input_data:\n",
    "    item.pop('Index')\n",
    "    item['FileName'] = item['FileName'].removesuffix('.pdf')\n",
    "    for category in categories:\n",
    "        item[category] = f'\"{item[category]}\"'\n",
    "    content_embeddings = add_embedding(item['EmailBody'])\n",
    "    item['contentVector'] = content_embeddings\n",
    "    \n",
    "# Output embeddings to docVectors.json file\n",
    "with open(MY_INPUT_DATA_AND_VECTOR_FILE, \"w\") as f:\n",
    "    json.dump(input_data, f)"
   ]
  },
  {
   "cell_type": "markdown",
   "metadata": {},
   "source": [
    "## Authenticate to Azure Cognitive Search"
   ]
  },
  {
   "cell_type": "code",
   "execution_count": 58,
   "metadata": {},
   "outputs": [
    {
     "name": "stdout",
     "output_type": "stream",
     "text": [
      "\n",
      "Got Azure Cognitive Search ADMIN API Key from environment variable\n"
     ]
    }
   ],
   "source": [
    "import cog_search\n",
    "\n",
    "cogSearchCredential = cog_search.getCogSearchCredential()"
   ]
  },
  {
   "cell_type": "code",
   "execution_count": 59,
   "metadata": {},
   "outputs": [],
   "source": [
    "from azure.search.documents.indexes import SearchIndexClient\n",
    "\n",
    "# Create a search index\n",
    "MY_COG_SEARCH_ENDPOINT = 'https://tr-docai-cog-search.search.windows.net'\n",
    "MY_COG_SEARCH_INDEX_NAME = 'sample-auto-insurance-emails-index'"
   ]
  },
  {
   "cell_type": "markdown",
   "metadata": {},
   "source": [
    "#### Import all Cognitive Search Packages"
   ]
  },
  {
   "cell_type": "code",
   "execution_count": 60,
   "metadata": {},
   "outputs": [],
   "source": [
    "from azure.search.documents import SearchClient  \n",
    "from azure.search.documents.models import Vector  \n",
    "from azure.search.documents.indexes.models import (  \n",
    "    SearchIndex,  \n",
    "    SearchField,  \n",
    "    SearchFieldDataType,  \n",
    "    SimpleField,  \n",
    "    SearchableField,  \n",
    "    SearchIndex,  \n",
    "    SemanticConfiguration,  \n",
    "    PrioritizedFields,  \n",
    "    SemanticField,  \n",
    "    SearchField,  \n",
    "    SemanticSettings,  \n",
    "    VectorSearch,  \n",
    "    VectorSearchAlgorithmConfiguration,  \n",
    ")"
   ]
  },
  {
   "cell_type": "markdown",
   "metadata": {},
   "source": [
    "#### Create the search index"
   ]
  },
  {
   "cell_type": "code",
   "execution_count": 74,
   "metadata": {},
   "outputs": [
    {
     "name": "stdout",
     "output_type": "stream",
     "text": [
      " sample-auto-insurance-emails-index created\n"
     ]
    }
   ],
   "source": [
    "fields = [\n",
    "    SimpleField(name=\"FileName\", type=SearchFieldDataType.String, key=True, sortable=True, filterable=True, facetable=True),\n",
    "    SearchableField(name=\"EmailBody\", type=SearchFieldDataType.String),\n",
    "    SearchableField(name=\"PolicyCancellation\", type=SearchFieldDataType.String, filterable=True),\n",
    "    SearchableField(name=\"IncisoCancellation\", type=SearchFieldDataType.String, filterable=True),\n",
    "    SearchableField(name=\"PersonChange\", type=SearchFieldDataType.String, filterable=True),\n",
    "    SearchableField(name=\"VINNumberChange\", type=SearchFieldDataType.String, filterable=True),\n",
    "    SearchableField(name=\"CoverageChange\", type=SearchFieldDataType.String, filterable=True),\n",
    "    SearchableField(name=\"SubsequenteRegister\", type=SearchFieldDataType.String, filterable=True),\n",
    "    SearchableField(name=\"PaymentMethodChange\", type=SearchFieldDataType.String, filterable=True),\n",
    "    SearchableField(name=\"UseChange\", type=SearchFieldDataType.String, filterable=True),\n",
    "    SearchableField(name=\"DiscountChange\", type=SearchFieldDataType.String, filterable=True),\n",
    "    SearchableField(name=\"VehicleChange\", type=SearchFieldDataType.String, filterable=True),\n",
    "    SearchableField(name=\"BillingChange\", type=SearchFieldDataType.String, filterable=True),\n",
    "    SearchableField(name=\"VehicleDataChange\", type=SearchFieldDataType.String, filterable=True),\n",
    "    SearchableField(name=\"Transactionoutofscope\", type=SearchFieldDataType.String, filterable=True),   \n",
    "    SearchField(name=\"contentVector\", type=SearchFieldDataType.Collection(SearchFieldDataType.Single),\n",
    "                searchable=True, vector_search_dimensions=1536, vector_search_configuration=\"my-vector-config\"),\n",
    "]\n",
    "\n",
    "vector_search = VectorSearch(\n",
    "    algorithm_configurations=[\n",
    "        VectorSearchAlgorithmConfiguration(\n",
    "            name=\"my-vector-config\",\n",
    "            kind=\"hnsw\",\n",
    "            hnsw_parameters={\n",
    "                \"m\": 4,\n",
    "                \"efConstruction\": 400,\n",
    "                \"efSearch\": 500,\n",
    "                \"metric\": \"cosine\"\n",
    "            }\n",
    "        )\n",
    "    ]\n",
    ")\n",
    "\n",
    "semantic_config = SemanticConfiguration(\n",
    "    name=\"my-semantic-config\",\n",
    "    prioritized_fields=PrioritizedFields(\n",
    "        title_field=SemanticField(field_name=\"FileName\"),\n",
    "        #prioritized_keywords_fields=[SemanticField(field_name=\"category\")],\n",
    "        prioritized_keywords_fields=[\n",
    "                                    SemanticField(field_name=\"PolicyCancellation\"),\n",
    "                                    SemanticField(field_name=\"IncisoCancellation\"),\n",
    "                                    SemanticField(field_name=\"PersonChange\"),\n",
    "                                    SemanticField(field_name=\"VINNumberChange\"),\n",
    "                                    SemanticField(field_name=\"CoverageChange\"),\n",
    "                                    SemanticField(field_name=\"SubsequenteRegister\"),\n",
    "                                    SemanticField(field_name=\"PaymentMethodChange\"),\n",
    "                                    SemanticField(field_name=\"UseChange\"),\n",
    "                                    SemanticField(field_name=\"DiscountChange\"),\n",
    "                                    SemanticField(field_name=\"VehicleChange\"),\n",
    "                                    SemanticField(field_name=\"BillingChange\"),\n",
    "                                    SemanticField(field_name=\"VehicleDataChange\"),\n",
    "                                    SemanticField(field_name=\"Transactionoutofscope\")\n",
    "        ],\n",
    "        prioritized_content_fields=[SemanticField(field_name=\"EmailBody\")]\n",
    "    )\n",
    ")\n",
    "\n",
    "# Create the semantic settings with the configuration\n",
    "semantic_settings = SemanticSettings(configurations=[semantic_config])\n",
    "\n",
    "\n",
    "# create an index client connection\n",
    "index_client = SearchIndexClient(endpoint=MY_COG_SEARCH_ENDPOINT, \n",
    "                                 credential=cogSearchCredential)\n",
    "# delete any existing index first to have a clean slate\n",
    "index_client.delete_index(MY_COG_SEEARCH_INDEX_NAME)\n",
    "# Create the search index with the semantic settings\n",
    "index = SearchIndex(name=MY_COG_SEARCH_INDEX_NAME, fields=fields,\n",
    "                    vector_search=vector_search, semantic_settings=semantic_settings)\n",
    "result = index_client.create_or_update_index(index)\n",
    "print(f' {result.name} created')\n"
   ]
  },
  {
   "cell_type": "markdown",
   "metadata": {
    "tags": [
     "LoadTrainingDataToBlobStore"
    ]
   },
   "source": [
    "#### Insert Email Content and Vectors into Cognitive Search Index"
   ]
  },
  {
   "cell_type": "code",
   "execution_count": 75,
   "metadata": {},
   "outputs": [
    {
     "name": "stdout",
     "output_type": "stream",
     "text": [
      "Uploaded 330 documents\n"
     ]
    }
   ],
   "source": [
    "# Upload some documents to the index\n",
    "with open(MY_INPUT_DATA_AND_VECTOR_FILE, 'r') as file:  \n",
    "    documents = json.load(file)  \n",
    "search_client = SearchClient(\n",
    "                    endpoint=MY_COG_SEARCH_ENDPOINT, \n",
    "                    index_name=MY_COG_SEARCH_INDEX_NAME, \n",
    "                    credential=cogSearchCredential)\n",
    "result = search_client.upload_documents(documents)  \n",
    "print(f\"Uploaded {len(documents)} documents\") "
   ]
  },
  {
   "cell_type": "markdown",
   "metadata": {},
   "source": [
    "## Vector Search"
   ]
  },
  {
   "cell_type": "code",
   "execution_count": 92,
   "metadata": {},
   "outputs": [
    {
     "name": "stdout",
     "output_type": "stream",
     "text": [
      "----Test File[7d8b0441-5018-40a9-852d-48f32d1acc79.pdf] :: Nearest Neighbor File[9d6306c3-a034-4d08-bcf0-82dc4540195b]----\n",
      "Score: 0.9339431\n",
      "\n",
      "PolicyCancellation[\"False\"]; IncisoCancellation[\"False\"]; PersonChange[\"False\"]; VINNumberChange[\"False\"]\n",
      "CoverageChange[\"False\"]; SubsequenteRegister[\"True\"]; PaymentMethodChange[\"False\"]; UseChange[\"True\"]\n",
      "DiscountChange[\"False\"]; VehicleChange[\"False\"]; BillingChange[\"False\"]; VehicleDataChange[\"False\"]\n",
      "Transactionoutofscope[\"False\"]\n",
      "\n",
      "\n",
      "----Test File[ab8f5654-61b2-4eea-83a7-dccacdf52022.pdf] :: Nearest Neighbor File[0434a779-56a7-4a0a-8b07-68543dbcb73b]----\n",
      "Score: 0.92652446\n",
      "\n",
      "PolicyCancellation[\"False\"]; IncisoCancellation[\"True\"]; PersonChange[\"False\"]; VINNumberChange[\"True\"]\n",
      "CoverageChange[\"False\"]; SubsequenteRegister[\"False\"]; PaymentMethodChange[\"False\"]; UseChange[\"False\"]\n",
      "DiscountChange[\"True\"]; VehicleChange[\"False\"]; BillingChange[\"False\"]; VehicleDataChange[\"False\"]\n",
      "Transactionoutofscope[\"False\"]\n",
      "\n",
      "\n",
      "----Test File[724b4f48-5e97-48c5-b05e-2ae99eb4da34.pdf] :: Nearest Neighbor File[f7fb86b2-e4f8-42c4-a2c6-b71996a4ec78]----\n",
      "Score: 0.90501827\n",
      "\n",
      "PolicyCancellation[\"True\"]; IncisoCancellation[\"True\"]; PersonChange[\"False\"]; VINNumberChange[\"False\"]\n",
      "CoverageChange[\"True\"]; SubsequenteRegister[\"False\"]; PaymentMethodChange[\"False\"]; UseChange[\"False\"]\n",
      "DiscountChange[\"False\"]; VehicleChange[\"False\"]; BillingChange[\"False\"]; VehicleDataChange[\"False\"]\n",
      "Transactionoutofscope[\"False\"]\n",
      "\n",
      "\n",
      "----Test File[6f6c1353-d3a7-4ccf-a3df-7ac45de7abbb.pdf] :: Nearest Neighbor File[36252318-b5d4-4413-9e4f-f7af16bd42e7]----\n",
      "Score: 0.93855256\n",
      "\n",
      "PolicyCancellation[\"True\"]; IncisoCancellation[\"False\"]; PersonChange[\"False\"]; VINNumberChange[\"False\"]\n",
      "CoverageChange[\"False\"]; SubsequenteRegister[\"False\"]; PaymentMethodChange[\"False\"]; UseChange[\"False\"]\n",
      "DiscountChange[\"False\"]; VehicleChange[\"False\"]; BillingChange[\"False\"]; VehicleDataChange[\"True\"]\n",
      "Transactionoutofscope[\"False\"]\n",
      "\n",
      "\n",
      "----Test File[e7014199-7b44-49b4-9c66-49a17d2d2c81.pdf] :: Nearest Neighbor File[b34f9371-9dbe-4cc8-9f40-23945c522e4b]----\n",
      "Score: 0.93725526\n",
      "\n",
      "PolicyCancellation[\"True\"]; IncisoCancellation[\"False\"]; PersonChange[\"False\"]; VINNumberChange[\"False\"]\n",
      "CoverageChange[\"False\"]; SubsequenteRegister[\"False\"]; PaymentMethodChange[\"False\"]; UseChange[\"True\"]\n",
      "DiscountChange[\"False\"]; VehicleChange[\"False\"]; BillingChange[\"False\"]; VehicleDataChange[\"False\"]\n",
      "Transactionoutofscope[\"False\"]\n",
      "\n",
      "\n"
     ]
    }
   ],
   "source": [
    "with open(MY_TEST_DATA_FILE, 'r', encoding='utf-8') as file:\n",
    "    test_data = json.load(file)\n",
    "\n",
    "for item in test_data:\n",
    "    query = item['EmailBody']\n",
    "    fileName = item['FileName']\n",
    "    search_client = SearchClient(\n",
    "                        endpoint=MY_COG_SEARCH_ENDPOINT, \n",
    "                        index_name=MY_COG_SEEARCH_INDEX_NAME, \n",
    "                        credential=cogSearchCredential)\n",
    "\n",
    "    results = search_client.search(  \n",
    "        search_text=None,  \n",
    "        vector=aoai.generate_embedding(\n",
    "                        the_engine=MY_AOAI_EMBEDDING_ENGINE,\n",
    "                        the_text=query), \n",
    "        top_k=1,  \n",
    "        vector_fields=\"contentVector\",\n",
    "        select=[\"FileName\", \"EmailBody\", \"PolicyCancellation\",\"IncisoCancellation\",\"PersonChange\",\n",
    "                \"VINNumberChange\",\"CoverageChange\",\"SubsequenteRegister\",\n",
    "                \"PaymentMethodChange\",\"UseChange\",\"DiscountChange\",\"VehicleChange\",\n",
    "                \"BillingChange\",\"VehicleDataChange\",\"Transactionoutofscope\"],\n",
    "    )  \n",
    "\n",
    "    for result in results:\n",
    "        print(f\"----Test File[{fileName}] :: Nearest Neighbor File[{result['FileName']}]----\")  \n",
    "        print(f\"Score: {result['@search.score']}\\n\")  \n",
    "        print(f\"PolicyCancellation[{result['PolicyCancellation']}]; IncisoCancellation[{result['IncisoCancellation']}]; PersonChange[{result['PersonChange']}]; VINNumberChange[{result['VINNumberChange']}]\")\n",
    "        \n",
    "        print(f\"CoverageChange[{result['CoverageChange']}]; SubsequenteRegister[{result['SubsequenteRegister']}]; PaymentMethodChange[{result['PaymentMethodChange']}]; UseChange[{result['UseChange']}]\")\n",
    "        \n",
    "        print(f\"DiscountChange[{result['DiscountChange']}]; VehicleChange[{result['VehicleChange']}]; BillingChange[{result['BillingChange']}]; VehicleDataChange[{result['VehicleDataChange']}]\")\n",
    "        \n",
    "        print(f\"Transactionoutofscope[{result['Transactionoutofscope']}]\\n\\n\")\n"
   ]
  },
  {
   "cell_type": "markdown",
   "metadata": {},
   "source": [
    "## Semantic Hybrid Search to get the nearest vectors for the query\n",
    "\n",
    "The categories of returned entry is the nearest categories for the query"
   ]
  },
  {
   "cell_type": "code",
   "execution_count": 78,
   "metadata": {},
   "outputs": [
    {
     "name": "stdout",
     "output_type": "stream",
     "text": [
      "\n",
      "\n",
      "----Email text----\n",
      "7d8b0441-5018-40a9-852d-48f32d1acc79.pdf\n",
      "\n",
      "\n",
      "----Email text----\n",
      "ab8f5654-61b2-4eea-83a7-dccacdf52022.pdf\n",
      "\n",
      "\n",
      "----Email text----\n",
      "724b4f48-5e97-48c5-b05e-2ae99eb4da34.pdf\n",
      "\n",
      "\n",
      "----Email text----\n",
      "6f6c1353-d3a7-4ccf-a3df-7ac45de7abbb.pdf\n",
      "\n",
      "\n",
      "----Email text----\n",
      "e7014199-7b44-49b4-9c66-49a17d2d2c81.pdf\n"
     ]
    }
   ],
   "source": [
    "# Read the text-sample.json\n",
    "with open(MY_TEST_DATA_FILE, 'r', encoding='utf-8') as file:\n",
    "    test_data = json.load(file)\n",
    "\n",
    "for item in test_data:\n",
    "    query = item['EmailBody']\n",
    "    print(f'\\n\\n----Email text----\\n{item[\"FileName\"]}')\n",
    "    search_client = SearchClient(\n",
    "                        endpoint=MY_COG_SEARCH_ENDPOINT, \n",
    "                        index_name=MY_COG_SEEARCH_INDEX_NAME, \n",
    "                        credential=cogSearchCredential)\n",
    "\n",
    "    results = search_client.search(\n",
    "        search_text=query,\n",
    "        vector=aoai.generate_embedding(\n",
    "                        the_engine=MY_AOAI_EMBEDDING_ENGINE,\n",
    "                        the_text=query), \n",
    "        top_k=1,  \n",
    "        vector_fields=\"contentVector\",\n",
    "        select=[\"EmailBody\"],\n",
    "        query_type=\"semantic\", \n",
    "        query_language=\"en-us\", \n",
    "        semantic_configuration_name='my-semantic-config', \n",
    "        query_caption=\"extractive\", \n",
    "        query_answer=\"extractive\",\n",
    "        top=1\n",
    "    )\n",
    "    #TODO Get the Category name instead of the key\n",
    "    semantic_answers = results.get_answers()\n",
    "    for answer in semantic_answers:\n",
    "        print(f\"Semantic Answer: {answer}\")\n",
    "        print(f\"Semantic Answer Score: {answer.score}\\n\")\n",
    "        print(f\"Category: {answer.key}\\n\")"
   ]
  },
  {
   "cell_type": "code",
   "execution_count": null,
   "metadata": {},
   "outputs": [],
   "source": []
  }
 ],
 "metadata": {
  "kernelspec": {
   "display_name": "Python 3 (ipykernel)",
   "language": "python",
   "name": "python3"
  },
  "language_info": {
   "codemirror_mode": {
    "name": "ipython",
    "version": 3
   },
   "file_extension": ".py",
   "mimetype": "text/x-python",
   "name": "python",
   "nbconvert_exporter": "python",
   "pygments_lexer": "ipython3",
   "version": "3.11.6"
  }
 },
 "nbformat": 4,
 "nbformat_minor": 2
}
