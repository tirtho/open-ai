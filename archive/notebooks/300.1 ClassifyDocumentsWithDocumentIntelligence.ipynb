{
 "cells": [
  {
   "cell_type": "markdown",
   "metadata": {},
   "source": [
    "# Sample Documents Classification\n",
    "\n",
    "- Extract using Azure Document Intelligence Service\n",
    "\n",
    "## Prerequisites\n",
    "1. To run the code, install the following packages. Please use the latest pre-release version `pip install azure-ai-documentintelligence==1.0.0`.\n"
   ]
  },
  {
   "cell_type": "markdown",
   "metadata": {},
   "source": [
    "- > ! pip install azure-ai-documentintelligence==1.0.0"
   ]
  },
  {
   "cell_type": "markdown",
   "metadata": {},
   "source": [
    "## Load all the API keys, parameters and login credentials"
   ]
  },
  {
   "cell_type": "code",
   "execution_count": 1,
   "metadata": {},
   "outputs": [
    {
     "name": "stdout",
     "output_type": "stream",
     "text": [
      "\n",
      "Got Azure Form Recognizer API Key from environment variable\n"
     ]
    }
   ],
   "source": [
    "import os\n",
    "import docintel\n",
    "\n",
    "# Your Azure Document Intelligence Service Instance\n",
    "DOC_INTEL_ENDPOINT = os.getenv('FORM_RECOGNIZER_ENDPOINT')\n",
    "DOC_INTEL_API_KEY = os.getenv(\"FORM_RECOGNIZER_API_KEY\")\n",
    "# The model id should match the custom model you have\n",
    "# trained and deployed in your Azure Document Intelligence Service Instance\n",
    "# with the endpoint MY_FORM_RECOGNIZER_ENDPOINT\n",
    "MY_CLASSIFIER_MODEL_ID = 'docai-classifier-v2'\n",
    "\n",
    "documentIntelligenceCredential = docintel.getDocumentIntelligenceCredential(DOC_INTEL_API_KEY)\n",
    "\n",
    "documentIntelligenceClient = docintel.getDocumentIntelligenceClient(\n",
    "                                endpoint=DOC_INTEL_ENDPOINT,\n",
    "                                credential=documentIntelligenceCredential\n",
    "                                )"
   ]
  },
  {
   "cell_type": "code",
   "execution_count": 2,
   "metadata": {},
   "outputs": [],
   "source": [
    "MY_TEST_DOCUMENT = r'C:\\Users\\tibarar\\OneDrive - Microsoft\\Desktop\\DocAI - LocalDocs\\AutoInsuranceClaims\\InsuranceClaim-WilliamWordworth.pdf'\n",
    "\n",
    "classifierResult = docintel.classifyLocalDocument(\n",
    "                    client=documentIntelligenceClient,\n",
    "                    model=MY_CLASSIFIER_MODEL_ID,\n",
    "                    file_path=MY_TEST_DOCUMENT\n",
    "        )"
   ]
  },
  {
   "cell_type": "markdown",
   "metadata": {},
   "source": [
    "## Get the categories by page, from the Document Intelligent Service API response "
   ]
  },
  {
   "cell_type": "code",
   "execution_count": 3,
   "metadata": {},
   "outputs": [
    {
     "name": "stdout",
     "output_type": "stream",
     "text": [
      "Categories: [{'category': 'auto-insurance-claim', 'confidence': 0.692, 'pages': '[1]'}, {'category': 'auto-insurance-claim', 'confidence': 0.508, 'pages': '[2]'}]\n"
     ]
    }
   ],
   "source": [
    "# Use the threshold to filter low confidence classification from the response\n",
    "# You do not have to do this step for your use case.\n",
    "confidenceThreshold = 0.0\n",
    "\n",
    "theCategories = docintel.getCategories(classifierResult, confidenceThreshold)\n",
    "print(f'Categories: {theCategories}')"
   ]
  },
  {
   "cell_type": "markdown",
   "metadata": {},
   "source": [
    "## Extract documents from files in blob store"
   ]
  },
  {
   "cell_type": "code",
   "execution_count": 2,
   "metadata": {},
   "outputs": [],
   "source": [
    "test_file_url = os.getenv('BLOB_TEST_FILE_JEAN_GENET_SAS_URL')\n",
    "classifierResult = docintel.classifyOnlineDocument(\n",
    "                    client=documentIntelligenceClient,\n",
    "                    model=MY_CLASSIFIER_MODEL_ID,\n",
    "                    file_url=test_file_url\n",
    "        )"
   ]
  },
  {
   "cell_type": "code",
   "execution_count": 3,
   "metadata": {},
   "outputs": [
    {
     "name": "stdout",
     "output_type": "stream",
     "text": [
      "Categories: [{'category': 'auto-insurance-claim', 'confidence': 0.856, 'pages': '[1]'}, {'category': 'auto-insurance-claim', 'confidence': 0.57, 'pages': '[2]'}]\n"
     ]
    }
   ],
   "source": [
    "# Use the threshold to filter low confidence classification from the response\n",
    "# You do not have to do this step for your use case.\n",
    "confidenceThreshold = 0.0\n",
    "\n",
    "theCategories = docintel.getCategories(classifierResult, confidenceThreshold)\n",
    "print(f'Categories: {theCategories}')"
   ]
  },
  {
   "cell_type": "code",
   "execution_count": null,
   "metadata": {},
   "outputs": [],
   "source": []
  }
 ],
 "metadata": {
  "kernelspec": {
   "display_name": "Python 3 (ipykernel)",
   "language": "python",
   "name": "python3"
  },
  "language_info": {
   "codemirror_mode": {
    "name": "ipython",
    "version": 3
   },
   "file_extension": ".py",
   "mimetype": "text/x-python",
   "name": "python",
   "nbconvert_exporter": "python",
   "pygments_lexer": "ipython3",
   "version": "3.11.9"
  }
 },
 "nbformat": 4,
 "nbformat_minor": 2
}
