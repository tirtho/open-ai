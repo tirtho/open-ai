{
 "cells": [
  {
   "cell_type": "markdown",
   "metadata": {},
   "source": [
    "# Email Classification with Azure OpenAI and Form Recognizer\n",
    "This code demonstrates how to use Azure Form Recognizer with OpenAI and Azure Python SDK to classify documents\n",
    "\n",
    "## Prerequisites\n",
    "1. To run the code, install the following packages. Please use the latest pre-release version `pip install azure-ai-formrecognizer==3.3.0`.\n"
   ]
  },
  {
   "cell_type": "markdown",
   "metadata": {},
   "source": [
    "- > ! pip install azure-ai-formrecognizer==3.3.0\n",
    "- > ! pip install openai"
   ]
  },
  {
   "cell_type": "markdown",
   "metadata": {},
   "source": [
    "## Login to Azure Document Intelligence Service\n",
    "\n",
    "- Need to get Admin Client connection to train/build classifier\n",
    "- Need regular Client connecton to classify user document"
   ]
  },
  {
   "cell_type": "code",
   "execution_count": 1,
   "metadata": {},
   "outputs": [
    {
     "name": "stdout",
     "output_type": "stream",
     "text": [
      "\n",
      "Got Azure Form Recognizer API Key from environment variable\n"
     ]
    }
   ],
   "source": [
    "import fr\n",
    "\n",
    "# Your Azure Document Intelligence Service Instance\n",
    "MY_FORM_RECOGNIZER_ENDPOINT = 'https://tr-docai-form-recognizer.cognitiveservices.azure.com/'\n",
    "\n",
    "formRecognizerCredential = fr.getFormRecognizerCredential()\n",
    "\n",
    "formRecognizerClient = fr.getDocumentAnalysisClient(\n",
    "                            endpoint=MY_FORM_RECOGNIZER_ENDPOINT,\n",
    "                            credential=formRecognizerCredential\n",
    "                        )\n",
    "formRecognizerAdminClient = fr.getDocumentModelAdminClient(\n",
    "                            endpoint=MY_FORM_RECOGNIZER_ENDPOINT,\n",
    "                            credential=formRecognizerCredential\n",
    "                        )"
   ]
  },
  {
   "cell_type": "markdown",
   "metadata": {},
   "source": [
    "## Load all the Azure AI Translator API parameters\n",
    "\n",
    "Currently custom document classification by Azure Document Intelligency Service supports English only. So, we are going to translation input to English first.\n",
    "\n",
    "- pip install azure-ai-translation-text==1.0.0b1\n",
    "- Deploy Azure AI Translator"
   ]
  },
  {
   "cell_type": "code",
   "execution_count": 2,
   "metadata": {},
   "outputs": [
    {
     "name": "stdout",
     "output_type": "stream",
     "text": [
      "\n",
      "Got Azure AI Translator API Key from environment variable\n"
     ]
    }
   ],
   "source": [
    "MY_TRANSLATOR_ENDPOINT = 'https://api.cognitive.microsofttranslator.com/'\n",
    "MY_TRANSLATOR_REGION = 'eastus'\n",
    "import aitr\n",
    "\n",
    "translatorCredential = aitr.getAITranslatorCredential(MY_TRANSLATOR_REGION)\n",
    "translatorClient = aitr.getAITranslatorClient(MY_TRANSLATOR_ENDPOINT, translatorCredential)"
   ]
  },
  {
   "cell_type": "markdown",
   "metadata": {},
   "source": [
    "#### Set the parameters"
   ]
  },
  {
   "cell_type": "code",
   "execution_count": 4,
   "metadata": {},
   "outputs": [],
   "source": [
    "# TODO: Read from Blob Store\n",
    "# Assuming you are running notebook from the notebook folder\n",
    "MY_PROJECT_ROOT = r'..\\..\\..\\data\\sample-auto-insurance-emails\\\\'\n",
    "MY_INPUT_DATA_FILE = r'..\\..\\..\\data\\sample-auto-insurance-emails\\cleaned-emails-with-classes-for-training.json'\n",
    "MY_TRAINING_DATA_BASE_FOLDER = r'..\\..\\..\\data\\sample-auto-insurance-emails\\training'\n",
    "MY_TRAINING_DOCS_SUBFOLDER = r'emails'\n",
    "MY_TRAINING_DATA_EMAIL_DOCS_FOLDER = f'{MY_TRAINING_DATA_BASE_FOLDER}\\\\{MY_TRAINING_DOCS_SUBFOLDER}'\n",
    "\n",
    "MY_TEST_DATA_FILE = r'..\\..\\..\\data\\sample-auto-insurance-emails\\cleaned-emails-with-classes-for-test.json'\n",
    "MY_TEST_DOCUMENT_FOLDER = r'..\\..\\..\\data\\sample-auto-insurance-emails\\test'\n",
    "\n",
    "MY_BLOB_STORE_PATH = r'sample-auto-insurance-emails/training'\n",
    "MY_BLOB_STORE_URL = r'https://trxdocaixblob.blob.core.windows.net/docai'\n",
    "\n",
    "# The different classes\n",
    "categories = [\"PolicyCancellation\",\"IncisoCancellation\",\"PersonChange\",\n",
    "                \"VINNumberChange\",\"CoverageChange\",\"SubsequenteRegister\",\n",
    "                \"PaymentMethodChange\",\"UseChange\",\"DiscountChange\",\"VehicleChange\",\n",
    "                \"BillingChange\",\"VehicleDataChange\",\"Transactionoutofscope\"]"
   ]
  },
  {
   "cell_type": "markdown",
   "metadata": {},
   "source": [
    "## Create the email files and list files\n",
    "\n",
    "<font color=red>You do NOT need to run this cell if the files were already generated from  \n",
    "\\DocAI\\data\\sample-auto-insurance-emails\\cleaned-emails-with-classes.json.</font>\n"
   ]
  },
  {
   "cell_type": "markdown",
   "metadata": {},
   "source": [
    "#### Generate files for training"
   ]
  },
  {
   "cell_type": "code",
   "execution_count": 4,
   "metadata": {},
   "outputs": [],
   "source": [
    "import os\n",
    "import json\n",
    "from fpdf import FPDF\n",
    "import docutil\n",
    "\n",
    "docutil.generateEnglishPDFDocsFromJson(\n",
    "                                        json_file=MY_INPUT_DATA_FILE,\n",
    "                                        output_folder=MY_TRAINING_DATA_EMAIL_DOCS_FOLDER,\n",
    "                                        translator_client=translatorClient\n",
    "                                      )\n",
    "\n",
    "docutil.generateCategoryFileList(\n",
    "                                    json_file=MY_INPUT_DATA_FILE,\n",
    "                                    output_folder=MY_TRAINING_DATA_BASE_FOLDER,\n",
    "                                    docs_subfolder=MY_TRAINING_DOCS_SUBFOLDER,\n",
    "                                    categories=categories\n",
    "                                )\n"
   ]
  },
  {
   "cell_type": "markdown",
   "metadata": {},
   "source": [
    "#### Generate files for testing the classifier"
   ]
  },
  {
   "cell_type": "code",
   "execution_count": 5,
   "metadata": {},
   "outputs": [],
   "source": [
    "import docutil\n",
    "docutil.generateEnglishPDFDocsFromJson(MY_TEST_DATA_FILE, MY_TEST_DOCUMENT_FOLDER, translatorClient)"
   ]
  },
  {
   "cell_type": "markdown",
   "metadata": {
    "tags": [
     "LoadTrainingDataToBlobStore"
    ]
   },
   "source": [
    "#### Load the sample-auto-insurance-emails folder to your blob store\n",
    "This blob store will be read by Azure Document Intelligence Service to read the emails and the classes to train the classifier  \n",
    "<b>TODO:</b> Automatically upload the files to the blob store.  \n",
    "\n",
    "For now manually upload the <b>sample-auto-insurance-emails</b> folder at the root of your container in your Blob Store"
   ]
  },
  {
   "cell_type": "markdown",
   "metadata": {},
   "source": [
    "## Form Recognizer Model for Classification\n",
    "- Generate layout for the training files (aka generate the .ocr.json files) using the Studio (can be done using python code soon)\n",
    "- Train with classifier\n",
    "- Classify using the trained model"
   ]
  },
  {
   "cell_type": "markdown",
   "metadata": {},
   "source": [
    "#### Run layout to create .ocr.json files"
   ]
  },
  {
   "cell_type": "markdown",
   "metadata": {},
   "source": [
    "#### Train classifier"
   ]
  },
  {
   "cell_type": "code",
   "execution_count": 5,
   "metadata": {},
   "outputs": [
    {
     "name": "stdout",
     "output_type": "stream",
     "text": [
      "{'PolicyCancellation': ClassifierDocumentTypeDetails(source_kind=azureBlobFileList, source=BlobFileListSource(container_url=https://trxdocaixblob.blob.core.windows.net/docai, file_list=sample-auto-insurance-emails/training/PolicyCancellation.jsonl)), 'IncisoCancellation': ClassifierDocumentTypeDetails(source_kind=azureBlobFileList, source=BlobFileListSource(container_url=https://trxdocaixblob.blob.core.windows.net/docai, file_list=sample-auto-insurance-emails/training/IncisoCancellation.jsonl)), 'PersonChange': ClassifierDocumentTypeDetails(source_kind=azureBlobFileList, source=BlobFileListSource(container_url=https://trxdocaixblob.blob.core.windows.net/docai, file_list=sample-auto-insurance-emails/training/PersonChange.jsonl)), 'VINNumberChange': ClassifierDocumentTypeDetails(source_kind=azureBlobFileList, source=BlobFileListSource(container_url=https://trxdocaixblob.blob.core.windows.net/docai, file_list=sample-auto-insurance-emails/training/VINNumberChange.jsonl)), 'CoverageChange': ClassifierDocumentTypeDetails(source_kind=azureBlobFileList, source=BlobFileListSource(container_url=https://trxdocaixblob.blob.core.windows.net/docai, file_list=sample-auto-insurance-emails/training/CoverageChange.jsonl)), 'SubsequenteRegister': ClassifierDocumentTypeDetails(source_kind=azureBlobFileList, source=BlobFileListSource(container_url=https://trxdocaixblob.blob.core.windows.net/docai, file_list=sample-auto-insurance-emails/training/SubsequenteRegister.jsonl)), 'PaymentMethodChange': ClassifierDocumentTypeDetails(source_kind=azureBlobFileList, source=BlobFileListSource(container_url=https://trxdocaixblob.blob.core.windows.net/docai, file_list=sample-auto-insurance-emails/training/PaymentMethodChange.jsonl)), 'UseChange': ClassifierDocumentTypeDetails(source_kind=azureBlobFileList, source=BlobFileListSource(container_url=https://trxdocaixblob.blob.core.windows.net/docai, file_list=sample-auto-insurance-emails/training/UseChange.jsonl)), 'DiscountChange': ClassifierDocumentTypeDetails(source_kind=azureBlobFileList, source=BlobFileListSource(container_url=https://trxdocaixblob.blob.core.windows.net/docai, file_list=sample-auto-insurance-emails/training/DiscountChange.jsonl)), 'VehicleChange': ClassifierDocumentTypeDetails(source_kind=azureBlobFileList, source=BlobFileListSource(container_url=https://trxdocaixblob.blob.core.windows.net/docai, file_list=sample-auto-insurance-emails/training/VehicleChange.jsonl)), 'BillingChange': ClassifierDocumentTypeDetails(source_kind=azureBlobFileList, source=BlobFileListSource(container_url=https://trxdocaixblob.blob.core.windows.net/docai, file_list=sample-auto-insurance-emails/training/BillingChange.jsonl)), 'VehicleDataChange': ClassifierDocumentTypeDetails(source_kind=azureBlobFileList, source=BlobFileListSource(container_url=https://trxdocaixblob.blob.core.windows.net/docai, file_list=sample-auto-insurance-emails/training/VehicleDataChange.jsonl))}\n",
      "Classifier ID: ca4a9518-0a8b-4588-8f8f-8705b1426b58\n",
      "API version used to build the classifier model: 2023-07-31\n",
      "Classifier description: Auto Insurance Email Classifier\n",
      "Document Classifier expires on: 2025-10-25 13:22:56+00:00\n",
      "Document classes used for training the model:\n",
      "Document type: PolicyCancellation\n",
      "Container source: https://trxdocaixblob.blob.core.windows.net/docai\n",
      "\n",
      "Document type: IncisoCancellation\n",
      "Container source: https://trxdocaixblob.blob.core.windows.net/docai\n",
      "\n",
      "Document type: PersonChange\n",
      "Container source: https://trxdocaixblob.blob.core.windows.net/docai\n",
      "\n",
      "Document type: VINNumberChange\n",
      "Container source: https://trxdocaixblob.blob.core.windows.net/docai\n",
      "\n",
      "Document type: CoverageChange\n",
      "Container source: https://trxdocaixblob.blob.core.windows.net/docai\n",
      "\n",
      "Document type: SubsequenteRegister\n",
      "Container source: https://trxdocaixblob.blob.core.windows.net/docai\n",
      "\n",
      "Document type: PaymentMethodChange\n",
      "Container source: https://trxdocaixblob.blob.core.windows.net/docai\n",
      "\n",
      "Document type: UseChange\n",
      "Container source: https://trxdocaixblob.blob.core.windows.net/docai\n",
      "\n",
      "Document type: DiscountChange\n",
      "Container source: https://trxdocaixblob.blob.core.windows.net/docai\n",
      "\n",
      "Document type: VehicleChange\n",
      "Container source: https://trxdocaixblob.blob.core.windows.net/docai\n",
      "\n",
      "Document type: BillingChange\n",
      "Container source: https://trxdocaixblob.blob.core.windows.net/docai\n",
      "\n",
      "Document type: VehicleDataChange\n",
      "Container source: https://trxdocaixblob.blob.core.windows.net/docai\n",
      "\n"
     ]
    }
   ],
   "source": [
    "#TODO: populate category based on above code that created the actual category files....\n",
    "categories = [\"PolicyCancellation\",\"IncisoCancellation\",\"PersonChange\",\n",
    "                \"VINNumberChange\",\"CoverageChange\",\"SubsequenteRegister\",\n",
    "                \"PaymentMethodChange\",\"UseChange\",\"DiscountChange\",\"VehicleChange\",\n",
    "                \"BillingChange\",\"VehicleDataChange\"]\n",
    "\n",
    "# Create the categoryFileMap, needed by Form Recognizer for training\n",
    "categoryFileMap = {}\n",
    "for category in categories:\n",
    "    categoryFile = f'{MY_BLOB_STORE_PATH}/{category}.jsonl'\n",
    "    categoryFileMap[category] = categoryFile\n",
    "result = fr.trainClassifier(\n",
    "                            admin_client=formRecognizerAdminClient,\n",
    "                            blob_url=MY_BLOB_STORE_URL,\n",
    "                            class_file_list=categoryFileMap\n",
    "                           )\n",
    "MY_CLASSIFIER_ID = result.classifier_id\n",
    "print(f\"Classifier ID: {MY_CLASSIFIER_ID}\")\n",
    "print(f\"API version used to build the classifier model: {result.api_version}\")\n",
    "print(f\"Classifier description: {result.description}\")\n",
    "print(f\"Document Classifier expires on: {result.expires_on}\")\n",
    "print(f\"Document classes used for training the model:\")\n",
    "for doc_type, details in result.doc_types.items():\n",
    "    print(f\"Document type: {doc_type}\")\n",
    "    print(f\"Container source: {details.source.container_url}\\n\")"
   ]
  },
  {
   "cell_type": "code",
   "execution_count": 6,
   "metadata": {},
   "outputs": [
    {
     "name": "stdout",
     "output_type": "stream",
     "text": [
      "Result: DocumentClassifierDetails(classifier_id=ca4a9518-0a8b-4588-8f8f-8705b1426b58, description=Auto Insurance Email Classifier, created_on=2023-10-26 13:22:56+00:00, expires_on=2025-10-25 13:22:56+00:00, api_version=2023-07-31, doc_types={'PolicyCancellation': ClassifierDocumentTypeDetails(source_kind=azureBlobFileList, source=BlobFileListSource(container_url=https://trxdocaixblob.blob.core.windows.net/docai, file_list=sample-auto-insurance-emails/training/PolicyCancellation.jsonl)), 'IncisoCancellation': ClassifierDocumentTypeDetails(source_kind=azureBlobFileList, source=BlobFileListSource(container_url=https://trxdocaixblob.blob.core.windows.net/docai, file_list=sample-auto-insurance-emails/training/IncisoCancellation.jsonl)), 'PersonChange': ClassifierDocumentTypeDetails(source_kind=azureBlobFileList, source=BlobFileListSource(container_url=https://trxdocaixblob.blob.core.windows.net/docai, file_list=sample-auto-insurance-emails/training/PersonChange.jsonl)), 'VINNumberChange': ClassifierDocumentTypeDetails(source_kind=azureBlobFileList, source=BlobFileListSource(container_url=https://trxdocaixblob.blob.core.windows.net/docai, file_list=sample-auto-insurance-emails/training/VINNumberChange.jsonl)), 'CoverageChange': ClassifierDocumentTypeDetails(source_kind=azureBlobFileList, source=BlobFileListSource(container_url=https://trxdocaixblob.blob.core.windows.net/docai, file_list=sample-auto-insurance-emails/training/CoverageChange.jsonl)), 'SubsequenteRegister': ClassifierDocumentTypeDetails(source_kind=azureBlobFileList, source=BlobFileListSource(container_url=https://trxdocaixblob.blob.core.windows.net/docai, file_list=sample-auto-insurance-emails/training/SubsequenteRegister.jsonl)), 'PaymentMethodChange': ClassifierDocumentTypeDetails(source_kind=azureBlobFileList, source=BlobFileListSource(container_url=https://trxdocaixblob.blob.core.windows.net/docai, file_list=sample-auto-insurance-emails/training/PaymentMethodChange.jsonl)), 'UseChange': ClassifierDocumentTypeDetails(source_kind=azureBlobFileList, source=BlobFileListSource(container_url=https://trxdocaixblob.blob.core.windows.net/docai, file_list=sample-auto-insurance-emails/training/UseChange.jsonl)), 'DiscountChange': ClassifierDocumentTypeDetails(source_kind=azureBlobFileList, source=BlobFileListSource(container_url=https://trxdocaixblob.blob.core.windows.net/docai, file_list=sample-auto-insurance-emails/training/DiscountChange.jsonl)), 'VehicleChange': ClassifierDocumentTypeDetails(source_kind=azureBlobFileList, source=BlobFileListSource(container_url=https://trxdocaixblob.blob.core.windows.net/docai, file_list=sample-auto-insurance-emails/training/VehicleChange.jsonl)), 'BillingChange': ClassifierDocumentTypeDetails(source_kind=azureBlobFileList, source=BlobFileListSource(container_url=https://trxdocaixblob.blob.core.windows.net/docai, file_list=sample-auto-insurance-emails/training/BillingChange.jsonl)), 'VehicleDataChange': ClassifierDocumentTypeDetails(source_kind=azureBlobFileList, source=BlobFileListSource(container_url=https://trxdocaixblob.blob.core.windows.net/docai, file_list=sample-auto-insurance-emails/training/VehicleDataChange.jsonl))})\n"
     ]
    }
   ],
   "source": [
    "print(f\"Result: {result}\")"
   ]
  },
  {
   "cell_type": "markdown",
   "metadata": {},
   "source": [
    "#### Test classifier"
   ]
  },
  {
   "cell_type": "code",
   "execution_count": 13,
   "metadata": {},
   "outputs": [
    {
     "name": "stdout",
     "output_type": "stream",
     "text": [
      "Classify file: 6f6c1353-d3a7-4ccf-a3df-7ac45de7abbb.pdf\n",
      "\tFound document of type 'BillingChange' with a confidence of 0.07 contained on the following pages: [1]\n",
      "Classify file: 724b4f48-5e97-48c5-b05e-2ae99eb4da34.pdf\n",
      "\tFound document of type 'CoverageChange' with a confidence of 0.058 contained on the following pages: [1]\n",
      "Classify file: 7d8b0441-5018-40a9-852d-48f32d1acc79.pdf\n",
      "\tFound document of type 'DiscountChange' with a confidence of 0.054 contained on the following pages: [1]\n",
      "Classify file: ab8f5654-61b2-4eea-83a7-dccacdf52022.pdf\n",
      "\tFound document of type 'PolicyCancellation' with a confidence of 0.056 contained on the following pages: [1]\n",
      "Classify file: e7014199-7b44-49b4-9c66-49a17d2d2c81.pdf\n",
      "\tFound document of type 'BillingChange' with a confidence of 0.075 contained on the following pages: [1]\n"
     ]
    }
   ],
   "source": [
    "import os\n",
    "# Get list of test pdf files\n",
    "# MY_CLASSIFIER_ID = 'ca4a9518-0a8b-4588-8f8f-8705b1426b58'\n",
    "\n",
    "for file in os.listdir(MY_TEST_DOCUMENT_FOLDER):\n",
    "    if os.path.isfile(os.path.join(MY_TEST_DOCUMENT_FOLDER, file)):\n",
    "        print(f'Classify file: {file}')\n",
    "        result = fr.classifyDocument(\n",
    "                        client=formRecognizerClient,\n",
    "                        classifier_id=MY_CLASSIFIER_ID,\n",
    "                        file_path=f'{MY_TEST_DOCUMENT_FOLDER}\\\\{file}'\n",
    "                )\n",
    "        for doc in result.documents:\n",
    "            print(\n",
    "                f\"\\tFound document of type '{doc.doc_type or 'N/A'}' with a confidence of {doc.confidence} contained on \"\n",
    "                f\"the following pages: {[region.page_number for region in doc.bounding_regions]}\"\n",
    "            )\n"
   ]
  },
  {
   "cell_type": "markdown",
   "metadata": {},
   "source": [
    "## Delete the Classifier for cleanup"
   ]
  },
  {
   "cell_type": "code",
   "execution_count": null,
   "metadata": {},
   "outputs": [],
   "source": [
    "fr.deleteClassifier(admin_client=formRecognizerAdminClient, classifier_id=MY_CLASSIFIER_ID)"
   ]
  }
 ],
 "metadata": {
  "kernelspec": {
   "display_name": "Python 3 (ipykernel)",
   "language": "python",
   "name": "python3"
  },
  "language_info": {
   "codemirror_mode": {
    "name": "ipython",
    "version": 3
   },
   "file_extension": ".py",
   "mimetype": "text/x-python",
   "name": "python",
   "nbconvert_exporter": "python",
   "pygments_lexer": "ipython3",
   "version": "3.11.9"
  }
 },
 "nbformat": 4,
 "nbformat_minor": 2
}
