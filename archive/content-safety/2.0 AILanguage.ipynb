{
 "cells": [
  {
   "cell_type": "markdown",
   "metadata": {},
   "source": [
    "# Introduction to Azure Language API for Security (PII, classification etc.)\n",
    "\n",
    "\n",
    "https://learn.microsoft.com/en-us/azure/ai-services/language-service/personally-identifiable-information/overview\n",
    "\n",
    "#### Follow [README](https://github.com/tirtho/open-ai/blob/main/README.md) and perform setup before running the notebooks\n",
    "\n",
    "#### Load the API key and relevant Python libaries."
   ]
  },
  {
   "cell_type": "code",
   "execution_count": null,
   "metadata": {
    "scrolled": true
   },
   "outputs": [],
   "source": [
    "# Run the first time\n",
    "# pip install azure-ai-textanalytics==5.2.0\n",
    "# pip install azure-ai-language-conversations --pre"
   ]
  },
  {
   "cell_type": "code",
   "execution_count": 30,
   "metadata": {},
   "outputs": [],
   "source": [
    "import os\n",
    "from azure.core.credentials import AzureKeyCredential\n",
    "from azure.ai.textanalytics import TextAnalyticsClient\n",
    "from azure.ai.textanalytics import PiiEntityDomain\n",
    "from azure.ai.textanalytics import PiiEntityCategory\n",
    "\n",
    "ai_key = os.environ.get('AZURE_AI_KEY')\n",
    "ai_endpoint = os.environ.get('AZURE_AI_ENDPOINT')\n",
    "\n",
    "aiServiceCredential = AzureKeyCredential(ai_key)\n",
    "textAnalyticsClient = TextAnalyticsClient(\n",
    "                            endpoint=ai_endpoint,\n",
    "                            credential=aiServiceCredential\n",
    "                        )"
   ]
  },
  {
   "cell_type": "markdown",
   "metadata": {},
   "source": [
    "## Call PII\n",
    "https://learn.microsoft.com/en-us/azure/ai-services/language-service/personally-identifiable-information/how-to-call"
   ]
  },
  {
   "cell_type": "code",
   "execution_count": 31,
   "metadata": {},
   "outputs": [],
   "source": [
    "# Create a function to detect & display PII\n",
    "categories = [\n",
    "    \"USIndividualTaxpayerIdentification\",\n",
    "    \"USSocialSecurityNumber\"\n",
    "]\n",
    "\n",
    "def getPII (textArray):\n",
    "    response = textAnalyticsClient.recognize_pii_entities(\n",
    "                documents=textArray,\n",
    "                #categories_filter=categories,\n",
    "                language=\"en\"\n",
    "            )\n",
    "    result = [doc for doc in response if not doc.is_error]\n",
    "    for doc in result:\n",
    "        print(\"Entity Redacted Text: {}\".format(doc.redacted_text))\n",
    "        for entity in doc.entities:\n",
    "            print(\"Entity: {}\".format(entity))\n",
    "            print(\"Entity Text: {}\".format(entity.text))\n",
    "            print(\"\\tCategory: {}\".format(entity.category))\n",
    "            print(\"\\tConfidence Score: {}\".format(entity.confidence_score))\n",
    "            print(\"\\tOffset: {}\".format(entity.offset))\n",
    "            print(\"\\tLength: {}\".format(entity.length))"
   ]
  },
  {
   "cell_type": "code",
   "execution_count": 32,
   "metadata": {},
   "outputs": [
    {
     "name": "stdout",
     "output_type": "stream",
     "text": [
      "Entity Redacted Text: SSN# ***********\n",
      "Entity: {'text': '123-45-1234', 'category': 'USSocialSecurityNumber', 'subcategory': None, 'length': 11, 'offset': 5, 'confidence_score': 0.85}\n",
      "Entity Text: 123-45-1234\n",
      "\tCategory: USSocialSecurityNumber\n",
      "\tConfidence Score: 0.85\n",
      "\tOffset: 5\n",
      "\tLength: 11\n",
      "Entity Redacted Text: ***********\n",
      "Entity: {'text': '123-45-1234', 'category': 'USSocialSecurityNumber', 'subcategory': None, 'length': 11, 'offset': 0, 'confidence_score': 0.65}\n",
      "Entity Text: 123-45-1234\n",
      "\tCategory: USSocialSecurityNumber\n",
      "\tConfidence Score: 0.65\n",
      "\tOffset: 0\n",
      "\tLength: 11\n",
      "Entity Redacted Text: *********\n",
      "Entity: {'text': '123451234', 'category': 'PhoneNumber', 'subcategory': None, 'length': 9, 'offset': 0, 'confidence_score': 0.8}\n",
      "Entity Text: 123451234\n",
      "\tCategory: PhoneNumber\n",
      "\tConfidence Score: 0.8\n",
      "\tOffset: 0\n",
      "\tLength: 9\n"
     ]
    }
   ],
   "source": [
    "# Examples to detect SSN\n",
    "# Find SSNs for test from this website below:\n",
    "# https://en.wikipedia.org/wiki/Social_Security_number\n",
    "# Valid SSNs are 123-45-1234, 010-01-0001\n",
    "# SSNs for advertisement (is invalid) is 078-05-1120\n",
    "# Adding these to the list for test.\n",
    "# For each SSN, adding with and without context and without the format\n",
    "validSSNsForPIIDetection = [\n",
    "\"SSN# 123-45-1234\",\n",
    "\"123-45-1234\",\n",
    "\"123451234\"\n",
    "]\n",
    "\n",
    "getPII(validSSNsForPIIDetection)"
   ]
  },
  {
   "cell_type": "code",
   "execution_count": 35,
   "metadata": {},
   "outputs": [
    {
     "name": "stdout",
     "output_type": "stream",
     "text": [
      "Entity Redacted Text: SSN# ***********\n",
      "Entity: {'text': '010-01-0001', 'category': 'USSocialSecurityNumber', 'subcategory': None, 'length': 11, 'offset': 5, 'confidence_score': 0.85}\n",
      "Entity Text: 010-01-0001\n",
      "\tCategory: USSocialSecurityNumber\n",
      "\tConfidence Score: 0.85\n",
      "\tOffset: 5\n",
      "\tLength: 11\n",
      "Entity Redacted Text: ***********\n",
      "Entity: {'text': '010-01-0001', 'category': 'USSocialSecurityNumber', 'subcategory': None, 'length': 11, 'offset': 0, 'confidence_score': 0.65}\n",
      "Entity Text: 010-01-0001\n",
      "\tCategory: USSocialSecurityNumber\n",
      "\tConfidence Score: 0.65\n",
      "\tOffset: 0\n",
      "\tLength: 11\n",
      "Entity Redacted Text: *********\n",
      "Entity: {'text': '010010001', 'category': 'PhoneNumber', 'subcategory': None, 'length': 9, 'offset': 0, 'confidence_score': 0.8}\n",
      "Entity Text: 010010001\n",
      "\tCategory: PhoneNumber\n",
      "\tConfidence Score: 0.8\n",
      "\tOffset: 0\n",
      "\tLength: 9\n"
     ]
    }
   ],
   "source": [
    "validSSNsForPIIDetection = [\n",
    "\"SSN# 010-01-0001\",\n",
    "\"010-01-0001\",\n",
    "\"010010001\"\n",
    "]\n",
    "getPII(validSSNsForPIIDetection)"
   ]
  },
  {
   "cell_type": "code",
   "execution_count": 37,
   "metadata": {},
   "outputs": [
    {
     "name": "stdout",
     "output_type": "stream",
     "text": [
      "Entity Redacted Text: SSN# 078-05-1120\n",
      "Entity Redacted Text: 078-05-1120\n",
      "Entity Redacted Text: *********\n",
      "Entity: {'text': '078051120', 'category': 'PhoneNumber', 'subcategory': None, 'length': 9, 'offset': 0, 'confidence_score': 0.8}\n",
      "Entity Text: 078051120\n",
      "\tCategory: PhoneNumber\n",
      "\tConfidence Score: 0.8\n",
      "\tOffset: 0\n",
      "\tLength: 9\n"
     ]
    }
   ],
   "source": [
    "# Invalid SSN. This is the famous one used for an ad in 1938\n",
    "invalidSSNsForPIIDetection = [\n",
    "\"SSN# 078-05-1120\",\n",
    "\"078-05-1120\",\n",
    "\"078051120\"\n",
    "]\n",
    "getPII(invalidSSNsForPIIDetection)"
   ]
  },
  {
   "cell_type": "code",
   "execution_count": 39,
   "metadata": {},
   "outputs": [
    {
     "name": "stdout",
     "output_type": "stream",
     "text": [
      "Entity Redacted Text: SSN# 123-45-6789\n",
      "Entity Redacted Text: 123-45-6789\n",
      "Entity Redacted Text: *********\n",
      "Entity: {'text': '123456789', 'category': 'PhoneNumber', 'subcategory': None, 'length': 9, 'offset': 0, 'confidence_score': 0.8}\n",
      "Entity Text: 123456789\n",
      "\tCategory: PhoneNumber\n",
      "\tConfidence Score: 0.8\n",
      "\tOffset: 0\n",
      "\tLength: 9\n"
     ]
    }
   ],
   "source": [
    "# Invalid SSN. This is a monotonicaly increasing integer series.\n",
    "invalidSSNsForPIIDetection = [\n",
    "\"SSN# 123-45-6789\",\n",
    "\"123-45-6789\",\n",
    "\"123456789\"\n",
    "]\n",
    "getPII(invalidSSNsForPIIDetection)"
   ]
  },
  {
   "cell_type": "code",
   "execution_count": 26,
   "metadata": {},
   "outputs": [],
   "source": [
    "textAnalyticsClient.close()"
   ]
  },
  {
   "cell_type": "code",
   "execution_count": 41,
   "metadata": {},
   "outputs": [
    {
     "name": "stdout",
     "output_type": "stream",
     "text": [
      "Collecting azure-ai-language-conversationsNote: you may need to restart the kernel to use updated packages.\n"
     ]
    },
    {
     "name": "stderr",
     "output_type": "stream",
     "text": [
      "\n",
      "[notice] A new release of pip is available: 24.0 -> 24.2\n",
      "[notice] To update, run: C:\\Users\\tibarar\\AppData\\Local\\Programs\\Python\\Python311\\python.exe -m pip install --upgrade pip\n"
     ]
    },
    {
     "name": "stdout",
     "output_type": "stream",
     "text": [
      "\n",
      "  Downloading azure_ai_language_conversations-1.1.0-py3-none-any.whl.metadata (27 kB)\n",
      "Requirement already satisfied: azure-core<2.0.0,>=1.24.0 in c:\\users\\tibarar\\appdata\\local\\programs\\python\\python311\\lib\\site-packages (from azure-ai-language-conversations) (1.30.1)\n",
      "Requirement already satisfied: isodate<1.0.0,>=0.6.1 in c:\\users\\tibarar\\appdata\\local\\programs\\python\\python311\\lib\\site-packages (from azure-ai-language-conversations) (0.6.1)\n",
      "Requirement already satisfied: typing-extensions>=4.0.1 in c:\\users\\tibarar\\appdata\\local\\programs\\python\\python311\\lib\\site-packages (from azure-ai-language-conversations) (4.6.3)\n",
      "Requirement already satisfied: requests>=2.21.0 in c:\\users\\tibarar\\appdata\\local\\programs\\python\\python311\\lib\\site-packages (from azure-core<2.0.0,>=1.24.0->azure-ai-language-conversations) (2.28.2)\n",
      "Requirement already satisfied: six>=1.11.0 in c:\\users\\tibarar\\appdata\\local\\programs\\python\\python311\\lib\\site-packages (from azure-core<2.0.0,>=1.24.0->azure-ai-language-conversations) (1.16.0)\n",
      "Requirement already satisfied: charset-normalizer<4,>=2 in c:\\users\\tibarar\\appdata\\local\\programs\\python\\python311\\lib\\site-packages (from requests>=2.21.0->azure-core<2.0.0,>=1.24.0->azure-ai-language-conversations) (3.1.0)\n",
      "Requirement already satisfied: idna<4,>=2.5 in c:\\users\\tibarar\\appdata\\local\\programs\\python\\python311\\lib\\site-packages (from requests>=2.21.0->azure-core<2.0.0,>=1.24.0->azure-ai-language-conversations) (3.4)\n",
      "Requirement already satisfied: urllib3<1.27,>=1.21.1 in c:\\users\\tibarar\\appdata\\local\\programs\\python\\python311\\lib\\site-packages (from requests>=2.21.0->azure-core<2.0.0,>=1.24.0->azure-ai-language-conversations) (1.26.15)\n",
      "Requirement already satisfied: certifi>=2017.4.17 in c:\\users\\tibarar\\appdata\\local\\programs\\python\\python311\\lib\\site-packages (from requests>=2.21.0->azure-core<2.0.0,>=1.24.0->azure-ai-language-conversations) (2022.12.7)\n",
      "Downloading azure_ai_language_conversations-1.1.0-py3-none-any.whl (121 kB)\n",
      "   ---------------------------------------- 0.0/122.0 kB ? eta -:--:--\n",
      "   ------ -------------------------------- 20.5/122.0 kB 640.0 kB/s eta 0:00:01\n",
      "   ------------- ------------------------- 41.0/122.0 kB 653.6 kB/s eta 0:00:01\n",
      "   ---------------------------------------- 122.0/122.0 kB 1.0 MB/s eta 0:00:00\n",
      "Installing collected packages: azure-ai-language-conversations\n",
      "Successfully installed azure-ai-language-conversations-1.1.0\n"
     ]
    }
   ],
   "source": [
    "pip install azure-ai-language-conversations"
   ]
  },
  {
   "cell_type": "markdown",
   "metadata": {},
   "source": [
    "## Call PII for Conversations\n",
    "https://learn.microsoft.com/en-us/azure/ai-services/language-service/personally-identifiable-information/how-to-call-for-conversations?tabs=client-libraries"
   ]
  },
  {
   "cell_type": "code",
   "execution_count": null,
   "metadata": {},
   "outputs": [],
   "source": []
  }
 ],
 "metadata": {
  "kernelspec": {
   "display_name": "Python 3 (ipykernel)",
   "language": "python",
   "name": "python3"
  },
  "language_info": {
   "codemirror_mode": {
    "name": "ipython",
    "version": 3
   },
   "file_extension": ".py",
   "mimetype": "text/x-python",
   "name": "python",
   "nbconvert_exporter": "python",
   "pygments_lexer": "ipython3",
   "version": "3.11.9"
  }
 },
 "nbformat": 4,
 "nbformat_minor": 2
}
