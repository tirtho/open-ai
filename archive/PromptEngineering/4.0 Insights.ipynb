{
 "cells": [
  {
   "cell_type": "markdown",
   "id": "3630c235-f891-4874-bd0a-5277d4d6aa82",
   "metadata": {},
   "source": [
    "# Inferring\n",
    "\n",
    "## Setup\n",
    "#### Follow [README](https://github.com/tirtho/open-ai/blob/main/README.md) and perform setup before running the notebooks\n",
    "\n",
    "Reference : \n",
    "- [Azure Open AI](https://learn.microsoft.com/en-us/azure/cognitive-services/openai/overview)\n",
    "\n",
    "#### Load the API key and relevant Python libaries."
   ]
  },
  {
   "cell_type": "code",
   "execution_count": 1,
   "id": "39689e67",
   "metadata": {
    "height": 132
   },
   "outputs": [
    {
     "name": "stdout",
     "output_type": "stream",
     "text": [
      "\n",
      "Got OPENAI API Key from environment variable\n",
      "Connecting to Open AI returned status as True\n"
     ]
    }
   ],
   "source": [
    "import openai\n",
    "import sys\n",
    "\n",
    "from azure_openai_setup import get_openai_client, get_config_from_os_env, get_chat_completion\n",
    "\n",
    "THE_MODEL = 'gpt-4o'\n",
    "endpoint, key, version = get_config_from_os_env()\n",
    "#print(f\"{endpoint}, {key}, {version}\")\n",
    "status, client = get_openai_client(aoai_endpoint = endpoint, \n",
    "                                   aoai_api_key = key, \n",
    "                                   aoai_version = version\n",
    "                                  )\n",
    "print(f\"Connecting to Open AI returned status as {status}\")"
   ]
  },
  {
   "cell_type": "markdown",
   "id": "51d2fdfa-c99f-4750-8574-dba7712cd7f0",
   "metadata": {},
   "source": [
    "## Product review text"
   ]
  },
  {
   "cell_type": "code",
   "execution_count": 2,
   "id": "b0f3b49b",
   "metadata": {
    "height": 200
   },
   "outputs": [],
   "source": [
    "customer_review = \"\"\"\n",
    "The red mountain bike I recently purchased is an excellent \\\n",
    "choice for anyone who wants a reliable, high-quality bike \\\n",
    "for off-road adventures. The bike is built with sturdy materials \\\n",
    "and the red color gives it a bold and stylish look. \\\n",
    "The bike also has many great features that make it a joy to ride. \\\n",
    "One of my favorite things about this bike is how customizable it is. \\\n",
    "The seat can be easily adjusted to fit different heights, and the \\\n",
    "handlebars can be adjusted for a comfortable riding position. \\\n",
    "The bike also has multiple gears, allowing you to adjust the resistance \\\n",
    "and speed as needed. \\\n",
    "I bought it for $783 from Bike Masters Inc. in 2017. \\\n",
    "\"\"\""
   ]
  },
  {
   "cell_type": "markdown",
   "id": "30d6e4bd-3337-45a3-8c99-a734cdd06743",
   "metadata": {},
   "source": [
    "## Sentiment (positive/negative)"
   ]
  },
  {
   "cell_type": "code",
   "execution_count": 4,
   "id": "e3157601",
   "metadata": {
    "height": 149
   },
   "outputs": [
    {
     "name": "stdout",
     "output_type": "stream",
     "text": [
      "Completion: Positive\n",
      "Tokens used: 174\n",
      "Finish Reason: stop\n"
     ]
    }
   ],
   "source": [
    "prompt = f\"\"\"\n",
    "What is the sentiment of the following product review, \n",
    "which is delimited with triple backticks?\n",
    "\n",
    "Answer in one word (positive or negative)\n",
    "\n",
    "Review text: ```{customer_review}```\n",
    "\"\"\"\n",
    "my_prompt = [\n",
    "              {\n",
    "                \"role\": \"user\", \n",
    "                \"content\": f\"{prompt}\"\n",
    "                }\n",
    "              ]      \n",
    "tokens_used, finish_reason, completion = get_chat_completion(\n",
    "                                                the_client=client, \n",
    "                                                the_model=THE_MODEL,\n",
    "                                                the_messages=my_prompt)\n",
    "print(f\"Completion: {completion}\\nTokens used: {tokens_used}\\nFinish Reason: {finish_reason}\")"
   ]
  },
  {
   "cell_type": "markdown",
   "id": "eb620224",
   "metadata": {},
   "source": [
    "## Sentiment (positive/negative) with explanation"
   ]
  },
  {
   "cell_type": "code",
   "execution_count": 3,
   "id": "f0011328",
   "metadata": {},
   "outputs": [
    {
     "name": "stdout",
     "output_type": "stream",
     "text": [
      "Completion: The sentiment of the product review is positive. \n",
      "\n",
      "Here's the explanation for this assessment:\n",
      "\n",
      "1. **Positive Descriptions**: The reviewer uses positive adjectives such as \"excellent choice,\" \"reliable,\" \"high-quality,\" \"sturdy,\" \"bold,\" and \"stylish\" to describe the bike. These words indicate satisfaction and approval.\n",
      "\n",
      "2. **Enjoyable Features**: The reviewer mentions that the bike has \"many great features\" and describes it as \"a joy to ride,\" which further emphasizes their positive experience.\n",
      "\n",
      "3. **Customization**: The reviewer appreciates the bike's customizability, noting that the seat and handlebars can be adjusted for comfort. This flexibility is highlighted as one of their favorite aspects, indicating a positive sentiment.\n",
      "\n",
      "4. **Functionality**: The mention of \"multiple gears\" that allow for adjusting resistance and speed is presented as a beneficial feature, adding to the positive tone.\n",
      "\n",
      "Overall, the review is filled with expressions of satisfaction and approval, indicating a positive sentiment towards the product.\n",
      "Tokens used: 373\n",
      "Finish Reason: stop\n"
     ]
    }
   ],
   "source": [
    "prompt = f\"\"\"\n",
    "What is the sentiment of the following product review, \n",
    "which is delimited with triple backticks?\n",
    "\n",
    "Please Explain your answer.\n",
    "\n",
    "Review text: ```{customer_review}```\n",
    "\"\"\"\n",
    "\n",
    "my_prompt = [\n",
    "              {\n",
    "                \"role\": \"user\", \n",
    "                \"content\": f\"{prompt}\"\n",
    "                }\n",
    "              ]      \n",
    "tokens_used, finish_reason, completion = get_chat_completion(\n",
    "                                                the_client=client, \n",
    "                                                the_model=THE_MODEL,\n",
    "                                                the_messages=my_prompt)\n",
    "print(f\"Completion: {completion}\\nTokens used: {tokens_used}\\nFinish Reason: {finish_reason}\")"
   ]
  },
  {
   "cell_type": "markdown",
   "id": "81d2a973-1fa4-4a35-ae35-a2e746c0e91b",
   "metadata": {},
   "source": [
    "## Ask if any particular emotion is displayed in the text"
   ]
  },
  {
   "cell_type": "code",
   "execution_count": 5,
   "id": "8aa7934b",
   "metadata": {
    "height": 183
   },
   "outputs": [
    {
     "name": "stdout",
     "output_type": "stream",
     "text": [
      "Completion: No\n",
      "Tokens used: 174\n",
      "Finish Reason: stop\n"
     ]
    }
   ],
   "source": [
    "prompt = f\"\"\"\n",
    "Is the customer angry in the following product review, \n",
    "which is delimited with triple backticks?.\n",
    "\n",
    "Answer in one word (yes or no)\n",
    "\n",
    "Review text: ```{customer_review}```\n",
    "\"\"\"\n",
    "my_prompt = [\n",
    "              {\n",
    "                \"role\": \"user\", \n",
    "                \"content\": f\"{prompt}\"\n",
    "                }\n",
    "              ]      \n",
    "tokens_used, finish_reason, completion = get_chat_completion(\n",
    "                                                the_client=client, \n",
    "                                                the_model=THE_MODEL,\n",
    "                                                the_messages=my_prompt)\n",
    "print(f\"Completion: {completion}\\nTokens used: {tokens_used}\\nFinish Reason: {finish_reason}\")"
   ]
  },
  {
   "cell_type": "markdown",
   "id": "944c0ed6",
   "metadata": {},
   "source": [
    "## Infer on the type of customer"
   ]
  },
  {
   "cell_type": "code",
   "execution_count": 6,
   "id": "68651601",
   "metadata": {},
   "outputs": [
    {
     "name": "stdout",
     "output_type": "stream",
     "text": [
      "Completion: Daring\n",
      "Tokens used: 205\n",
      "Finish Reason: stop\n"
     ]
    }
   ],
   "source": [
    "question = f\"\"\"\n",
    "What kind of customers will buy such bikes?\n",
    "\"\"\"\n",
    "\n",
    "prompt = f\"\"\"\n",
    "Based on the following product review, \n",
    "which is delimited with triple backticks, \\\n",
    "answer the question below?\n",
    "\n",
    "Question : ```{question}```\n",
    "\n",
    "Select your answer from either 'daring', 'stingy' or 'risk-averse' in one word\n",
    "\n",
    "Review text: ```{customer_review}```\n",
    "\"\"\"\n",
    "\n",
    "my_prompt = [\n",
    "              {\n",
    "                \"role\": \"user\", \n",
    "                \"content\": f\"{prompt}\"\n",
    "                }\n",
    "              ]      \n",
    "tokens_used, finish_reason, completion = get_chat_completion(\n",
    "                                                the_client=client, \n",
    "                                                the_model=THE_MODEL,\n",
    "                                                the_messages=my_prompt)\n",
    "print(f\"Completion: {completion}\\nTokens used: {tokens_used}\\nFinish Reason: {finish_reason}\")"
   ]
  },
  {
   "cell_type": "markdown",
   "id": "45531e49",
   "metadata": {},
   "source": [
    "## Get Insights in JSON format"
   ]
  },
  {
   "cell_type": "code",
   "execution_count": 7,
   "id": "49053476",
   "metadata": {},
   "outputs": [
    {
     "name": "stdout",
     "output_type": "stream",
     "text": [
      "Completion: ```json\n",
      "{\n",
      "  \"Item\": \"mountain bike\",\n",
      "  \"Company Name\": \"Bike Masters Inc.\",\n",
      "  \"Company Address\": \"unknown\",\n",
      "  \"Price\": \"$783\",\n",
      "  \"Year Purchased\": \"2017\",\n",
      "  \"Color\": \"red\",\n",
      "  \"Favorite Feature\": \"customizable\",\n",
      "  \"Sentiment\": \"positive\"\n",
      "}\n",
      "```\n",
      "Tokens used: 337\n",
      "Finish Reason: stop\n"
     ]
    }
   ],
   "source": [
    "prompt = f\"\"\"\n",
    "Identify the following items from the product review: \n",
    "- Item purchased\n",
    "- Company Name\n",
    "- Company Address\n",
    "- Price\n",
    "- Year purchased\n",
    "- Color\n",
    "- Favorite Thing\n",
    "- Sentiment (positive or Negative)\n",
    "\n",
    "\n",
    "The product review is delimited with triple backticks. \\\n",
    "Format your response as a JSON object with \\\n",
    "\"Item\", \"Company Name\", \"Company Address\", Price\", \"Year Purchased\", \\\n",
    "\"Color\", \"Favorite Feature\" and \"Sentiment\" as the keys. \n",
    "If the information isn't present, use \"unknown\" \\\n",
    "as the value.\n",
    "Make your response as short as possible.\n",
    "  \n",
    "Review text: ```{customer_review}```\n",
    "\"\"\"\n",
    "my_prompt = [\n",
    "              {\n",
    "                \"role\": \"user\", \n",
    "                \"content\": f\"{prompt}\"\n",
    "                }\n",
    "              ]      \n",
    "tokens_used, finish_reason, completion = get_chat_completion(\n",
    "                                                the_client=client, \n",
    "                                                the_model=THE_MODEL,\n",
    "                                                the_messages=my_prompt)\n",
    "print(f\"Completion: {completion}\\nTokens used: {tokens_used}\\nFinish Reason: {finish_reason}\")"
   ]
  },
  {
   "cell_type": "code",
   "execution_count": null,
   "id": "d7847bb6",
   "metadata": {},
   "outputs": [],
   "source": []
  }
 ],
 "metadata": {
  "kernelspec": {
   "display_name": "Python 3 (ipykernel)",
   "language": "python",
   "name": "python3"
  },
  "language_info": {
   "codemirror_mode": {
    "name": "ipython",
    "version": 3
   },
   "file_extension": ".py",
   "mimetype": "text/x-python",
   "name": "python",
   "nbconvert_exporter": "python",
   "pygments_lexer": "ipython3",
   "version": "3.11.9"
  }
 },
 "nbformat": 4,
 "nbformat_minor": 5
}
