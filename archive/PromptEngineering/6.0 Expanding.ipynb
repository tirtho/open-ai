{
 "cells": [
  {
   "cell_type": "markdown",
   "id": "8de529e8-3891-4f47-8585-65b92b80bbf7",
   "metadata": {},
   "source": [
    "# Expanding\n",
    "\n",
    "Some of the use cases are:\n",
    "- Generate email\n",
    "- Generate marketing advertisement\n",
    "- Recommendation\n",
    "\n",
    "\n",
    "## Setup\n",
    "#### Follow [README](https://github.com/tirtho/open-ai/blob/main/README.md) and perform setup before running the notebooks\n",
    "\n",
    "Reference : \n",
    "- [Azure Open AI](https://learn.microsoft.com/en-us/azure/cognitive-services/openai/overview)\n",
    "\n",
    "#### Load the API key and relevant Python libaries."
   ]
  },
  {
   "cell_type": "code",
   "execution_count": 1,
   "id": "e23399a9",
   "metadata": {},
   "outputs": [
    {
     "name": "stdout",
     "output_type": "stream",
     "text": [
      "\n",
      "Got OPENAI API Key from environment variable\n",
      "Connecting to Open AI returned status as True\n"
     ]
    }
   ],
   "source": [
    "import openai\n",
    "import sys\n",
    "\n",
    "from azure_openai_setup import get_openai_client, get_config_from_os_env, get_chat_completion\n",
    "\n",
    "THE_MODEL = 'gpt-4o'\n",
    "endpoint, key, version = get_config_from_os_env()\n",
    "#print(f\"{endpoint}, {key}, {version}\")\n",
    "status, client = get_openai_client(aoai_endpoint = endpoint, \n",
    "                                   aoai_api_key = key, \n",
    "                                   aoai_version = version\n",
    "                                  )\n",
    "print(f\"Connecting to Open AI returned status as {status}\")"
   ]
  },
  {
   "cell_type": "markdown",
   "id": "f8ceea77-990a-4c64-bb49-3ba65eb155d2",
   "metadata": {},
   "source": [
    "## Generate automated reply to an email from Underwriting to Insurance Agent"
   ]
  },
  {
   "cell_type": "code",
   "execution_count": 2,
   "id": "9bdbebc7",
   "metadata": {},
   "outputs": [
    {
     "name": "stdout",
     "output_type": "stream",
     "text": [
      "Subject: Outcome of Underwriter's Review for Mary's Insurance Renewal\n",
      "\n",
      "Dear [Insurance Agent's Name],\n",
      "\n",
      "Thank you for submitting the insurance renewal application for Mary. We appreciate your efforts in bringing her to us as a valued customer.\n",
      "\n",
      "Upon review, the underwriter has decided to offer Mary full coverage with an increased deductible of $500. Alternatively, she can choose to renew her policy with limited glass coverage. This decision was made considering the higher risk associated with the past glass claims, while still ensuring that Mary receives the necessary coverage, including liability and collision insurance.\n",
      "\n",
      "If you or Mary have any questions regarding these options, please feel free to reach out to our Underwriting team for further clarification.\n",
      "\n",
      "Thank you once again for your continued partnership.\n",
      "\n",
      "Best regards,\n",
      "\n",
      "Underwriting AI Agent\n"
     ]
    }
   ],
   "source": [
    "underwriter_review = f\"\"\"\n",
    "Past Insurance records on file for Mary:\n",
    "1. Mary has made three glass claims on her car insurance policy in the past five years. \\\n",
    "2. Otherwise, she has a perfect driving record. \\\n",
    "3. We paid $1,500 in glass claims in the past five years, but Mary paid only $300 per year for glass coverage. \\\n",
    "4. Her deductible as of now is only $100. \\\n",
    "\n",
    "Decision upon review by underwriter:\n",
    "1. New conditions to Mary upon her renewal. \n",
    "2. We agree to offer her full coverage, but it will increase her deductible to $500.\n",
    "3. Another alternative option will be to renew the policy with limited glass coverage.\n",
    "\n",
    "Explanation of the underwriter's decision:\n",
    "1. The risk of insuring Mary is higher now due to the past incidents.\n",
    "2. The two options will help us providing Mary with the other coverage she needs, such as liability and collision insurance.\n",
    "\"\"\"\n",
    "\n",
    "prompt = f\"\"\"\n",
    "Your task is to send an email to the Insurance Agent \\\n",
    "and convey the outcome of the underwriter's review comments \\\n",
    "about the Agent's customer, Mary's insurance renewal decision.\n",
    "The underwriter review is below delimited by ```.\n",
    "\n",
    "Generate a reply to thank the Insurance Agent for \\\n",
    "submitting the insurance renewal for Mary, the customer.\n",
    "If the sentiment is positive or neutral, thank the Agent for bringing in the customer.\n",
    "If the sentiment is negative, apologize and suggest that \\\n",
    "they can reach out to Underwriting for any questions. \n",
    "Make sure to use specific details from the review.\n",
    "Write in a concise and professional tone.\n",
    "Sign the email as `Underwriting AI Agent`.\n",
    "Underwriter review: ```{underwriter_review}```\n",
    "\"\"\"\n",
    "my_prompt = [\n",
    "              {\n",
    "                \"role\": \"user\", \n",
    "                \"content\": f\"{prompt}\"\n",
    "                }\n",
    "              ]      \n",
    "tokens_used, finish_reason, completion = get_chat_completion(\n",
    "                                                the_client=client, \n",
    "                                                the_model=THE_MODEL,\n",
    "                                                the_messages=my_prompt)\n",
    "#print(f\"Completion: {completion}\\nTokens used: {tokens_used}\\nFinish Reason: {finish_reason}\")\n",
    "print(f'{completion}')"
   ]
  },
  {
   "cell_type": "markdown",
   "id": "fb784252",
   "metadata": {},
   "source": [
    "## Generate Marketing Content for Auto Insurance"
   ]
  },
  {
   "cell_type": "code",
   "execution_count": 3,
   "id": "3726c6b7",
   "metadata": {},
   "outputs": [
    {
     "name": "stdout",
     "output_type": "stream",
     "text": [
      "### Marketing Campaign: \"Drive with Confidence, Insure with Compassion\"\n",
      "\n",
      "#### Campaign Overview:\n",
      "Responsible Insurance Inc. is not just about providing insurance; it's about offering peace of mind with compassion and empathy. Our campaign, \"Drive with Confidence, Insure with Compassion,\" aims to highlight our commitment to customer satisfaction, our long-standing reputation, and the financial benefits of choosing us as your auto insurance provider.\n",
      "\n",
      "#### Campaign Objectives:\n",
      "1. **Increase Brand Awareness**: Reinforce our position as a leader in the insurance industry.\n",
      "2. **Drive Customer Acquisition**: Encourage potential customers to switch to Responsible Insurance Inc. by highlighting our competitive pricing and easy sign-up process.\n",
      "3. **Enhance Customer Loyalty**: Strengthen relationships with existing customers by showcasing our commitment to customer satisfaction and empathy.\n",
      "\n",
      "#### Target Audience:\n",
      "- Individuals seeking reliable and affordable auto insurance.\n",
      "- Current policyholders looking for better customer service and savings.\n",
      "- Young adults and new drivers who value ease of access and digital solutions.\n",
      "\n",
      "#### Key Messages:\n",
      "1. **Compassionate Coverage**: \"At Responsible Insurance Inc., we believe in coverage with compassion and empathy. Our customers rate us 'Excellent' because we care.\"\n",
      "   \n",
      "2. **Customer Satisfaction**: \"Ranked highest in Customer Satisfaction, we are committed to providing you with the best service possible.\"\n",
      "\n",
      "3. **Trusted and Proven**: \"With over 110 years of experience, we are a trusted name in the industry, recognized as a leader in the 2023 Gartner Magic Quadrant for P&C Insurance.\"\n",
      "\n",
      "4. **Top-Ranked Provider**: \"Proud to be one of the top 3 Auto Insurance Companies of 2022, as recognized by Forbes Media LLC.\"\n",
      "\n",
      "5. **Affordable and Accessible**: \"Save at least 20% on your car insurance with us. It's just 3 clicks away to insure your car today!\"\n",
      "\n",
      "#### Campaign Tactics:\n",
      "1. **Digital Advertising**: \n",
      "   - Use targeted ads on social media platforms like Facebook, Instagram, and LinkedIn to reach potential customers.\n",
      "   - Google Ads focusing on keywords related to affordable and compassionate auto insurance.\n",
      "\n",
      "2. **Content Marketing**:\n",
      "   - Publish blog posts and articles on our website about the importance of compassionate insurance and customer satisfaction.\n",
      "   - Share customer testimonials and success stories to build trust and credibility.\n",
      "\n",
      "3. **Email Marketing**:\n",
      "   - Send personalized emails to current and potential customers highlighting our savings, easy sign-up process, and customer satisfaction ratings.\n",
      "\n",
      "4. **Partnerships and Sponsorships**:\n",
      "   - Partner with driving schools and automotive companies to offer exclusive discounts and promotions.\n",
      "   - Sponsor community events to increase local brand visibility and engagement.\n",
      "\n",
      "5. **Public Relations**:\n",
      "   - Issue press releases about our recent accolades and customer satisfaction achievements.\n",
      "   - Engage with industry influencers and media outlets to share our story and values.\n",
      "\n",
      "#### Success Metrics:\n",
      "- Increase in new policy sign-ups by 20% over the campaign period.\n",
      "- Improvement in customer retention rates by 10%.\n",
      "- Enhanced brand recognition and positive sentiment in customer feedback and reviews.\n",
      "\n",
      "#### Timeline:\n",
      "- **Pre-Launch (2 weeks)**: Finalize campaign materials, set up digital ads, and prepare email marketing lists.\n",
      "- **Launch (3 months)**: Roll out digital ads, content marketing, and email campaigns. Begin partnerships and sponsorships.\n",
      "- **Post-Campaign (1 month)**: Analyze campaign performance, gather customer feedback, and adjust strategies for future campaigns.\n",
      "\n",
      "By focusing on our strengths and values, the \"Drive with Confidence, Insure with Compassion\" campaign will position Responsible Insurance Inc. as the go-to choice for those seeking reliable, empathetic, and affordable auto insurance.\n"
     ]
    }
   ],
   "source": [
    "highlights = f\"\"\"\n",
    "Our coverage is with compassion and empathy.\n",
    "Our customers rate us 'Excellent' on Insurance Review (January 2023 issue).\n",
    "We rank highest in Customer Satisfaction by a Consumer Research Poll (Nov 4, 2022)\n",
    "We are ranked as one of the top 3 Auto Insurance Companies of 2022 (Forbes Media LLC, Sept 4, 2021).\n",
    "We are a Leader in 2023 Gartner Magic Quadrant for P&C Insurance.\n",
    "We are helping people for over 110 years making us a trusted name in the industry.\n",
    "We provide you more ways to save on insurance. You pay at least 20% less when insuring your car with us.\n",
    "Is is just 3 clicks away to insure your car today with us.\n",
    "\"\"\"\n",
    "\n",
    "prompt = f\"\"\"\n",
    "Your task is to generate a marketing campaign for Responsible Insurance Inc. \\\n",
    "based on the following highlights of our organization delimited by ```.\n",
    "\n",
    "```{highlights}```\n",
    "\"\"\"\n",
    "\n",
    "my_prompt = [\n",
    "              {\n",
    "                \"role\": \"user\", \n",
    "                \"content\": f\"{prompt}\"\n",
    "                }\n",
    "              ]      \n",
    "tokens_used, finish_reason, completion = get_chat_completion(\n",
    "                                                the_client=client, \n",
    "                                                the_model=THE_MODEL,\n",
    "                                                the_messages=my_prompt)\n",
    "#print(f\"Completion: {completion}\\nTokens used: {tokens_used}\\nFinish Reason: {finish_reason}\")\n",
    "print(f'{completion}')"
   ]
  },
  {
   "cell_type": "markdown",
   "id": "340b8d9f",
   "metadata": {},
   "source": [
    "#### Generate a more catchy short campaign"
   ]
  },
  {
   "cell_type": "code",
   "execution_count": 4,
   "id": "29b71a9b",
   "metadata": {},
   "outputs": [
    {
     "name": "stdout",
     "output_type": "stream",
     "text": [
      "\"Trusted, compassionate coverage with savings and satisfaction. Insure effortlessly today!\"\n"
     ]
    }
   ],
   "source": [
    "highlights = f\"\"\"\n",
    "Our coverage is with compassion and empathy.\n",
    "Our customers rate us 'Excellent' on Insurance Review (January 2023 issue).\n",
    "We rank highest in Customer Satisfaction by a Consumer Research Poll (Nov 4, 2022)\n",
    "We are ranked as one of the top 3 Auto Insurance Companies of 2022 (Forbes Media LLC, Sept 4, 2021).\n",
    "We are a Leader in 2023 Gartner Magic Quadrant for P&C Insurance.\n",
    "We are helping people for over 110 years making us a trusted name in the industry.\n",
    "We provide you more ways to save on insurance. You pay at least 20% less when insuring your car with us.\n",
    "Is is just 3 clicks away to insure your car today with us.\n",
    "\"\"\"\n",
    "\n",
    "prompt = f\"\"\"\n",
    "Your task is to generate a marketing campaign in 10 words, for Responsible Insurance Inc. \\\n",
    "based on the following highlights of our organization delimited by ```.\n",
    "\n",
    "```{highlights}```\n",
    "\"\"\"\n",
    "\n",
    "my_prompt = [\n",
    "              {\n",
    "                \"role\": \"user\", \n",
    "                \"content\": f\"{prompt}\"\n",
    "                }\n",
    "              ]      \n",
    "tokens_used, finish_reason, completion = get_chat_completion(\n",
    "                                                the_client=client, \n",
    "                                                the_model=THE_MODEL,\n",
    "                                                the_messages=my_prompt)\n",
    "#print(f\"Completion: {completion}\\nTokens used: {tokens_used}\\nFinish Reason: {finish_reason}\")\n",
    "print(f'{completion}')"
   ]
  },
  {
   "cell_type": "markdown",
   "id": "cfc3e709",
   "metadata": {},
   "source": [
    "## Product Recommendation (Few-Shot)"
   ]
  },
  {
   "cell_type": "code",
   "execution_count": 5,
   "id": "41bfd0f1",
   "metadata": {},
   "outputs": [
    {
     "name": "stdout",
     "output_type": "stream",
     "text": [
      "Recommendation: pants\n"
     ]
    }
   ],
   "source": [
    "prompt = f\"\"\"\n",
    "Generate product recommendations:\n",
    "\n",
    "Product: table, chair, plate\n",
    "Recommendation: utensils\n",
    "###\n",
    "Product: skis, skateboard, bike\n",
    "Recommendation: golf clubs\n",
    "###\n",
    "Product: shoes, shirt, hat\n",
    "\"\"\"\n",
    "\n",
    "my_prompt = [\n",
    "              {\n",
    "                \"role\": \"user\", \n",
    "                \"content\": f\"{prompt}\"\n",
    "                }\n",
    "              ]      \n",
    "tokens_used, finish_reason, completion = get_chat_completion(\n",
    "                                                the_client=client, \n",
    "                                                the_model=THE_MODEL,\n",
    "                                                the_messages=my_prompt)\n",
    "#print(f\"Completion: {completion}\\nTokens used: {tokens_used}\\nFinish Reason: {finish_reason}\")\n",
    "print(f'{completion}')"
   ]
  },
  {
   "cell_type": "code",
   "execution_count": null,
   "id": "9f9a5d89",
   "metadata": {},
   "outputs": [],
   "source": []
  }
 ],
 "metadata": {
  "kernelspec": {
   "display_name": "Python 3 (ipykernel)",
   "language": "python",
   "name": "python3"
  },
  "language_info": {
   "codemirror_mode": {
    "name": "ipython",
    "version": 3
   },
   "file_extension": ".py",
   "mimetype": "text/x-python",
   "name": "python",
   "nbconvert_exporter": "python",
   "pygments_lexer": "ipython3",
   "version": "3.11.9"
  }
 },
 "nbformat": 4,
 "nbformat_minor": 5
}
