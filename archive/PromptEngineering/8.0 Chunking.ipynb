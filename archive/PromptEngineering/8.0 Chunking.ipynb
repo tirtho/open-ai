{
 "cells": [
  {
   "cell_type": "markdown",
   "metadata": {},
   "source": [
    "# Prompt Chunking\n",
    "\n",
    "## Setup\n",
    "#### Follow [README](https://github.com/tirtho/open-ai/blob/main/README.md) and perform setup before running the notebooks\n",
    "\n",
    "Reference : \n",
    "- [Azure Open AI](https://learn.microsoft.com/en-us/azure/cognitive-services/openai/overview)\n",
    "- [NAIC P & C Insurance Industries Full Year Report, 2021](https://content.naic.org/sites/default/files/inline-files/2021%20Annual%20Property%20%26%20Casualty%20and%20Title%20Industry%20Report.pdf)\n",
    "\n",
    "#### Load the API key and relevant Python libaries."
   ]
  },
  {
   "cell_type": "code",
   "execution_count": 1,
   "metadata": {},
   "outputs": [
    {
     "name": "stdout",
     "output_type": "stream",
     "text": [
      "\n",
      "Got OPENAI API Key from environment variable\n",
      "Connecting to Open AI returned status as True\n"
     ]
    }
   ],
   "source": [
    "import openai\n",
    "import sys\n",
    "\n",
    "from azure_openai_setup import get_openai_client, get_config_from_os_env, get_chat_completion\n",
    "\n",
    "THE_MODEL = 'gpt-4o'\n",
    "endpoint, key, version = get_config_from_os_env()\n",
    "#print(f\"{endpoint}, {key}, {version}\")\n",
    "status, client = get_openai_client(aoai_endpoint = endpoint, \n",
    "                                   aoai_api_key = key, \n",
    "                                   aoai_version = version\n",
    "                                  )\n",
    "print(f\"Connecting to Open AI returned status as {status}\")"
   ]
  },
  {
   "cell_type": "markdown",
   "metadata": {},
   "source": [
    "## Chunking\n",
    "Break your large documents into chunks and summarize the individual chunks first. Then create a Summary of the summaries of the individual chunks to get the final Summary."
   ]
  },
  {
   "cell_type": "code",
   "execution_count": 2,
   "metadata": {},
   "outputs": [],
   "source": [
    "IndustryReportPart1 = \"\"\"\n",
    "FINANCIAL RESULTS 2021 (in million dollars, except for percent):\n",
    "- Item | YoY Change | 2021 | 2020\n",
    "- Net Premium Written | 9.2% | 719,815 | 658,913\n",
    "- Net Premiums Earned | 7.4% | 693,664 | 646,014\n",
    "- Net Losses Incurred | 12.8% | 432,474 | 383,308\n",
    "- Loss Expenses Incurred | 1.1% | 70,638 | 69,888\n",
    "- Underwriting Expenses | 5.3% | 189,487 | 179,964\n",
    "- Underwrting Gain (Loss) | NM | (39) | 12,100\n",
    "- Net Loss Ratio | 2.4 pts | 72.5% | 70.2%\n",
    "- Expense Ratio | (1.0) pts | 26.3% | 27.3%\n",
    "- Combined Ratio | 0.9 pts | 99.6% | 98.7%\n",
    "- Net Investment Income Earned | 2.6% | 52,932 | 51,596  \n",
    "- Net Realized Gains (Loss) | 64.5% | 18,200 | 11,064\n",
    "- Net Investment Gain (Loss) | 13.5% | 71,132 | 62,660\n",
    "- Investment Yield | (0.15) pts | 2.60% | 2.75% \n",
    "- Total Other Income | 240.0% | 3,514 | 1,034\n",
    "- Net Income | (4.9%) | 60,537 | 59,196 \n",
    "- Return on Revenue | (0.4) pts | 7.9% | 8.4%\n",
    "- Policyholders' Surplus | 2 12.8% | 1,077,866 | 955,136\n",
    "- Return on Surplus | (0.5) pts | 6.0% | 6.4% \n",
    "\"\"\""
   ]
  },
  {
   "cell_type": "markdown",
   "metadata": {},
   "source": [
    "#### Get Summary of part 1"
   ]
  },
  {
   "cell_type": "code",
   "execution_count": 3,
   "metadata": {},
   "outputs": [
    {
     "name": "stdout",
     "output_type": "stream",
     "text": [
      "The financial results for 2021, as reported in the NAIC Report, indicate several key trends and performance metrics in the insurance industry:\n",
      "\n",
      "1. **Net Premium Growth**: There was a significant increase in net premiums written, which grew by 9.2% from $658,913 million in 2020 to $719,815 million in 2021. Similarly, net premiums earned rose by 7.4%, reaching $693,664 million compared to $646,014 million in the previous year.\n",
      "\n",
      "2. **Investment Performance**: The net investment income earned saw a modest increase of 2.6%, totaling $52,932 million in 2021, up from $51,596 million in 2020. Notably, net realized gains surged by 64.5% to $18,200 million. Overall, the net investment gain improved by 13.5%, amounting to $71,132 million. However, the investment yield slightly decreased by 0.15 percentage points to 2.60%.\n",
      "\n",
      "3. **Loss Ratio**: The net loss ratio increased by 2.4 percentage points, rising from 70.2% in 2020 to 72.5% in 2021. This indicates a higher proportion of premiums were used to cover losses.\n",
      "\n",
      "4. **Expense Ratio**: The expense ratio improved, decreasing by 1.0 percentage point to 26.3% in 2021 from 27.3% in 2020, reflecting better control over underwriting expenses.\n",
      "\n",
      "5. **Combined Ratio**: The combined ratio, which measures the overall underwriting profitability, increased by 0.9 percentage points to 99.6% in 2021, up from 98.7% in 2020. This suggests a slight deterioration in underwriting performance, as a combined ratio above 100% indicates an underwriting loss.\n",
      "\n",
      "Overall, the report highlights growth in premiums and investment gains, alongside challenges in loss ratios and underwriting profitability.\n"
     ]
    }
   ],
   "source": [
    "prompt = f\"\"\"\n",
    "Create a Summary of the Financial Results section based on the data \\\n",
    "provided in the NAIC Report delimited by triple backticks.\n",
    "\n",
    "The Summary should contain Net Premium Growth between the years, \\\n",
    "performance in Investments, Loss Ratio, Expense Ratio and Combined Ratio\n",
    "\n",
    "NAIC Report: ```{IndustryReportPart1}```\n",
    "\"\"\"\n",
    "\n",
    "my_prompt = [\n",
    "              {\n",
    "                \"role\": \"user\", \n",
    "                \"content\": f\"{prompt}\"\n",
    "                }\n",
    "              ]      \n",
    "tokens_used, finish_reason, completion1 = get_chat_completion(\n",
    "                                                the_client=client, \n",
    "                                                the_model=THE_MODEL,\n",
    "                                                the_messages=my_prompt)\n",
    "#print(f\"Completion: {completion}\\nTokens used: {tokens_used}\\nFinish Reason: {finish_reason}\")\n",
    "print(f'{completion1}')"
   ]
  },
  {
   "cell_type": "code",
   "execution_count": 5,
   "metadata": {},
   "outputs": [],
   "source": [
    "IndustryReportPart2 = \"\"\"\n",
    "UNDERWRITING OPERATIONS:\n",
    "Catastrophes\n",
    "According to the National Centers for Environmental\n",
    "Information, National Oceanic and Atmospheric\n",
    "Administration (NOAA), there were 20 weather/climate\n",
    "disaster events with total losses of more than $1 billion in the U.S. in 2021. These events included 11 severe storms, 4\n",
    "tropical cyclones, 2 floods, 1 wildfire event, and 1 winter storm. Overall costs for these events were $148.0 billion. The\n",
    "costliest events are discussed below.\n",
    "\n",
    "INVESTMENT OPERATIONS:\n",
    "Bonds continued to comprise the majority of cash and\n",
    "invested assets accounting for 48.6% of the total at\n",
    "December 31, 2021. However, the low interest rate\n",
    "environment has pressured insurers to seek investment\n",
    "gains through more risky investments. The industry’s\n",
    "cash and invested \n",
    "\n",
    "EMERGING RISKS:\n",
    "Social Inflation\n",
    "Social inflation is a term used to describe the potential for rising insurance claim costs resulting from increased\n",
    "litigation, broader definitions of liability, more plaintiff-friendly legal decisions, and larger compensatory jury\n",
    "awards. Social inflation has the potential to emerge through both traditional product liability exposures (e.g., asbestos\n",
    "or opioids) as well as behavioral liability exposures (e.g., breach of privacy, sexual misconduct, or corporate\n",
    "misconduct). In addition, social inflation exposures can emerge under various lines of coverage (e.g., general liability,\n",
    "products liability, or workers’ compensation).\n",
    "Economic Inflation\n",
    "The U.S. economy has shown signs of rising inflation, with various measures spiking to their highest levels in over forty\n",
    "years. Rising economic inflation in recent months has had impact on loss costs, which could impact reserve adequacy\n",
    "and underwriting profitability for many lines of business. This has been more evident in property coverages as supply\n",
    "chain issues have led to higher costs for building materials, replacement parts, and labor. In addition, rising inflation\n",
    "has the potential to impact the value of a wide range of assets held by insurers, particularly fixed income holdings that\n",
    "are not able to be held to maturity. Finally, inflation has the potential to lead to rapidly rising interest rates, which\n",
    "could drive increased surrender activity, margin calls on certain derivatives, and have other significant life insurance\n",
    "product impacts\n",
    "\"\"\""
   ]
  },
  {
   "cell_type": "markdown",
   "metadata": {},
   "source": [
    "#### Get Summary of part 2"
   ]
  },
  {
   "cell_type": "code",
   "execution_count": 6,
   "metadata": {},
   "outputs": [
    {
     "name": "stdout",
     "output_type": "stream",
     "text": [
      "**Summary of the NAIC Report**\n",
      "\n",
      "**Underwriting Operations: Catastrophes**\n",
      "In 2021, the United States experienced 20 significant weather and climate disaster events, each causing over $1 billion in losses. These included 11 severe storms, 4 tropical cyclones, 2 floods, 1 wildfire, and 1 winter storm, with total costs amounting to $148 billion. The report highlights the financial impact of these events on the insurance industry.\n",
      "\n",
      "**Investment Operations**\n",
      "Bonds remain the predominant form of cash and invested assets, making up 48.6% of the total as of December 31, 2021. However, the persistent low interest rate environment has compelled insurers to pursue higher returns through riskier investments, affecting the industry's investment strategies.\n",
      "\n",
      "**Emerging Risks**\n",
      "- **Social Inflation**: This refers to the rising insurance claim costs due to increased litigation, broader liability definitions, and more favorable legal outcomes for plaintiffs. It affects various liability exposures, including product and behavioral liabilities, and can impact multiple lines of insurance coverage.\n",
      "- **Economic Inflation**: The U.S. economy is experiencing its highest inflation levels in over four decades, influencing loss costs and potentially affecting reserve adequacy and underwriting profitability. This is particularly evident in property coverages due to supply chain disruptions. Economic inflation also threatens the value of insurers' assets, especially fixed income holdings, and could lead to increased interest rates, affecting life insurance products and other financial operations.\n"
     ]
    }
   ],
   "source": [
    "prompt = f\"\"\"\n",
    "Create a Summary of the Different sections of the report based on the data \\\n",
    "provided in the NAIC Report delimited by triple backticks.\n",
    "\n",
    "The Summary should contain summary of the individual sections. \\\n",
    "\n",
    "NAIC Report: ```{IndustryReportPart2}```\n",
    "\"\"\"\n",
    "\n",
    "my_prompt = [\n",
    "              {\n",
    "                \"role\": \"user\", \n",
    "                \"content\": f\"{prompt}\"\n",
    "                }\n",
    "              ]      \n",
    "tokens_used, finish_reason, completion2 = get_chat_completion(\n",
    "                                                the_client=client, \n",
    "                                                the_model=THE_MODEL,\n",
    "                                                the_messages=my_prompt)\n",
    "#print(f\"Completion: {completion}\\nTokens used: {tokens_used}\\nFinish Reason: {finish_reason}\")\n",
    "print(f'{completion2}')"
   ]
  },
  {
   "cell_type": "markdown",
   "metadata": {},
   "source": [
    "#### Now get the final Summary of the two Summaries"
   ]
  },
  {
   "cell_type": "code",
   "execution_count": 7,
   "metadata": {},
   "outputs": [
    {
     "name": "stdout",
     "output_type": "stream",
     "text": [
      "The 2021 NAIC Report highlights key trends and challenges in the insurance industry. There was notable growth in net premiums, with a 9.2% increase in net premiums written and a 7.4% rise in net premiums earned. Investment performance showed a modest 2.6% increase in net investment income, with significant gains in net realized investments. However, the investment yield slightly decreased. The net loss ratio increased, indicating higher losses, while the expense ratio improved, reflecting better control over underwriting expenses. The combined ratio rose slightly, suggesting a minor decline in underwriting profitability.\n",
      "\n",
      "The report also underscores the impact of 20 major weather and climate disasters in the U.S., costing $148 billion, which significantly affected the insurance sector. Bonds remain the primary investment, but low interest rates have pushed insurers towards riskier investments. Emerging risks include social inflation, driven by increased litigation and broader liability definitions, and economic inflation, which is affecting loss costs, reserve adequacy, and the value of insurers' assets. Economic inflation is particularly impacting property coverages and could lead to higher interest rates, affecting life insurance and other financial operations.\n"
     ]
    }
   ],
   "source": [
    "prompt = f\"\"\"\n",
    "Create a Summary from the contents in response1 and response2, each delimited by triple backticks.\n",
    "\n",
    "```{completion1}```\n",
    "\n",
    "```{completion2}```\n",
    "\"\"\"\n",
    "\n",
    "my_prompt = [\n",
    "              {\n",
    "                \"role\": \"user\", \n",
    "                \"content\": f\"{prompt}\"\n",
    "                }\n",
    "              ]      \n",
    "tokens_used, finish_reason, completion3 = get_chat_completion(\n",
    "                                                the_client=client, \n",
    "                                                the_model=THE_MODEL,\n",
    "                                                the_messages=my_prompt)\n",
    "#print(f\"Completion: {completion}\\nTokens used: {tokens_used}\\nFinish Reason: {finish_reason}\")\n",
    "print(f'{completion3}')"
   ]
  },
  {
   "cell_type": "markdown",
   "metadata": {},
   "source": [
    "#### Now get the Summary of the entire text in one go and then compare with the above\n",
    "It will be great to use Embeddings to compare if the two are confirmed similar!"
   ]
  },
  {
   "cell_type": "code",
   "execution_count": 8,
   "metadata": {},
   "outputs": [
    {
     "name": "stdout",
     "output_type": "stream",
     "text": [
      "The 2021 NAIC Industry Report highlights key financial results, underwriting operations, investment operations, and emerging risks in the insurance sector.\n",
      "\n",
      "**Financial Results:**\n",
      "- Net Premium Written increased by 9.2% to $719.8 billion.\n",
      "- Net Premiums Earned rose by 7.4% to $693.7 billion.\n",
      "- Net Losses Incurred saw a significant increase of 12.8% to $432.5 billion.\n",
      "- Underwriting Expenses grew by 5.3% to $189.5 billion, resulting in an underwriting loss of $39 million.\n",
      "- The Combined Ratio slightly increased to 99.6%, indicating a marginal decline in underwriting profitability.\n",
      "- Net Investment Income Earned increased by 2.6% to $52.9 billion, while Net Realized Gains surged by 64.5% to $18.2 billion.\n",
      "- Overall, Net Income decreased by 4.9% to $60.5 billion, with a Return on Revenue of 7.9%.\n",
      "\n",
      "**Underwriting Operations:**\n",
      "- The U.S. experienced 20 significant weather/climate disaster events in 2021, costing $148 billion, including severe storms, tropical cyclones, floods, a wildfire, and a winter storm.\n",
      "\n",
      "**Investment Operations:**\n",
      "- Bonds made up 48.6% of cash and invested assets by the end of 2021. The low interest rate environment has pushed insurers towards riskier investments to achieve gains.\n",
      "\n",
      "**Emerging Risks:**\n",
      "- **Social Inflation:** Rising insurance claim costs due to increased litigation and broader liability definitions.\n",
      "- **Economic Inflation:** Rising inflation impacts loss costs, reserve adequacy, and underwriting profitability, particularly in property coverages. It also affects asset values, especially fixed income holdings, and could lead to increased interest rates, impacting life insurance products.\n",
      "\n",
      "Overall, the report underscores the challenges and adjustments faced by the insurance industry in 2021, driven by environmental events, economic conditions, and evolving risk landscapes.\n"
     ]
    }
   ],
   "source": [
    "IndustryReport = \"\"\"\n",
    "FINANCIAL RESULTS 2021 (in million dollars, except for percent):\n",
    "- Item | YoY Change | 2021 | 2020\n",
    "- Net Premium Written | 9.2% | 719,815 | 658,913\n",
    "- Net Premiums Earned | 7.4% | 693,664 | 646,014\n",
    "- Net Losses Incurred | 12.8% | 432,474 | 383,308\n",
    "- Loss Expenses Incurred | 1.1% | 70,638 | 69,888\n",
    "- Underwriting Expenses | 5.3% | 189,487 | 179,964\n",
    "- Underwrting Gain (Loss) | NM | (39) | 12,100\n",
    "- Net Loss Ratio | 2.4 pts | 72.5% | 70.2%\n",
    "- Expense Ratio | (1.0) pts | 26.3% | 27.3%\n",
    "- Combined Ratio | 0.9 pts | 99.6% | 98.7%\n",
    "- Net Investment Income Earned | 2.6% | 52,932 | 51,596  \n",
    "- Net Realized Gains (Loss) | 64.5% | 18,200 | 11,064\n",
    "- Net Investment Gain (Loss) | 13.5% | 71,132 | 62,660\n",
    "- Investment Yield | (0.15) pts | 2.60% | 2.75% \n",
    "- Total Other Income | 240.0% | 3,514 | 1,034\n",
    "- Net Income | (4.9%) | 60,537 | 59,196 \n",
    "- Return on Revenue | (0.4) pts | 7.9% | 8.4%\n",
    "- Policyholders' Surplus | 2 12.8% | 1,077,866 | 955,136\n",
    "- Return on Surplus | (0.5) pts | 6.0% | 6.4% \n",
    "\n",
    "UNDERWRITING OPERATIONS:\n",
    "Catastrophes\n",
    "According to the National Centers for Environmental\n",
    "Information, National Oceanic and Atmospheric\n",
    "Administration (NOAA), there were 20 weather/climate\n",
    "disaster events with total losses of more than $1 billion in the U.S. in 2021. These events included 11 severe storms, 4\n",
    "tropical cyclones, 2 floods, 1 wildfire event, and 1 winter storm. Overall costs for these events were $148.0 billion. The\n",
    "costliest events are discussed below.\n",
    "\n",
    "INVESTMENT OPERATIONS:\n",
    "Bonds continued to comprise the majority of cash and\n",
    "invested assets accounting for 48.6% of the total at\n",
    "December 31, 2021. However, the low interest rate\n",
    "environment has pressured insurers to seek investment\n",
    "gains through more risky investments. The industry’s\n",
    "cash and invested \n",
    "\n",
    "EMERGING RISKS:\n",
    "Social Inflation\n",
    "Social inflation is a term used to describe the potential for rising insurance claim costs resulting from increased\n",
    "litigation, broader definitions of liability, more plaintiff-friendly legal decisions, and larger compensatory jury\n",
    "awards. Social inflation has the potential to emerge through both traditional product liability exposures (e.g., asbestos\n",
    "or opioids) as well as behavioral liability exposures (e.g., breach of privacy, sexual misconduct, or corporate\n",
    "misconduct). In addition, social inflation exposures can emerge under various lines of coverage (e.g., general liability,\n",
    "products liability, or workers’ compensation).\n",
    "Economic Inflation\n",
    "The U.S. economy has shown signs of rising inflation, with various measures spiking to their highest levels in over forty\n",
    "years. Rising economic inflation in recent months has had impact on loss costs, which could impact reserve adequacy\n",
    "and underwriting profitability for many lines of business. This has been more evident in property coverages as supply\n",
    "chain issues have led to higher costs for building materials, replacement parts, and labor. In addition, rising inflation\n",
    "has the potential to impact the value of a wide range of assets held by insurers, particularly fixed income holdings that\n",
    "are not able to be held to maturity. Finally, inflation has the potential to lead to rapidly rising interest rates, which\n",
    "could drive increased surrender activity, margin calls on certain derivatives, and have other significant life insurance\n",
    "product impacts\n",
    "\"\"\"\n",
    "\n",
    "prompt = f\"\"\"\n",
    "Create a Summary from the contents in IndustryReport delimited by triple backticks.\n",
    "\n",
    "NAIC Report: ```{IndustryReport}```\n",
    "\"\"\"\n",
    "\n",
    "my_prompt = [\n",
    "              {\n",
    "                \"role\": \"user\", \n",
    "                \"content\": f\"{prompt}\"\n",
    "                }\n",
    "              ]      \n",
    "tokens_used, finish_reason, completion4 = get_chat_completion(\n",
    "                                                the_client=client, \n",
    "                                                the_model=THE_MODEL,\n",
    "                                                the_messages=my_prompt)\n",
    "#print(f\"Completion: {completion}\\nTokens used: {tokens_used}\\nFinish Reason: {finish_reason}\")\n",
    "print(f'{completion4}')"
   ]
  },
  {
   "cell_type": "markdown",
   "metadata": {},
   "source": [
    "## To Do Exercise\n",
    "Try to create the summary of the summaries of the chunks and a summary of the entire text and use embeddings to compare results and check if these two summaries (one direct and the other obtained via chunking) are similar!"
   ]
  },
  {
   "cell_type": "code",
   "execution_count": 10,
   "metadata": {},
   "outputs": [
    {
     "name": "stdout",
     "output_type": "stream",
     "text": [
      "Yes\n"
     ]
    }
   ],
   "source": [
    "prompt = f\"\"\"\n",
    "Compare the two documents delimited by triple backticks and infer if both are saying the same thing. \n",
    "Answer in one word, either 'yes' or 'no'.\n",
    "\n",
    "Document1: ```{completion3}```\n",
    "Document2: ```{completion4}```\n",
    "\"\"\"\n",
    "\n",
    "my_prompt = [\n",
    "              {\n",
    "                \"role\": \"user\", \n",
    "                \"content\": f\"{prompt}\"\n",
    "                }\n",
    "              ]      \n",
    "tokens_used, finish_reason, completion5 = get_chat_completion(\n",
    "                                                the_client=client, \n",
    "                                                the_model=THE_MODEL,\n",
    "                                                the_messages=my_prompt)\n",
    "#print(f\"Completion: {completion}\\nTokens used: {tokens_used}\\nFinish Reason: {finish_reason}\")\n",
    "print(f'{completion5}')"
   ]
  },
  {
   "cell_type": "code",
   "execution_count": null,
   "metadata": {},
   "outputs": [],
   "source": []
  }
 ],
 "metadata": {
  "kernelspec": {
   "display_name": "Python 3 (ipykernel)",
   "language": "python",
   "name": "python3"
  },
  "language_info": {
   "codemirror_mode": {
    "name": "ipython",
    "version": 3
   },
   "file_extension": ".py",
   "mimetype": "text/x-python",
   "name": "python",
   "nbconvert_exporter": "python",
   "pygments_lexer": "ipython3",
   "version": "3.11.9"
  }
 },
 "nbformat": 4,
 "nbformat_minor": 2
}
